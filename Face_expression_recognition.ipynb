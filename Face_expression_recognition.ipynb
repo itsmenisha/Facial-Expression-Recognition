{
  "nbformat": 4,
  "nbformat_minor": 0,
  "metadata": {
    "colab": {
      "provenance": [],
      "gpuType": "T4",
      "authorship_tag": "ABX9TyNvNrLXyjZmCE6plMESRrnB",
      "include_colab_link": true
    },
    "kernelspec": {
      "name": "python3",
      "display_name": "Python 3"
    },
    "language_info": {
      "name": "python"
    },
    "accelerator": "GPU",
    }
  },
  "cells": [
    {
      "cell_type": "markdown",
      "metadata": {
        "id": "view-in-github",
        "colab_type": "text"
      },
      "source": [
        "<a href=\"https://colab.research.google.com/github/itsmenisha/Facial-Expression-Recognition/blob/main/Face_expression_recognition.ipynb\" target=\"_parent\"><img src=\"https://colab.research.google.com/assets/colab-badge.svg\" alt=\"Open In Colab\"/></a>"
      ]
    },
    {
      "cell_type": "markdown",
      "source": [
        "# **Face expression recognition**"
      ],
      "metadata": {
        "id": "OAF0UWrcuBQC"
      }
    },
    {
      "cell_type": "markdown",
      "source": [
        "## **1. Link your Kaggle account to Colab**"
      ],
      "metadata": {
        "id": "jhUr4SMpuKYY"
      }
    },
    {
      "cell_type": "code",
      "source": [
        "from google.colab import files\n",
        "files.upload()\n"
      ],
      "metadata": {
        "colab": {
          "base_uri": "https://localhost:8080/",
          "height": 91
        },
        "id": "CIAdlvgCuG96",
        "outputId": "0da4fe1a-3463-445a-ae25-0b235c0526e1"
      },
      "execution_count": 7,
      "outputs": [
        {
          "output_type": "display_data",
          "data": {
            "text/plain": [
              "<IPython.core.display.HTML object>"
            ],
            "text/html": [
              "\n",
              "     <input type=\"file\" id=\"files-9f5f579d-64b3-4bce-bc28-2999fe334eab\" name=\"files[]\" multiple disabled\n",
              "        style=\"border:none\" />\n",
              "     <output id=\"result-9f5f579d-64b3-4bce-bc28-2999fe334eab\">\n",
              "      Upload widget is only available when the cell has been executed in the\n",
              "      current browser session. Please rerun this cell to enable.\n",
              "      </output>\n",
              "      <script>// Copyright 2017 Google LLC\n",
              "//\n",
              "// Licensed under the Apache License, Version 2.0 (the \"License\");\n",
              "// you may not use this file except in compliance with the License.\n",
              "// You may obtain a copy of the License at\n",
              "//\n",
              "//      http://www.apache.org/licenses/LICENSE-2.0\n",
              "//\n",
              "// Unless required by applicable law or agreed to in writing, software\n",
              "// distributed under the License is distributed on an \"AS IS\" BASIS,\n",
              "// WITHOUT WARRANTIES OR CONDITIONS OF ANY KIND, either express or implied.\n",
              "// See the License for the specific language governing permissions and\n",
              "// limitations under the License.\n",
              "\n",
              "/**\n",
              " * @fileoverview Helpers for google.colab Python module.\n",
              " */\n",
              "(function(scope) {\n",
              "function span(text, styleAttributes = {}) {\n",
              "  const element = document.createElement('span');\n",
              "  element.textContent = text;\n",
              "  for (const key of Object.keys(styleAttributes)) {\n",
              "    element.style[key] = styleAttributes[key];\n",
              "  }\n",
              "  return element;\n",
              "}\n",
              "\n",
              "// Max number of bytes which will be uploaded at a time.\n",
              "const MAX_PAYLOAD_SIZE = 100 * 1024;\n",
              "\n",
              "function _uploadFiles(inputId, outputId) {\n",
              "  const steps = uploadFilesStep(inputId, outputId);\n",
              "  const outputElement = document.getElementById(outputId);\n",
              "  // Cache steps on the outputElement to make it available for the next call\n",
              "  // to uploadFilesContinue from Python.\n",
              "  outputElement.steps = steps;\n",
              "\n",
              "  return _uploadFilesContinue(outputId);\n",
              "}\n",
              "\n",
              "// This is roughly an async generator (not supported in the browser yet),\n",
              "// where there are multiple asynchronous steps and the Python side is going\n",
              "// to poll for completion of each step.\n",
              "// This uses a Promise to block the python side on completion of each step,\n",
              "// then passes the result of the previous step as the input to the next step.\n",
              "function _uploadFilesContinue(outputId) {\n",
              "  const outputElement = document.getElementById(outputId);\n",
              "  const steps = outputElement.steps;\n",
              "\n",
              "  const next = steps.next(outputElement.lastPromiseValue);\n",
              "  return Promise.resolve(next.value.promise).then((value) => {\n",
              "    // Cache the last promise value to make it available to the next\n",
              "    // step of the generator.\n",
              "    outputElement.lastPromiseValue = value;\n",
              "    return next.value.response;\n",
              "  });\n",
              "}\n",
              "\n",
              "/**\n",
              " * Generator function which is called between each async step of the upload\n",
              " * process.\n",
              " * @param {string} inputId Element ID of the input file picker element.\n",
              " * @param {string} outputId Element ID of the output display.\n",
              " * @return {!Iterable<!Object>} Iterable of next steps.\n",
              " */\n",
              "function* uploadFilesStep(inputId, outputId) {\n",
              "  const inputElement = document.getElementById(inputId);\n",
              "  inputElement.disabled = false;\n",
              "\n",
              "  const outputElement = document.getElementById(outputId);\n",
              "  outputElement.innerHTML = '';\n",
              "\n",
              "  const pickedPromise = new Promise((resolve) => {\n",
              "    inputElement.addEventListener('change', (e) => {\n",
              "      resolve(e.target.files);\n",
              "    });\n",
              "  });\n",
              "\n",
              "  const cancel = document.createElement('button');\n",
              "  inputElement.parentElement.appendChild(cancel);\n",
              "  cancel.textContent = 'Cancel upload';\n",
              "  const cancelPromise = new Promise((resolve) => {\n",
              "    cancel.onclick = () => {\n",
              "      resolve(null);\n",
              "    };\n",
              "  });\n",
              "\n",
              "  // Wait for the user to pick the files.\n",
              "  const files = yield {\n",
              "    promise: Promise.race([pickedPromise, cancelPromise]),\n",
              "    response: {\n",
              "      action: 'starting',\n",
              "    }\n",
              "  };\n",
              "\n",
              "  cancel.remove();\n",
              "\n",
              "  // Disable the input element since further picks are not allowed.\n",
              "  inputElement.disabled = true;\n",
              "\n",
              "  if (!files) {\n",
              "    return {\n",
              "      response: {\n",
              "        action: 'complete',\n",
              "      }\n",
              "    };\n",
              "  }\n",
              "\n",
              "  for (const file of files) {\n",
              "    const li = document.createElement('li');\n",
              "    li.append(span(file.name, {fontWeight: 'bold'}));\n",
              "    li.append(span(\n",
              "        `(${file.type || 'n/a'}) - ${file.size} bytes, ` +\n",
              "        `last modified: ${\n",
              "            file.lastModifiedDate ? file.lastModifiedDate.toLocaleDateString() :\n",
              "                                    'n/a'} - `));\n",
              "    const percent = span('0% done');\n",
              "    li.appendChild(percent);\n",
              "\n",
              "    outputElement.appendChild(li);\n",
              "\n",
              "    const fileDataPromise = new Promise((resolve) => {\n",
              "      const reader = new FileReader();\n",
              "      reader.onload = (e) => {\n",
              "        resolve(e.target.result);\n",
              "      };\n",
              "      reader.readAsArrayBuffer(file);\n",
              "    });\n",
              "    // Wait for the data to be ready.\n",
              "    let fileData = yield {\n",
              "      promise: fileDataPromise,\n",
              "      response: {\n",
              "        action: 'continue',\n",
              "      }\n",
              "    };\n",
              "\n",
              "    // Use a chunked sending to avoid message size limits. See b/62115660.\n",
              "    let position = 0;\n",
              "    do {\n",
              "      const length = Math.min(fileData.byteLength - position, MAX_PAYLOAD_SIZE);\n",
              "      const chunk = new Uint8Array(fileData, position, length);\n",
              "      position += length;\n",
              "\n",
              "      const base64 = btoa(String.fromCharCode.apply(null, chunk));\n",
              "      yield {\n",
              "        response: {\n",
              "          action: 'append',\n",
              "          file: file.name,\n",
              "          data: base64,\n",
              "        },\n",
              "      };\n",
              "\n",
              "      let percentDone = fileData.byteLength === 0 ?\n",
              "          100 :\n",
              "          Math.round((position / fileData.byteLength) * 100);\n",
              "      percent.textContent = `${percentDone}% done`;\n",
              "\n",
              "    } while (position < fileData.byteLength);\n",
              "  }\n",
              "\n",
              "  // All done.\n",
              "  yield {\n",
              "    response: {\n",
              "      action: 'complete',\n",
              "    }\n",
              "  };\n",
              "}\n",
              "\n",
              "scope.google = scope.google || {};\n",
              "scope.google.colab = scope.google.colab || {};\n",
              "scope.google.colab._files = {\n",
              "  _uploadFiles,\n",
              "  _uploadFilesContinue,\n",
              "};\n",
              "})(self);\n",
              "</script> "
            ]
          },
          "metadata": {}
        },
        {
          "output_type": "stream",
          "name": "stdout",
          "text": [
            "Saving kaggle.json to kaggle.json\n"
          ]
        },
        {
          "output_type": "execute_result",
          "data": {
            "text/plain": [
              "{'kaggle.json': b'{\"username\":\"nishakirangnawaly\",\"key\":\"df3330b369871234686291c20d56ee37\"}'}"
            ]
          },
          "metadata": {},
          "execution_count": 7
        }
      ]
    },
    {
      "cell_type": "code",
      "source": [
        "!mkdir -p ~/.kaggle\n",
        "!cp kaggle.json ~/.kaggle/\n",
        "!chmod 600 ~/.kaggle/kaggle.json"
      ],
      "metadata": {
        "id": "Iy_D-6UswBqX"
      },
      "execution_count": 8,
      "outputs": []
    },
    {
      "cell_type": "code",
      "source": [
        "!kaggle datasets download -d jonathanoheix/face-expression-recognition-dataset"
      ],
      "metadata": {
        "colab": {
          "base_uri": "https://localhost:8080/"
        },
        "id": "T9OkJH7MxZ7N",
        "outputId": "57827b1b-3050-4f50-c447-d4c293aac119"
      },
      "execution_count": 9,
      "outputs": [
        {
          "output_type": "stream",
          "name": "stdout",
          "text": [
            "Dataset URL: https://www.kaggle.com/datasets/jonathanoheix/face-expression-recognition-dataset\n",
            "License(s): unknown\n",
            "Downloading face-expression-recognition-dataset.zip to /content\n",
            "  0% 0.00/121M [00:00<?, ?B/s]\n",
            "100% 121M/121M [00:00<00:00, 1.31GB/s]\n"
          ]
        }
      ]
    },
    {
      "cell_type": "code",
      "source": [
        "import zipfile\n",
        "\n",
        "with zipfile.ZipFile(\"face-expression-recognition-dataset.zip\", 'r') as zip_ref:\n",
        "    zip_ref.extractall(\"face_expression_data\")"
      ],
      "metadata": {
        "id": "ULsdX78-xwS3"
      },
      "execution_count": 10,
      "outputs": []
    },
    {
      "cell_type": "code",
      "source": [
        "import os\n",
        "os.listdir(\"face_expression_data/images\")\n"
      ],
      "metadata": {
        "colab": {
          "base_uri": "https://localhost:8080/"
        },
        "id": "oSw1oLGex1sq",
        "outputId": "eb82bff6-a555-4b9c-d829-d74555007e82"
      },
      "execution_count": 11,
      "outputs": [
        {
          "output_type": "execute_result",
          "data": {
            "text/plain": [
              "['images', 'train', 'validation']"
            ]
          },
          "metadata": {},
          "execution_count": 11
        }
      ]
    },
    {
      "cell_type": "markdown",
      "source": [
        "## **2. Import Libraries**"
      ],
      "metadata": {
        "id": "gvzMnBMYy77L"
      }
    },
    {
      "cell_type": "code",
      "source": [
        "!pip install keras-preprocessing\n",
        "!pip install tensorflow\n"
      ],
      "metadata": {
        "colab": {
          "base_uri": "https://localhost:8080/"
        },
        "id": "_nAasxmCy8TG",
        "outputId": "7838f364-5810-405c-b6a1-bc991df6f656"
      },
      "execution_count": 12,
      "outputs": [
        {
          "output_type": "stream",
          "name": "stdout",
          "text": [
            "Collecting keras-preprocessing\n",
            "  Downloading Keras_Preprocessing-1.1.2-py2.py3-none-any.whl.metadata (1.9 kB)\n",
            "Requirement already satisfied: numpy>=1.9.1 in /usr/local/lib/python3.12/dist-packages (from keras-preprocessing) (2.0.2)\n",
            "Requirement already satisfied: six>=1.9.0 in /usr/local/lib/python3.12/dist-packages (from keras-preprocessing) (1.17.0)\n",
            "Downloading Keras_Preprocessing-1.1.2-py2.py3-none-any.whl (42 kB)\n",
            "\u001b[?25l   \u001b[90m━━━━━━━━━━━━━━━━━━━━━━━━━━━━━━━━━━━━━━━━\u001b[0m \u001b[32m0.0/42.6 kB\u001b[0m \u001b[31m?\u001b[0m eta \u001b[36m-:--:--\u001b[0m\r\u001b[2K   \u001b[90m━━━━━━━━━━━━━━━━━━━━━━━━━━━━━━━━━━━━━━━━\u001b[0m \u001b[32m42.6/42.6 kB\u001b[0m \u001b[31m2.3 MB/s\u001b[0m eta \u001b[36m0:00:00\u001b[0m\n",
            "\u001b[?25hInstalling collected packages: keras-preprocessing\n",
            "Successfully installed keras-preprocessing-1.1.2\n",
            "Requirement already satisfied: tensorflow in /usr/local/lib/python3.12/dist-packages (2.19.0)\n",
            "Requirement already satisfied: absl-py>=1.0.0 in /usr/local/lib/python3.12/dist-packages (from tensorflow) (1.4.0)\n",
            "Requirement already satisfied: astunparse>=1.6.0 in /usr/local/lib/python3.12/dist-packages (from tensorflow) (1.6.3)\n",
            "Requirement already satisfied: flatbuffers>=24.3.25 in /usr/local/lib/python3.12/dist-packages (from tensorflow) (25.9.23)\n",
            "Requirement already satisfied: gast!=0.5.0,!=0.5.1,!=0.5.2,>=0.2.1 in /usr/local/lib/python3.12/dist-packages (from tensorflow) (0.6.0)\n",
            "Requirement already satisfied: google-pasta>=0.1.1 in /usr/local/lib/python3.12/dist-packages (from tensorflow) (0.2.0)\n",
            "Requirement already satisfied: libclang>=13.0.0 in /usr/local/lib/python3.12/dist-packages (from tensorflow) (18.1.1)\n",
            "Requirement already satisfied: opt-einsum>=2.3.2 in /usr/local/lib/python3.12/dist-packages (from tensorflow) (3.4.0)\n",
            "Requirement already satisfied: packaging in /usr/local/lib/python3.12/dist-packages (from tensorflow) (25.0)\n",
            "Requirement already satisfied: protobuf!=4.21.0,!=4.21.1,!=4.21.2,!=4.21.3,!=4.21.4,!=4.21.5,<6.0.0dev,>=3.20.3 in /usr/local/lib/python3.12/dist-packages (from tensorflow) (5.29.5)\n",
            "Requirement already satisfied: requests<3,>=2.21.0 in /usr/local/lib/python3.12/dist-packages (from tensorflow) (2.32.4)\n",
            "Requirement already satisfied: setuptools in /usr/local/lib/python3.12/dist-packages (from tensorflow) (75.2.0)\n",
            "Requirement already satisfied: six>=1.12.0 in /usr/local/lib/python3.12/dist-packages (from tensorflow) (1.17.0)\n",
            "Requirement already satisfied: termcolor>=1.1.0 in /usr/local/lib/python3.12/dist-packages (from tensorflow) (3.1.0)\n",
            "Requirement already satisfied: typing-extensions>=3.6.6 in /usr/local/lib/python3.12/dist-packages (from tensorflow) (4.15.0)\n",
            "Requirement already satisfied: wrapt>=1.11.0 in /usr/local/lib/python3.12/dist-packages (from tensorflow) (2.0.0)\n",
            "Requirement already satisfied: grpcio<2.0,>=1.24.3 in /usr/local/lib/python3.12/dist-packages (from tensorflow) (1.75.1)\n",
            "Requirement already satisfied: tensorboard~=2.19.0 in /usr/local/lib/python3.12/dist-packages (from tensorflow) (2.19.0)\n",
            "Requirement already satisfied: keras>=3.5.0 in /usr/local/lib/python3.12/dist-packages (from tensorflow) (3.10.0)\n",
            "Requirement already satisfied: numpy<2.2.0,>=1.26.0 in /usr/local/lib/python3.12/dist-packages (from tensorflow) (2.0.2)\n",
            "Requirement already satisfied: h5py>=3.11.0 in /usr/local/lib/python3.12/dist-packages (from tensorflow) (3.15.1)\n",
            "Requirement already satisfied: ml-dtypes<1.0.0,>=0.5.1 in /usr/local/lib/python3.12/dist-packages (from tensorflow) (0.5.3)\n",
            "Requirement already satisfied: wheel<1.0,>=0.23.0 in /usr/local/lib/python3.12/dist-packages (from astunparse>=1.6.0->tensorflow) (0.45.1)\n",
            "Requirement already satisfied: rich in /usr/local/lib/python3.12/dist-packages (from keras>=3.5.0->tensorflow) (13.9.4)\n",
            "Requirement already satisfied: namex in /usr/local/lib/python3.12/dist-packages (from keras>=3.5.0->tensorflow) (0.1.0)\n",
            "Requirement already satisfied: optree in /usr/local/lib/python3.12/dist-packages (from keras>=3.5.0->tensorflow) (0.17.0)\n",
            "Requirement already satisfied: charset_normalizer<4,>=2 in /usr/local/lib/python3.12/dist-packages (from requests<3,>=2.21.0->tensorflow) (3.4.4)\n",
            "Requirement already satisfied: idna<4,>=2.5 in /usr/local/lib/python3.12/dist-packages (from requests<3,>=2.21.0->tensorflow) (3.11)\n",
            "Requirement already satisfied: urllib3<3,>=1.21.1 in /usr/local/lib/python3.12/dist-packages (from requests<3,>=2.21.0->tensorflow) (2.5.0)\n",
            "Requirement already satisfied: certifi>=2017.4.17 in /usr/local/lib/python3.12/dist-packages (from requests<3,>=2.21.0->tensorflow) (2025.10.5)\n",
            "Requirement already satisfied: markdown>=2.6.8 in /usr/local/lib/python3.12/dist-packages (from tensorboard~=2.19.0->tensorflow) (3.9)\n",
            "Requirement already satisfied: tensorboard-data-server<0.8.0,>=0.7.0 in /usr/local/lib/python3.12/dist-packages (from tensorboard~=2.19.0->tensorflow) (0.7.2)\n",
            "Requirement already satisfied: werkzeug>=1.0.1 in /usr/local/lib/python3.12/dist-packages (from tensorboard~=2.19.0->tensorflow) (3.1.3)\n",
            "Requirement already satisfied: MarkupSafe>=2.1.1 in /usr/local/lib/python3.12/dist-packages (from werkzeug>=1.0.1->tensorboard~=2.19.0->tensorflow) (3.0.3)\n",
            "Requirement already satisfied: markdown-it-py>=2.2.0 in /usr/local/lib/python3.12/dist-packages (from rich->keras>=3.5.0->tensorflow) (4.0.0)\n",
            "Requirement already satisfied: pygments<3.0.0,>=2.13.0 in /usr/local/lib/python3.12/dist-packages (from rich->keras>=3.5.0->tensorflow) (2.19.2)\n",
            "Requirement already satisfied: mdurl~=0.1 in /usr/local/lib/python3.12/dist-packages (from markdown-it-py>=2.2.0->rich->keras>=3.5.0->tensorflow) (0.1.2)\n"
          ]
        }
      ]
    },
    {
      "cell_type": "code",
      "source": [
        "import os\n",
        "import pandas as pd\n",
        "import numpy as np\n",
        "from tqdm.notebook import tqdm\n",
        "from keras.utils import to_categorical\n",
        "from keras_preprocessing.image import load_img\n",
        "from keras.models import Sequential\n",
        "from keras.layers import Dense, Conv2D, Dropout, Flatten, MaxPooling2D\n",
        "from sklearn.preprocessing import LabelEncoder\n",
        "import matplotlib.pyplot as plt\n",
        "%matplotlib inline"
      ],
      "metadata": {
        "id": "kAWVNZB2zjoj"
      },
      "execution_count": 13,
      "outputs": []
    },
    {
      "cell_type": "markdown",
      "source": [
        "## **3. Create DataFrame**"
      ],
      "metadata": {
        "id": "qGQhZ09zzw0R"
      }
    },
    {
      "cell_type": "code",
      "source": [
        "TRAIN_DIR = './face_expression_data/images/train'\n",
        "TEST_DIR = './face_expression_data/images/validation'\n",
        "\n",
        "def createdataframe(dir):\n",
        "    image_paths = []\n",
        "    labels = []\n",
        "    for label in os.listdir(dir):\n",
        "        folder_path = os.path.join(dir, label)\n",
        "        if os.path.isdir(folder_path):\n",
        "            for imagename in os.listdir(folder_path):\n",
        "                image_paths.append(os.path.join(folder_path, imagename))\n",
        "                labels.append(label)\n",
        "            print(label, \"completed\")\n",
        "    return image_paths, labels\n",
        "\n",
        "train = pd.DataFrame()\n",
        "train['image'], train['label'] = createdataframe(TRAIN_DIR)\n",
        "\n",
        "test = pd.DataFrame()\n",
        "test['image'], test['label'] = createdataframe(TEST_DIR)"
      ],
      "metadata": {
        "colab": {
          "base_uri": "https://localhost:8080/"
        },
        "id": "q23tAR2ZzwFZ",
        "outputId": "1284a267-4c7c-42f6-8574-b58bb95b390a"
      },
      "execution_count": 14,
      "outputs": [
        {
          "output_type": "stream",
          "name": "stdout",
          "text": [
            "neutral completed\n",
            "angry completed\n",
            "disgust completed\n",
            "sad completed\n",
            "surprise completed\n",
            "fear completed\n",
            "happy completed\n",
            "neutral completed\n",
            "angry completed\n",
            "disgust completed\n",
            "sad completed\n",
            "surprise completed\n",
            "fear completed\n",
            "happy completed\n"
          ]
        }
      ]
    },
    {
      "cell_type": "markdown",
      "source": [
        "## **4. Extract Features**"
      ],
      "metadata": {
        "id": "49ak8k3L0xLP"
      }
    },
    {
      "cell_type": "code",
      "source": [
        "def extract_features(images):\n",
        "    features = []\n",
        "    for image in tqdm(images):\n",
        "        img = load_img(image, color_mode='grayscale')\n",
        "        img = np.array(img)\n",
        "        features.append(img)\n",
        "    features = np.array(features)\n",
        "    features = features.reshape(len(features), 48, 48, 1)\n",
        "    return features\n",
        "\n",
        "train_features = extract_features(train['image'])\n",
        "test_features = extract_features(test['image'])\n",
        "\n",
        "x_train = train_features / 255.0\n",
        "x_test = test_features / 255.0"
      ],
      "metadata": {
        "colab": {
          "base_uri": "https://localhost:8080/",
          "height": 81,
          "referenced_widgets": [
            "0a9bdd576d09482893ae3002a17c6e3d",
            "4f5304548cb044229597496fe5a81a3d",
            "33468b33a2864227a4edaca8ca53e8fa",
            "4fd69c0ac964407e892909273af01bae",
            "e11037cd09b0480eba0769c44d3a5e9b",
            "e0308596a3fe48b29c2069ab14343d1d",
            "cc5d8f652d4e4a58a8d11a83df269f2d",
            "a9a3fa80457446e8b1909c903690d80b",
            "2b35d889336e4bff8aa73b767e14ed53",
            "4a3164c1b4d3421b93735482be57d415",
            "c77a6a78ddfd4c0197dc4e1ccbca359e",
            "11c25b0d9cf54fbe8bd9bbcdc0c24235",
            "7cbabf0f3a2a49c0a735566275906302",
            "e6d4d3d79e7d49d6af0bb8b2cfe7ddd7",
            "7c6d790460ff42c4af30137e08cd55e6",
            "0c17c22a201d430993beae6a5a98de98",
            "8d0242ae8dcc4ca5a693efbe61468869",
            "309e2070af1a4c5abf9ff6653d31dcfd",
            "8881f426ae8447c08715b409d5c7a6e6",
            "f6fd0a76c51e41f18fd4d8511c29764b",
            "01888bc80c1c457da2310e361a53bb03",
            "5153d2d70e154e4588ab22d2b5e07835"
          ]
        },
        "id": "99eamR_60k2P",
        "outputId": "99ae3260-4328-4550-a989-c1ae88dd1792"
      },
      "execution_count": 15,
      "outputs": [
        {
          "output_type": "display_data",
          "data": {
            "text/plain": [
              "  0%|          | 0/28821 [00:00<?, ?it/s]"
            ],
            "application/vnd.jupyter.widget-view+json": {
              "version_major": 2,
              "version_minor": 0,
              "model_id": "0a9bdd576d09482893ae3002a17c6e3d"
            }
          },
          "metadata": {}
        },
        {
          "output_type": "display_data",
          "data": {
            "text/plain": [
              "  0%|          | 0/7066 [00:00<?, ?it/s]"
            ],
            "application/vnd.jupyter.widget-view+json": {
              "version_major": 2,
              "version_minor": 0,
              "model_id": "11c25b0d9cf54fbe8bd9bbcdc0c24235"
            }
          },
          "metadata": {}
        }
      ]
    },
    {
      "cell_type": "markdown",
      "source": [
        "## **5. Encode Labels**"
      ],
      "metadata": {
        "id": "-bm8oQl01FIe"
      }
    },
    {
      "cell_type": "code",
      "source": [
        "le = LabelEncoder()\n",
        "le.fit(train['label'])\n",
        "\n",
        "y_train = le.transform(train['label'])\n",
        "y_test = le.transform(test['label'])\n",
        "\n",
        "y_train = to_categorical(y_train, num_classes=7)\n",
        "y_test = to_categorical(y_test, num_classes=7)\n"
      ],
      "metadata": {
        "id": "RR71VSRQ09pW"
      },
      "execution_count": 16,
      "outputs": []
    },
    {
      "cell_type": "markdown",
      "source": [
        "## **6. Build and Train CNN**"
      ],
      "metadata": {
        "id": "wJ2ejRbl1UxH"
      }
    },
    {
      "cell_type": "code",
      "source": [
        "model = Sequential()\n",
        "\n",
        "model.add(Conv2D(128, kernel_size=(3,3), activation='relu', input_shape=(48,48,1)))\n",
        "model.add(MaxPooling2D(pool_size=(2,2)))\n",
        "model.add(Dropout(0.4))\n",
        "\n",
        "model.add(Conv2D(256, kernel_size=(3,3), activation='relu'))\n",
        "model.add(MaxPooling2D(pool_size=(2,2)))\n",
        "model.add(Dropout(0.4))\n",
        "\n",
        "model.add(Conv2D(512, kernel_size=(3,3), activation='relu'))\n",
        "model.add(MaxPooling2D(pool_size=(2,2)))\n",
        "model.add(Dropout(0.4))\n",
        "\n",
        "model.add(Conv2D(512, kernel_size=(3,3), activation='relu'))\n",
        "model.add(MaxPooling2D(pool_size=(2,2)))\n",
        "model.add(Dropout(0.4))\n",
        "\n",
        "model.add(Flatten())\n",
        "model.add(Dense(512, activation='relu'))\n",
        "model.add(Dropout(0.4))\n",
        "model.add(Dense(256, activation='relu'))\n",
        "model.add(Dropout(0.3))\n",
        "model.add(Dense(7, activation='softmax'))\n",
        "\n",
        "model.compile(optimizer='adam', loss='categorical_crossentropy', metrics=['accuracy'])\n",
        "model.summary()"
      ],
      "metadata": {
        "colab": {
          "base_uri": "https://localhost:8080/",
          "height": 803
        },
        "id": "iSD_y2lX1XKL",
        "outputId": "bfda3c69-9834-46cf-f667-e4e307c9d731"
      },
      "execution_count": 17,
      "outputs": [
        {
          "output_type": "stream",
          "name": "stderr",
          "text": [
            "/usr/local/lib/python3.12/dist-packages/keras/src/layers/convolutional/base_conv.py:113: UserWarning: Do not pass an `input_shape`/`input_dim` argument to a layer. When using Sequential models, prefer using an `Input(shape)` object as the first layer in the model instead.\n",
            "  super().__init__(activity_regularizer=activity_regularizer, **kwargs)\n"
          ]
        },
        {
          "output_type": "display_data",
          "data": {
            "text/plain": [
              "\u001b[1mModel: \"sequential\"\u001b[0m\n"
            ],
            "text/html": [
              "<pre style=\"white-space:pre;overflow-x:auto;line-height:normal;font-family:Menlo,'DejaVu Sans Mono',consolas,'Courier New',monospace\"><span style=\"font-weight: bold\">Model: \"sequential\"</span>\n",
              "</pre>\n"
            ]
          },
          "metadata": {}
        },
        {
          "output_type": "display_data",
          "data": {
            "text/plain": [
              "┏━━━━━━━━━━━━━━━━━━━━━━━━━━━━━━━━━┳━━━━━━━━━━━━━━━━━━━━━━━━┳━━━━━━━━━━━━━━━┓\n",
              "┃\u001b[1m \u001b[0m\u001b[1mLayer (type)                   \u001b[0m\u001b[1m \u001b[0m┃\u001b[1m \u001b[0m\u001b[1mOutput Shape          \u001b[0m\u001b[1m \u001b[0m┃\u001b[1m \u001b[0m\u001b[1m      Param #\u001b[0m\u001b[1m \u001b[0m┃\n",
              "┡━━━━━━━━━━━━━━━━━━━━━━━━━━━━━━━━━╇━━━━━━━━━━━━━━━━━━━━━━━━╇━━━━━━━━━━━━━━━┩\n",
              "│ conv2d (\u001b[38;5;33mConv2D\u001b[0m)                 │ (\u001b[38;5;45mNone\u001b[0m, \u001b[38;5;34m46\u001b[0m, \u001b[38;5;34m46\u001b[0m, \u001b[38;5;34m128\u001b[0m)    │         \u001b[38;5;34m1,280\u001b[0m │\n",
              "├─────────────────────────────────┼────────────────────────┼───────────────┤\n",
              "│ max_pooling2d (\u001b[38;5;33mMaxPooling2D\u001b[0m)    │ (\u001b[38;5;45mNone\u001b[0m, \u001b[38;5;34m23\u001b[0m, \u001b[38;5;34m23\u001b[0m, \u001b[38;5;34m128\u001b[0m)    │             \u001b[38;5;34m0\u001b[0m │\n",
              "├─────────────────────────────────┼────────────────────────┼───────────────┤\n",
              "│ dropout (\u001b[38;5;33mDropout\u001b[0m)               │ (\u001b[38;5;45mNone\u001b[0m, \u001b[38;5;34m23\u001b[0m, \u001b[38;5;34m23\u001b[0m, \u001b[38;5;34m128\u001b[0m)    │             \u001b[38;5;34m0\u001b[0m │\n",
              "├─────────────────────────────────┼────────────────────────┼───────────────┤\n",
              "│ conv2d_1 (\u001b[38;5;33mConv2D\u001b[0m)               │ (\u001b[38;5;45mNone\u001b[0m, \u001b[38;5;34m21\u001b[0m, \u001b[38;5;34m21\u001b[0m, \u001b[38;5;34m256\u001b[0m)    │       \u001b[38;5;34m295,168\u001b[0m │\n",
              "├─────────────────────────────────┼────────────────────────┼───────────────┤\n",
              "│ max_pooling2d_1 (\u001b[38;5;33mMaxPooling2D\u001b[0m)  │ (\u001b[38;5;45mNone\u001b[0m, \u001b[38;5;34m10\u001b[0m, \u001b[38;5;34m10\u001b[0m, \u001b[38;5;34m256\u001b[0m)    │             \u001b[38;5;34m0\u001b[0m │\n",
              "├─────────────────────────────────┼────────────────────────┼───────────────┤\n",
              "│ dropout_1 (\u001b[38;5;33mDropout\u001b[0m)             │ (\u001b[38;5;45mNone\u001b[0m, \u001b[38;5;34m10\u001b[0m, \u001b[38;5;34m10\u001b[0m, \u001b[38;5;34m256\u001b[0m)    │             \u001b[38;5;34m0\u001b[0m │\n",
              "├─────────────────────────────────┼────────────────────────┼───────────────┤\n",
              "│ conv2d_2 (\u001b[38;5;33mConv2D\u001b[0m)               │ (\u001b[38;5;45mNone\u001b[0m, \u001b[38;5;34m8\u001b[0m, \u001b[38;5;34m8\u001b[0m, \u001b[38;5;34m512\u001b[0m)      │     \u001b[38;5;34m1,180,160\u001b[0m │\n",
              "├─────────────────────────────────┼────────────────────────┼───────────────┤\n",
              "│ max_pooling2d_2 (\u001b[38;5;33mMaxPooling2D\u001b[0m)  │ (\u001b[38;5;45mNone\u001b[0m, \u001b[38;5;34m4\u001b[0m, \u001b[38;5;34m4\u001b[0m, \u001b[38;5;34m512\u001b[0m)      │             \u001b[38;5;34m0\u001b[0m │\n",
              "├─────────────────────────────────┼────────────────────────┼───────────────┤\n",
              "│ dropout_2 (\u001b[38;5;33mDropout\u001b[0m)             │ (\u001b[38;5;45mNone\u001b[0m, \u001b[38;5;34m4\u001b[0m, \u001b[38;5;34m4\u001b[0m, \u001b[38;5;34m512\u001b[0m)      │             \u001b[38;5;34m0\u001b[0m │\n",
              "├─────────────────────────────────┼────────────────────────┼───────────────┤\n",
              "│ conv2d_3 (\u001b[38;5;33mConv2D\u001b[0m)               │ (\u001b[38;5;45mNone\u001b[0m, \u001b[38;5;34m2\u001b[0m, \u001b[38;5;34m2\u001b[0m, \u001b[38;5;34m512\u001b[0m)      │     \u001b[38;5;34m2,359,808\u001b[0m │\n",
              "├─────────────────────────────────┼────────────────────────┼───────────────┤\n",
              "│ max_pooling2d_3 (\u001b[38;5;33mMaxPooling2D\u001b[0m)  │ (\u001b[38;5;45mNone\u001b[0m, \u001b[38;5;34m1\u001b[0m, \u001b[38;5;34m1\u001b[0m, \u001b[38;5;34m512\u001b[0m)      │             \u001b[38;5;34m0\u001b[0m │\n",
              "├─────────────────────────────────┼────────────────────────┼───────────────┤\n",
              "│ dropout_3 (\u001b[38;5;33mDropout\u001b[0m)             │ (\u001b[38;5;45mNone\u001b[0m, \u001b[38;5;34m1\u001b[0m, \u001b[38;5;34m1\u001b[0m, \u001b[38;5;34m512\u001b[0m)      │             \u001b[38;5;34m0\u001b[0m │\n",
              "├─────────────────────────────────┼────────────────────────┼───────────────┤\n",
              "│ flatten (\u001b[38;5;33mFlatten\u001b[0m)               │ (\u001b[38;5;45mNone\u001b[0m, \u001b[38;5;34m512\u001b[0m)            │             \u001b[38;5;34m0\u001b[0m │\n",
              "├─────────────────────────────────┼────────────────────────┼───────────────┤\n",
              "│ dense (\u001b[38;5;33mDense\u001b[0m)                   │ (\u001b[38;5;45mNone\u001b[0m, \u001b[38;5;34m512\u001b[0m)            │       \u001b[38;5;34m262,656\u001b[0m │\n",
              "├─────────────────────────────────┼────────────────────────┼───────────────┤\n",
              "│ dropout_4 (\u001b[38;5;33mDropout\u001b[0m)             │ (\u001b[38;5;45mNone\u001b[0m, \u001b[38;5;34m512\u001b[0m)            │             \u001b[38;5;34m0\u001b[0m │\n",
              "├─────────────────────────────────┼────────────────────────┼───────────────┤\n",
              "│ dense_1 (\u001b[38;5;33mDense\u001b[0m)                 │ (\u001b[38;5;45mNone\u001b[0m, \u001b[38;5;34m256\u001b[0m)            │       \u001b[38;5;34m131,328\u001b[0m │\n",
              "├─────────────────────────────────┼────────────────────────┼───────────────┤\n",
              "│ dropout_5 (\u001b[38;5;33mDropout\u001b[0m)             │ (\u001b[38;5;45mNone\u001b[0m, \u001b[38;5;34m256\u001b[0m)            │             \u001b[38;5;34m0\u001b[0m │\n",
              "├─────────────────────────────────┼────────────────────────┼───────────────┤\n",
              "│ dense_2 (\u001b[38;5;33mDense\u001b[0m)                 │ (\u001b[38;5;45mNone\u001b[0m, \u001b[38;5;34m7\u001b[0m)              │         \u001b[38;5;34m1,799\u001b[0m │\n",
              "└─────────────────────────────────┴────────────────────────┴───────────────┘\n"
            ],
            "text/html": [
              "<pre style=\"white-space:pre;overflow-x:auto;line-height:normal;font-family:Menlo,'DejaVu Sans Mono',consolas,'Courier New',monospace\">┏━━━━━━━━━━━━━━━━━━━━━━━━━━━━━━━━━┳━━━━━━━━━━━━━━━━━━━━━━━━┳━━━━━━━━━━━━━━━┓\n",
              "┃<span style=\"font-weight: bold\"> Layer (type)                    </span>┃<span style=\"font-weight: bold\"> Output Shape           </span>┃<span style=\"font-weight: bold\">       Param # </span>┃\n",
              "┡━━━━━━━━━━━━━━━━━━━━━━━━━━━━━━━━━╇━━━━━━━━━━━━━━━━━━━━━━━━╇━━━━━━━━━━━━━━━┩\n",
              "│ conv2d (<span style=\"color: #0087ff; text-decoration-color: #0087ff\">Conv2D</span>)                 │ (<span style=\"color: #00d7ff; text-decoration-color: #00d7ff\">None</span>, <span style=\"color: #00af00; text-decoration-color: #00af00\">46</span>, <span style=\"color: #00af00; text-decoration-color: #00af00\">46</span>, <span style=\"color: #00af00; text-decoration-color: #00af00\">128</span>)    │         <span style=\"color: #00af00; text-decoration-color: #00af00\">1,280</span> │\n",
              "├─────────────────────────────────┼────────────────────────┼───────────────┤\n",
              "│ max_pooling2d (<span style=\"color: #0087ff; text-decoration-color: #0087ff\">MaxPooling2D</span>)    │ (<span style=\"color: #00d7ff; text-decoration-color: #00d7ff\">None</span>, <span style=\"color: #00af00; text-decoration-color: #00af00\">23</span>, <span style=\"color: #00af00; text-decoration-color: #00af00\">23</span>, <span style=\"color: #00af00; text-decoration-color: #00af00\">128</span>)    │             <span style=\"color: #00af00; text-decoration-color: #00af00\">0</span> │\n",
              "├─────────────────────────────────┼────────────────────────┼───────────────┤\n",
              "│ dropout (<span style=\"color: #0087ff; text-decoration-color: #0087ff\">Dropout</span>)               │ (<span style=\"color: #00d7ff; text-decoration-color: #00d7ff\">None</span>, <span style=\"color: #00af00; text-decoration-color: #00af00\">23</span>, <span style=\"color: #00af00; text-decoration-color: #00af00\">23</span>, <span style=\"color: #00af00; text-decoration-color: #00af00\">128</span>)    │             <span style=\"color: #00af00; text-decoration-color: #00af00\">0</span> │\n",
              "├─────────────────────────────────┼────────────────────────┼───────────────┤\n",
              "│ conv2d_1 (<span style=\"color: #0087ff; text-decoration-color: #0087ff\">Conv2D</span>)               │ (<span style=\"color: #00d7ff; text-decoration-color: #00d7ff\">None</span>, <span style=\"color: #00af00; text-decoration-color: #00af00\">21</span>, <span style=\"color: #00af00; text-decoration-color: #00af00\">21</span>, <span style=\"color: #00af00; text-decoration-color: #00af00\">256</span>)    │       <span style=\"color: #00af00; text-decoration-color: #00af00\">295,168</span> │\n",
              "├─────────────────────────────────┼────────────────────────┼───────────────┤\n",
              "│ max_pooling2d_1 (<span style=\"color: #0087ff; text-decoration-color: #0087ff\">MaxPooling2D</span>)  │ (<span style=\"color: #00d7ff; text-decoration-color: #00d7ff\">None</span>, <span style=\"color: #00af00; text-decoration-color: #00af00\">10</span>, <span style=\"color: #00af00; text-decoration-color: #00af00\">10</span>, <span style=\"color: #00af00; text-decoration-color: #00af00\">256</span>)    │             <span style=\"color: #00af00; text-decoration-color: #00af00\">0</span> │\n",
              "├─────────────────────────────────┼────────────────────────┼───────────────┤\n",
              "│ dropout_1 (<span style=\"color: #0087ff; text-decoration-color: #0087ff\">Dropout</span>)             │ (<span style=\"color: #00d7ff; text-decoration-color: #00d7ff\">None</span>, <span style=\"color: #00af00; text-decoration-color: #00af00\">10</span>, <span style=\"color: #00af00; text-decoration-color: #00af00\">10</span>, <span style=\"color: #00af00; text-decoration-color: #00af00\">256</span>)    │             <span style=\"color: #00af00; text-decoration-color: #00af00\">0</span> │\n",
              "├─────────────────────────────────┼────────────────────────┼───────────────┤\n",
              "│ conv2d_2 (<span style=\"color: #0087ff; text-decoration-color: #0087ff\">Conv2D</span>)               │ (<span style=\"color: #00d7ff; text-decoration-color: #00d7ff\">None</span>, <span style=\"color: #00af00; text-decoration-color: #00af00\">8</span>, <span style=\"color: #00af00; text-decoration-color: #00af00\">8</span>, <span style=\"color: #00af00; text-decoration-color: #00af00\">512</span>)      │     <span style=\"color: #00af00; text-decoration-color: #00af00\">1,180,160</span> │\n",
              "├─────────────────────────────────┼────────────────────────┼───────────────┤\n",
              "│ max_pooling2d_2 (<span style=\"color: #0087ff; text-decoration-color: #0087ff\">MaxPooling2D</span>)  │ (<span style=\"color: #00d7ff; text-decoration-color: #00d7ff\">None</span>, <span style=\"color: #00af00; text-decoration-color: #00af00\">4</span>, <span style=\"color: #00af00; text-decoration-color: #00af00\">4</span>, <span style=\"color: #00af00; text-decoration-color: #00af00\">512</span>)      │             <span style=\"color: #00af00; text-decoration-color: #00af00\">0</span> │\n",
              "├─────────────────────────────────┼────────────────────────┼───────────────┤\n",
              "│ dropout_2 (<span style=\"color: #0087ff; text-decoration-color: #0087ff\">Dropout</span>)             │ (<span style=\"color: #00d7ff; text-decoration-color: #00d7ff\">None</span>, <span style=\"color: #00af00; text-decoration-color: #00af00\">4</span>, <span style=\"color: #00af00; text-decoration-color: #00af00\">4</span>, <span style=\"color: #00af00; text-decoration-color: #00af00\">512</span>)      │             <span style=\"color: #00af00; text-decoration-color: #00af00\">0</span> │\n",
              "├─────────────────────────────────┼────────────────────────┼───────────────┤\n",
              "│ conv2d_3 (<span style=\"color: #0087ff; text-decoration-color: #0087ff\">Conv2D</span>)               │ (<span style=\"color: #00d7ff; text-decoration-color: #00d7ff\">None</span>, <span style=\"color: #00af00; text-decoration-color: #00af00\">2</span>, <span style=\"color: #00af00; text-decoration-color: #00af00\">2</span>, <span style=\"color: #00af00; text-decoration-color: #00af00\">512</span>)      │     <span style=\"color: #00af00; text-decoration-color: #00af00\">2,359,808</span> │\n",
              "├─────────────────────────────────┼────────────────────────┼───────────────┤\n",
              "│ max_pooling2d_3 (<span style=\"color: #0087ff; text-decoration-color: #0087ff\">MaxPooling2D</span>)  │ (<span style=\"color: #00d7ff; text-decoration-color: #00d7ff\">None</span>, <span style=\"color: #00af00; text-decoration-color: #00af00\">1</span>, <span style=\"color: #00af00; text-decoration-color: #00af00\">1</span>, <span style=\"color: #00af00; text-decoration-color: #00af00\">512</span>)      │             <span style=\"color: #00af00; text-decoration-color: #00af00\">0</span> │\n",
              "├─────────────────────────────────┼────────────────────────┼───────────────┤\n",
              "│ dropout_3 (<span style=\"color: #0087ff; text-decoration-color: #0087ff\">Dropout</span>)             │ (<span style=\"color: #00d7ff; text-decoration-color: #00d7ff\">None</span>, <span style=\"color: #00af00; text-decoration-color: #00af00\">1</span>, <span style=\"color: #00af00; text-decoration-color: #00af00\">1</span>, <span style=\"color: #00af00; text-decoration-color: #00af00\">512</span>)      │             <span style=\"color: #00af00; text-decoration-color: #00af00\">0</span> │\n",
              "├─────────────────────────────────┼────────────────────────┼───────────────┤\n",
              "│ flatten (<span style=\"color: #0087ff; text-decoration-color: #0087ff\">Flatten</span>)               │ (<span style=\"color: #00d7ff; text-decoration-color: #00d7ff\">None</span>, <span style=\"color: #00af00; text-decoration-color: #00af00\">512</span>)            │             <span style=\"color: #00af00; text-decoration-color: #00af00\">0</span> │\n",
              "├─────────────────────────────────┼────────────────────────┼───────────────┤\n",
              "│ dense (<span style=\"color: #0087ff; text-decoration-color: #0087ff\">Dense</span>)                   │ (<span style=\"color: #00d7ff; text-decoration-color: #00d7ff\">None</span>, <span style=\"color: #00af00; text-decoration-color: #00af00\">512</span>)            │       <span style=\"color: #00af00; text-decoration-color: #00af00\">262,656</span> │\n",
              "├─────────────────────────────────┼────────────────────────┼───────────────┤\n",
              "│ dropout_4 (<span style=\"color: #0087ff; text-decoration-color: #0087ff\">Dropout</span>)             │ (<span style=\"color: #00d7ff; text-decoration-color: #00d7ff\">None</span>, <span style=\"color: #00af00; text-decoration-color: #00af00\">512</span>)            │             <span style=\"color: #00af00; text-decoration-color: #00af00\">0</span> │\n",
              "├─────────────────────────────────┼────────────────────────┼───────────────┤\n",
              "│ dense_1 (<span style=\"color: #0087ff; text-decoration-color: #0087ff\">Dense</span>)                 │ (<span style=\"color: #00d7ff; text-decoration-color: #00d7ff\">None</span>, <span style=\"color: #00af00; text-decoration-color: #00af00\">256</span>)            │       <span style=\"color: #00af00; text-decoration-color: #00af00\">131,328</span> │\n",
              "├─────────────────────────────────┼────────────────────────┼───────────────┤\n",
              "│ dropout_5 (<span style=\"color: #0087ff; text-decoration-color: #0087ff\">Dropout</span>)             │ (<span style=\"color: #00d7ff; text-decoration-color: #00d7ff\">None</span>, <span style=\"color: #00af00; text-decoration-color: #00af00\">256</span>)            │             <span style=\"color: #00af00; text-decoration-color: #00af00\">0</span> │\n",
              "├─────────────────────────────────┼────────────────────────┼───────────────┤\n",
              "│ dense_2 (<span style=\"color: #0087ff; text-decoration-color: #0087ff\">Dense</span>)                 │ (<span style=\"color: #00d7ff; text-decoration-color: #00d7ff\">None</span>, <span style=\"color: #00af00; text-decoration-color: #00af00\">7</span>)              │         <span style=\"color: #00af00; text-decoration-color: #00af00\">1,799</span> │\n",
              "└─────────────────────────────────┴────────────────────────┴───────────────┘\n",
              "</pre>\n"
            ]
          },
          "metadata": {}
        },
        {
          "output_type": "display_data",
          "data": {
            "text/plain": [
              "\u001b[1m Total params: \u001b[0m\u001b[38;5;34m4,232,199\u001b[0m (16.14 MB)\n"
            ],
            "text/html": [
              "<pre style=\"white-space:pre;overflow-x:auto;line-height:normal;font-family:Menlo,'DejaVu Sans Mono',consolas,'Courier New',monospace\"><span style=\"font-weight: bold\"> Total params: </span><span style=\"color: #00af00; text-decoration-color: #00af00\">4,232,199</span> (16.14 MB)\n",
              "</pre>\n"
            ]
          },
          "metadata": {}
        },
        {
          "output_type": "display_data",
          "data": {
            "text/plain": [
              "\u001b[1m Trainable params: \u001b[0m\u001b[38;5;34m4,232,199\u001b[0m (16.14 MB)\n"
            ],
            "text/html": [
              "<pre style=\"white-space:pre;overflow-x:auto;line-height:normal;font-family:Menlo,'DejaVu Sans Mono',consolas,'Courier New',monospace\"><span style=\"font-weight: bold\"> Trainable params: </span><span style=\"color: #00af00; text-decoration-color: #00af00\">4,232,199</span> (16.14 MB)\n",
              "</pre>\n"
            ]
          },
          "metadata": {}
        },
        {
          "output_type": "display_data",
          "data": {
            "text/plain": [
              "\u001b[1m Non-trainable params: \u001b[0m\u001b[38;5;34m0\u001b[0m (0.00 B)\n"
            ],
            "text/html": [
              "<pre style=\"white-space:pre;overflow-x:auto;line-height:normal;font-family:Menlo,'DejaVu Sans Mono',consolas,'Courier New',monospace\"><span style=\"font-weight: bold\"> Non-trainable params: </span><span style=\"color: #00af00; text-decoration-color: #00af00\">0</span> (0.00 B)\n",
              "</pre>\n"
            ]
          },
          "metadata": {}
        }
      ]
    },
    {
      "cell_type": "markdown",
      "source": [
        "## **7. Train the Model**"
      ],
      "metadata": {
        "id": "INy81B_E2Wbp"
      }
    },
    {
      "cell_type": "code",
      "source": [
        "import tensorflow as tf\n",
        "tf.config.list_physical_devices('GPU')\n",
        "# testing if the GPU works\n"
      ],
      "metadata": {
        "colab": {
          "base_uri": "https://localhost:8080/"
        },
        "id": "UmU_1tOr20go",
        "outputId": "00171bd5-5fa8-4d07-d5be-9878e2c2197e"
      },
      "execution_count": 18,
      "outputs": [
        {
          "output_type": "execute_result",
          "data": {
            "text/plain": [
              "[PhysicalDevice(name='/physical_device:GPU:0', device_type='GPU')]"
            ]
          },
          "metadata": {},
          "execution_count": 18
        }
      ]
    },
    {
      "cell_type": "code",
      "source": [
        "history = model.fit(\n",
        "    x_train, y_train,\n",
        "    batch_size=130,\n",
        "    epochs=100,\n",
        "    validation_data=(x_test, y_test)\n",
        ")"
      ],
      "metadata": {
        "colab": {
          "base_uri": "https://localhost:8080/"
        },
        "id": "GWvcNmqz2cAw",
        "outputId": "923f2125-5789-499c-9030-fcfb4451f4dc"
      },
      "execution_count": 20,
      "outputs": [
        {
          "output_type": "stream",
          "name": "stdout",
          "text": [
            "Epoch 1/100\n",
            "\u001b[1m222/222\u001b[0m \u001b[32m━━━━━━━━━━━━━━━━━━━━\u001b[0m\u001b[37m\u001b[0m \u001b[1m13s\u001b[0m 60ms/step - accuracy: 0.4352 - loss: 1.4584 - val_accuracy: 0.4980 - val_loss: 1.3231\n",
            "Epoch 2/100\n",
            "\u001b[1m222/222\u001b[0m \u001b[32m━━━━━━━━━━━━━━━━━━━━\u001b[0m\u001b[37m\u001b[0m \u001b[1m11s\u001b[0m 52ms/step - accuracy: 0.4593 - loss: 1.4034 - val_accuracy: 0.5173 - val_loss: 1.2699\n",
            "Epoch 3/100\n",
            "\u001b[1m222/222\u001b[0m \u001b[32m━━━━━━━━━━━━━━━━━━━━\u001b[0m\u001b[37m\u001b[0m \u001b[1m12s\u001b[0m 52ms/step - accuracy: 0.4761 - loss: 1.3619 - val_accuracy: 0.5263 - val_loss: 1.2438\n",
            "Epoch 4/100\n",
            "\u001b[1m222/222\u001b[0m \u001b[32m━━━━━━━━━━━━━━━━━━━━\u001b[0m\u001b[37m\u001b[0m \u001b[1m12s\u001b[0m 52ms/step - accuracy: 0.4935 - loss: 1.3285 - val_accuracy: 0.5426 - val_loss: 1.2188\n",
            "Epoch 5/100\n",
            "\u001b[1m222/222\u001b[0m \u001b[32m━━━━━━━━━━━━━━━━━━━━\u001b[0m\u001b[37m\u001b[0m \u001b[1m12s\u001b[0m 52ms/step - accuracy: 0.4993 - loss: 1.3014 - val_accuracy: 0.5417 - val_loss: 1.2107\n",
            "Epoch 6/100\n",
            "\u001b[1m222/222\u001b[0m \u001b[32m━━━━━━━━━━━━━━━━━━━━\u001b[0m\u001b[37m\u001b[0m \u001b[1m12s\u001b[0m 53ms/step - accuracy: 0.5189 - loss: 1.2797 - val_accuracy: 0.5553 - val_loss: 1.1715\n",
            "Epoch 7/100\n",
            "\u001b[1m222/222\u001b[0m \u001b[32m━━━━━━━━━━━━━━━━━━━━\u001b[0m\u001b[37m\u001b[0m \u001b[1m12s\u001b[0m 52ms/step - accuracy: 0.5266 - loss: 1.2469 - val_accuracy: 0.5592 - val_loss: 1.1604\n",
            "Epoch 8/100\n",
            "\u001b[1m222/222\u001b[0m \u001b[32m━━━━━━━━━━━━━━━━━━━━\u001b[0m\u001b[37m\u001b[0m \u001b[1m12s\u001b[0m 53ms/step - accuracy: 0.5298 - loss: 1.2387 - val_accuracy: 0.5702 - val_loss: 1.1568\n",
            "Epoch 9/100\n",
            "\u001b[1m222/222\u001b[0m \u001b[32m━━━━━━━━━━━━━━━━━━━━\u001b[0m\u001b[37m\u001b[0m \u001b[1m12s\u001b[0m 53ms/step - accuracy: 0.5333 - loss: 1.2237 - val_accuracy: 0.5733 - val_loss: 1.1395\n",
            "Epoch 10/100\n",
            "\u001b[1m222/222\u001b[0m \u001b[32m━━━━━━━━━━━━━━━━━━━━\u001b[0m\u001b[37m\u001b[0m \u001b[1m12s\u001b[0m 54ms/step - accuracy: 0.5395 - loss: 1.2052 - val_accuracy: 0.5675 - val_loss: 1.1265\n",
            "Epoch 11/100\n",
            "\u001b[1m222/222\u001b[0m \u001b[32m━━━━━━━━━━━━━━━━━━━━\u001b[0m\u001b[37m\u001b[0m \u001b[1m12s\u001b[0m 54ms/step - accuracy: 0.5417 - loss: 1.2013 - val_accuracy: 0.5781 - val_loss: 1.1144\n",
            "Epoch 12/100\n",
            "\u001b[1m222/222\u001b[0m \u001b[32m━━━━━━━━━━━━━━━━━━━━\u001b[0m\u001b[37m\u001b[0m \u001b[1m12s\u001b[0m 55ms/step - accuracy: 0.5522 - loss: 1.1794 - val_accuracy: 0.5784 - val_loss: 1.1163\n",
            "Epoch 13/100\n",
            "\u001b[1m222/222\u001b[0m \u001b[32m━━━━━━━━━━━━━━━━━━━━\u001b[0m\u001b[37m\u001b[0m \u001b[1m12s\u001b[0m 55ms/step - accuracy: 0.5555 - loss: 1.1680 - val_accuracy: 0.5778 - val_loss: 1.1183\n",
            "Epoch 14/100\n",
            "\u001b[1m222/222\u001b[0m \u001b[32m━━━━━━━━━━━━━━━━━━━━\u001b[0m\u001b[37m\u001b[0m \u001b[1m12s\u001b[0m 55ms/step - accuracy: 0.5569 - loss: 1.1623 - val_accuracy: 0.5889 - val_loss: 1.0973\n",
            "Epoch 15/100\n",
            "\u001b[1m222/222\u001b[0m \u001b[32m━━━━━━━━━━━━━━━━━━━━\u001b[0m\u001b[37m\u001b[0m \u001b[1m12s\u001b[0m 54ms/step - accuracy: 0.5615 - loss: 1.1476 - val_accuracy: 0.5872 - val_loss: 1.0972\n",
            "Epoch 16/100\n",
            "\u001b[1m222/222\u001b[0m \u001b[32m━━━━━━━━━━━━━━━━━━━━\u001b[0m\u001b[37m\u001b[0m \u001b[1m12s\u001b[0m 54ms/step - accuracy: 0.5694 - loss: 1.1405 - val_accuracy: 0.5851 - val_loss: 1.0991\n",
            "Epoch 17/100\n",
            "\u001b[1m222/222\u001b[0m \u001b[32m━━━━━━━━━━━━━━━━━━━━\u001b[0m\u001b[37m\u001b[0m \u001b[1m12s\u001b[0m 54ms/step - accuracy: 0.5740 - loss: 1.1135 - val_accuracy: 0.5918 - val_loss: 1.0829\n",
            "Epoch 18/100\n",
            "\u001b[1m222/222\u001b[0m \u001b[32m━━━━━━━━━━━━━━━━━━━━\u001b[0m\u001b[37m\u001b[0m \u001b[1m12s\u001b[0m 54ms/step - accuracy: 0.5829 - loss: 1.1099 - val_accuracy: 0.5934 - val_loss: 1.0816\n",
            "Epoch 19/100\n",
            "\u001b[1m222/222\u001b[0m \u001b[32m━━━━━━━━━━━━━━━━━━━━\u001b[0m\u001b[37m\u001b[0m \u001b[1m12s\u001b[0m 54ms/step - accuracy: 0.5814 - loss: 1.0996 - val_accuracy: 0.5910 - val_loss: 1.0779\n",
            "Epoch 20/100\n",
            "\u001b[1m222/222\u001b[0m \u001b[32m━━━━━━━━━━━━━━━━━━━━\u001b[0m\u001b[37m\u001b[0m \u001b[1m12s\u001b[0m 55ms/step - accuracy: 0.5810 - loss: 1.1018 - val_accuracy: 0.5985 - val_loss: 1.0770\n",
            "Epoch 21/100\n",
            "\u001b[1m222/222\u001b[0m \u001b[32m━━━━━━━━━━━━━━━━━━━━\u001b[0m\u001b[37m\u001b[0m \u001b[1m12s\u001b[0m 54ms/step - accuracy: 0.5775 - loss: 1.0952 - val_accuracy: 0.6023 - val_loss: 1.0750\n",
            "Epoch 22/100\n",
            "\u001b[1m222/222\u001b[0m \u001b[32m━━━━━━━━━━━━━━━━━━━━\u001b[0m\u001b[37m\u001b[0m \u001b[1m12s\u001b[0m 54ms/step - accuracy: 0.5958 - loss: 1.0801 - val_accuracy: 0.5967 - val_loss: 1.0707\n",
            "Epoch 23/100\n",
            "\u001b[1m222/222\u001b[0m \u001b[32m━━━━━━━━━━━━━━━━━━━━\u001b[0m\u001b[37m\u001b[0m \u001b[1m12s\u001b[0m 54ms/step - accuracy: 0.5922 - loss: 1.0741 - val_accuracy: 0.6066 - val_loss: 1.0526\n",
            "Epoch 24/100\n",
            "\u001b[1m222/222\u001b[0m \u001b[32m━━━━━━━━━━━━━━━━━━━━\u001b[0m\u001b[37m\u001b[0m \u001b[1m12s\u001b[0m 54ms/step - accuracy: 0.5967 - loss: 1.0709 - val_accuracy: 0.6114 - val_loss: 1.0603\n",
            "Epoch 25/100\n",
            "\u001b[1m222/222\u001b[0m \u001b[32m━━━━━━━━━━━━━━━━━━━━\u001b[0m\u001b[37m\u001b[0m \u001b[1m12s\u001b[0m 54ms/step - accuracy: 0.5936 - loss: 1.0583 - val_accuracy: 0.6077 - val_loss: 1.0579\n",
            "Epoch 26/100\n",
            "\u001b[1m222/222\u001b[0m \u001b[32m━━━━━━━━━━━━━━━━━━━━\u001b[0m\u001b[37m\u001b[0m \u001b[1m12s\u001b[0m 54ms/step - accuracy: 0.6038 - loss: 1.0639 - val_accuracy: 0.6043 - val_loss: 1.0527\n",
            "Epoch 27/100\n",
            "\u001b[1m222/222\u001b[0m \u001b[32m━━━━━━━━━━━━━━━━━━━━\u001b[0m\u001b[37m\u001b[0m \u001b[1m12s\u001b[0m 54ms/step - accuracy: 0.6014 - loss: 1.0515 - val_accuracy: 0.6129 - val_loss: 1.0573\n",
            "Epoch 28/100\n",
            "\u001b[1m222/222\u001b[0m \u001b[32m━━━━━━━━━━━━━━━━━━━━\u001b[0m\u001b[37m\u001b[0m \u001b[1m12s\u001b[0m 54ms/step - accuracy: 0.6134 - loss: 1.0307 - val_accuracy: 0.6091 - val_loss: 1.0599\n",
            "Epoch 29/100\n",
            "\u001b[1m222/222\u001b[0m \u001b[32m━━━━━━━━━━━━━━━━━━━━\u001b[0m\u001b[37m\u001b[0m \u001b[1m12s\u001b[0m 54ms/step - accuracy: 0.6111 - loss: 1.0274 - val_accuracy: 0.6108 - val_loss: 1.0584\n",
            "Epoch 30/100\n",
            "\u001b[1m222/222\u001b[0m \u001b[32m━━━━━━━━━━━━━━━━━━━━\u001b[0m\u001b[37m\u001b[0m \u001b[1m12s\u001b[0m 54ms/step - accuracy: 0.6105 - loss: 1.0260 - val_accuracy: 0.6095 - val_loss: 1.0606\n",
            "Epoch 31/100\n",
            "\u001b[1m222/222\u001b[0m \u001b[32m━━━━━━━━━━━━━━━━━━━━\u001b[0m\u001b[37m\u001b[0m \u001b[1m12s\u001b[0m 54ms/step - accuracy: 0.6125 - loss: 1.0265 - val_accuracy: 0.6076 - val_loss: 1.0719\n",
            "Epoch 32/100\n",
            "\u001b[1m222/222\u001b[0m \u001b[32m━━━━━━━━━━━━━━━━━━━━\u001b[0m\u001b[37m\u001b[0m \u001b[1m12s\u001b[0m 54ms/step - accuracy: 0.6154 - loss: 1.0181 - val_accuracy: 0.6063 - val_loss: 1.0573\n",
            "Epoch 33/100\n",
            "\u001b[1m222/222\u001b[0m \u001b[32m━━━━━━━━━━━━━━━━━━━━\u001b[0m\u001b[37m\u001b[0m \u001b[1m12s\u001b[0m 54ms/step - accuracy: 0.6163 - loss: 1.0072 - val_accuracy: 0.6115 - val_loss: 1.0463\n",
            "Epoch 34/100\n",
            "\u001b[1m222/222\u001b[0m \u001b[32m━━━━━━━━━━━━━━━━━━━━\u001b[0m\u001b[37m\u001b[0m \u001b[1m12s\u001b[0m 54ms/step - accuracy: 0.6224 - loss: 0.9992 - val_accuracy: 0.6044 - val_loss: 1.0559\n",
            "Epoch 35/100\n",
            "\u001b[1m222/222\u001b[0m \u001b[32m━━━━━━━━━━━━━━━━━━━━\u001b[0m\u001b[37m\u001b[0m \u001b[1m12s\u001b[0m 54ms/step - accuracy: 0.6185 - loss: 1.0065 - val_accuracy: 0.6135 - val_loss: 1.0448\n",
            "Epoch 36/100\n",
            "\u001b[1m222/222\u001b[0m \u001b[32m━━━━━━━━━━━━━━━━━━━━\u001b[0m\u001b[37m\u001b[0m \u001b[1m12s\u001b[0m 54ms/step - accuracy: 0.6267 - loss: 0.9873 - val_accuracy: 0.6169 - val_loss: 1.0448\n",
            "Epoch 37/100\n",
            "\u001b[1m222/222\u001b[0m \u001b[32m━━━━━━━━━━━━━━━━━━━━\u001b[0m\u001b[37m\u001b[0m \u001b[1m12s\u001b[0m 54ms/step - accuracy: 0.6317 - loss: 0.9830 - val_accuracy: 0.6104 - val_loss: 1.0465\n",
            "Epoch 38/100\n",
            "\u001b[1m222/222\u001b[0m \u001b[32m━━━━━━━━━━━━━━━━━━━━\u001b[0m\u001b[37m\u001b[0m \u001b[1m12s\u001b[0m 54ms/step - accuracy: 0.6396 - loss: 0.9568 - val_accuracy: 0.6076 - val_loss: 1.0535\n",
            "Epoch 39/100\n",
            "\u001b[1m222/222\u001b[0m \u001b[32m━━━━━━━━━━━━━━━━━━━━\u001b[0m\u001b[37m\u001b[0m \u001b[1m12s\u001b[0m 54ms/step - accuracy: 0.6347 - loss: 0.9664 - val_accuracy: 0.6141 - val_loss: 1.0385\n",
            "Epoch 40/100\n",
            "\u001b[1m222/222\u001b[0m \u001b[32m━━━━━━━━━━━━━━━━━━━━\u001b[0m\u001b[37m\u001b[0m \u001b[1m12s\u001b[0m 54ms/step - accuracy: 0.6360 - loss: 0.9583 - val_accuracy: 0.6108 - val_loss: 1.0441\n",
            "Epoch 41/100\n",
            "\u001b[1m222/222\u001b[0m \u001b[32m━━━━━━━━━━━━━━━━━━━━\u001b[0m\u001b[37m\u001b[0m \u001b[1m12s\u001b[0m 54ms/step - accuracy: 0.6397 - loss: 0.9567 - val_accuracy: 0.6124 - val_loss: 1.0401\n",
            "Epoch 42/100\n",
            "\u001b[1m222/222\u001b[0m \u001b[32m━━━━━━━━━━━━━━━━━━━━\u001b[0m\u001b[37m\u001b[0m \u001b[1m12s\u001b[0m 54ms/step - accuracy: 0.6462 - loss: 0.9384 - val_accuracy: 0.6152 - val_loss: 1.0522\n",
            "Epoch 43/100\n",
            "\u001b[1m222/222\u001b[0m \u001b[32m━━━━━━━━━━━━━━━━━━━━\u001b[0m\u001b[37m\u001b[0m \u001b[1m12s\u001b[0m 54ms/step - accuracy: 0.6508 - loss: 0.9335 - val_accuracy: 0.6149 - val_loss: 1.0377\n",
            "Epoch 44/100\n",
            "\u001b[1m222/222\u001b[0m \u001b[32m━━━━━━━━━━━━━━━━━━━━\u001b[0m\u001b[37m\u001b[0m \u001b[1m12s\u001b[0m 54ms/step - accuracy: 0.6533 - loss: 0.9272 - val_accuracy: 0.6159 - val_loss: 1.0345\n",
            "Epoch 45/100\n",
            "\u001b[1m222/222\u001b[0m \u001b[32m━━━━━━━━━━━━━━━━━━━━\u001b[0m\u001b[37m\u001b[0m \u001b[1m12s\u001b[0m 54ms/step - accuracy: 0.6502 - loss: 0.9410 - val_accuracy: 0.6139 - val_loss: 1.0430\n",
            "Epoch 46/100\n",
            "\u001b[1m222/222\u001b[0m \u001b[32m━━━━━━━━━━━━━━━━━━━━\u001b[0m\u001b[37m\u001b[0m \u001b[1m12s\u001b[0m 54ms/step - accuracy: 0.6569 - loss: 0.9335 - val_accuracy: 0.6042 - val_loss: 1.0460\n",
            "Epoch 47/100\n",
            "\u001b[1m222/222\u001b[0m \u001b[32m━━━━━━━━━━━━━━━━━━━━\u001b[0m\u001b[37m\u001b[0m \u001b[1m12s\u001b[0m 54ms/step - accuracy: 0.6485 - loss: 0.9343 - val_accuracy: 0.6149 - val_loss: 1.0393\n",
            "Epoch 48/100\n",
            "\u001b[1m222/222\u001b[0m \u001b[32m━━━━━━━━━━━━━━━━━━━━\u001b[0m\u001b[37m\u001b[0m \u001b[1m12s\u001b[0m 54ms/step - accuracy: 0.6571 - loss: 0.9147 - val_accuracy: 0.6190 - val_loss: 1.0357\n",
            "Epoch 49/100\n",
            "\u001b[1m222/222\u001b[0m \u001b[32m━━━━━━━━━━━━━━━━━━━━\u001b[0m\u001b[37m\u001b[0m \u001b[1m12s\u001b[0m 55ms/step - accuracy: 0.6571 - loss: 0.9123 - val_accuracy: 0.6192 - val_loss: 1.0290\n",
            "Epoch 50/100\n",
            "\u001b[1m222/222\u001b[0m \u001b[32m━━━━━━━━━━━━━━━━━━━━\u001b[0m\u001b[37m\u001b[0m \u001b[1m12s\u001b[0m 54ms/step - accuracy: 0.6601 - loss: 0.9181 - val_accuracy: 0.6134 - val_loss: 1.0433\n",
            "Epoch 51/100\n",
            "\u001b[1m222/222\u001b[0m \u001b[32m━━━━━━━━━━━━━━━━━━━━\u001b[0m\u001b[37m\u001b[0m \u001b[1m12s\u001b[0m 54ms/step - accuracy: 0.6647 - loss: 0.8931 - val_accuracy: 0.6241 - val_loss: 1.0227\n",
            "Epoch 52/100\n",
            "\u001b[1m222/222\u001b[0m \u001b[32m━━━━━━━━━━━━━━━━━━━━\u001b[0m\u001b[37m\u001b[0m \u001b[1m12s\u001b[0m 54ms/step - accuracy: 0.6696 - loss: 0.8814 - val_accuracy: 0.6211 - val_loss: 1.0395\n",
            "Epoch 53/100\n",
            "\u001b[1m222/222\u001b[0m \u001b[32m━━━━━━━━━━━━━━━━━━━━\u001b[0m\u001b[37m\u001b[0m \u001b[1m12s\u001b[0m 54ms/step - accuracy: 0.6649 - loss: 0.8952 - val_accuracy: 0.6257 - val_loss: 1.0334\n",
            "Epoch 54/100\n",
            "\u001b[1m222/222\u001b[0m \u001b[32m━━━━━━━━━━━━━━━━━━━━\u001b[0m\u001b[37m\u001b[0m \u001b[1m12s\u001b[0m 54ms/step - accuracy: 0.6690 - loss: 0.8867 - val_accuracy: 0.6219 - val_loss: 1.0333\n",
            "Epoch 55/100\n",
            "\u001b[1m222/222\u001b[0m \u001b[32m━━━━━━━━━━━━━━━━━━━━\u001b[0m\u001b[37m\u001b[0m \u001b[1m12s\u001b[0m 54ms/step - accuracy: 0.6709 - loss: 0.8813 - val_accuracy: 0.6243 - val_loss: 1.0266\n",
            "Epoch 56/100\n",
            "\u001b[1m222/222\u001b[0m \u001b[32m━━━━━━━━━━━━━━━━━━━━\u001b[0m\u001b[37m\u001b[0m \u001b[1m12s\u001b[0m 54ms/step - accuracy: 0.6766 - loss: 0.8582 - val_accuracy: 0.6237 - val_loss: 1.0304\n",
            "Epoch 57/100\n",
            "\u001b[1m222/222\u001b[0m \u001b[32m━━━━━━━━━━━━━━━━━━━━\u001b[0m\u001b[37m\u001b[0m \u001b[1m12s\u001b[0m 54ms/step - accuracy: 0.6784 - loss: 0.8623 - val_accuracy: 0.6244 - val_loss: 1.0306\n",
            "Epoch 58/100\n",
            "\u001b[1m222/222\u001b[0m \u001b[32m━━━━━━━━━━━━━━━━━━━━\u001b[0m\u001b[37m\u001b[0m \u001b[1m12s\u001b[0m 54ms/step - accuracy: 0.6747 - loss: 0.8786 - val_accuracy: 0.6213 - val_loss: 1.0306\n",
            "Epoch 59/100\n",
            "\u001b[1m222/222\u001b[0m \u001b[32m━━━━━━━━━━━━━━━━━━━━\u001b[0m\u001b[37m\u001b[0m \u001b[1m12s\u001b[0m 54ms/step - accuracy: 0.6787 - loss: 0.8658 - val_accuracy: 0.6257 - val_loss: 1.0351\n",
            "Epoch 60/100\n",
            "\u001b[1m222/222\u001b[0m \u001b[32m━━━━━━━━━━━━━━━━━━━━\u001b[0m\u001b[37m\u001b[0m \u001b[1m12s\u001b[0m 54ms/step - accuracy: 0.6791 - loss: 0.8705 - val_accuracy: 0.6241 - val_loss: 1.0299\n",
            "Epoch 61/100\n",
            "\u001b[1m222/222\u001b[0m \u001b[32m━━━━━━━━━━━━━━━━━━━━\u001b[0m\u001b[37m\u001b[0m \u001b[1m12s\u001b[0m 54ms/step - accuracy: 0.6841 - loss: 0.8508 - val_accuracy: 0.6275 - val_loss: 1.0238\n",
            "Epoch 62/100\n",
            "\u001b[1m222/222\u001b[0m \u001b[32m━━━━━━━━━━━━━━━━━━━━\u001b[0m\u001b[37m\u001b[0m \u001b[1m12s\u001b[0m 54ms/step - accuracy: 0.6870 - loss: 0.8445 - val_accuracy: 0.6240 - val_loss: 1.0280\n",
            "Epoch 63/100\n",
            "\u001b[1m222/222\u001b[0m \u001b[32m━━━━━━━━━━━━━━━━━━━━\u001b[0m\u001b[37m\u001b[0m \u001b[1m12s\u001b[0m 54ms/step - accuracy: 0.6864 - loss: 0.8439 - val_accuracy: 0.6177 - val_loss: 1.0351\n",
            "Epoch 64/100\n",
            "\u001b[1m222/222\u001b[0m \u001b[32m━━━━━━━━━━━━━━━━━━━━\u001b[0m\u001b[37m\u001b[0m \u001b[1m12s\u001b[0m 54ms/step - accuracy: 0.6861 - loss: 0.8432 - val_accuracy: 0.6228 - val_loss: 1.0390\n",
            "Epoch 65/100\n",
            "\u001b[1m222/222\u001b[0m \u001b[32m━━━━━━━━━━━━━━━━━━━━\u001b[0m\u001b[37m\u001b[0m \u001b[1m12s\u001b[0m 54ms/step - accuracy: 0.6945 - loss: 0.8255 - val_accuracy: 0.6281 - val_loss: 1.0297\n",
            "Epoch 66/100\n",
            "\u001b[1m222/222\u001b[0m \u001b[32m━━━━━━━━━━━━━━━━━━━━\u001b[0m\u001b[37m\u001b[0m \u001b[1m12s\u001b[0m 54ms/step - accuracy: 0.6971 - loss: 0.8118 - val_accuracy: 0.6269 - val_loss: 1.0301\n",
            "Epoch 67/100\n",
            "\u001b[1m222/222\u001b[0m \u001b[32m━━━━━━━━━━━━━━━━━━━━\u001b[0m\u001b[37m\u001b[0m \u001b[1m12s\u001b[0m 54ms/step - accuracy: 0.6946 - loss: 0.8271 - val_accuracy: 0.6318 - val_loss: 1.0222\n",
            "Epoch 68/100\n",
            "\u001b[1m222/222\u001b[0m \u001b[32m━━━━━━━━━━━━━━━━━━━━\u001b[0m\u001b[37m\u001b[0m \u001b[1m12s\u001b[0m 54ms/step - accuracy: 0.7028 - loss: 0.8053 - val_accuracy: 0.6228 - val_loss: 1.0365\n",
            "Epoch 69/100\n",
            "\u001b[1m222/222\u001b[0m \u001b[32m━━━━━━━━━━━━━━━━━━━━\u001b[0m\u001b[37m\u001b[0m \u001b[1m12s\u001b[0m 54ms/step - accuracy: 0.7022 - loss: 0.8150 - val_accuracy: 0.6279 - val_loss: 1.0492\n",
            "Epoch 70/100\n",
            "\u001b[1m222/222\u001b[0m \u001b[32m━━━━━━━━━━━━━━━━━━━━\u001b[0m\u001b[37m\u001b[0m \u001b[1m12s\u001b[0m 54ms/step - accuracy: 0.7017 - loss: 0.8123 - val_accuracy: 0.6282 - val_loss: 1.0276\n",
            "Epoch 71/100\n",
            "\u001b[1m222/222\u001b[0m \u001b[32m━━━━━━━━━━━━━━━━━━━━\u001b[0m\u001b[37m\u001b[0m \u001b[1m12s\u001b[0m 54ms/step - accuracy: 0.7073 - loss: 0.7910 - val_accuracy: 0.6240 - val_loss: 1.0282\n",
            "Epoch 72/100\n",
            "\u001b[1m222/222\u001b[0m \u001b[32m━━━━━━━━━━━━━━━━━━━━\u001b[0m\u001b[37m\u001b[0m \u001b[1m12s\u001b[0m 54ms/step - accuracy: 0.7031 - loss: 0.8050 - val_accuracy: 0.6312 - val_loss: 1.0261\n",
            "Epoch 73/100\n",
            "\u001b[1m222/222\u001b[0m \u001b[32m━━━━━━━━━━━━━━━━━━━━\u001b[0m\u001b[37m\u001b[0m \u001b[1m12s\u001b[0m 54ms/step - accuracy: 0.7078 - loss: 0.8022 - val_accuracy: 0.6356 - val_loss: 1.0299\n",
            "Epoch 74/100\n",
            "\u001b[1m222/222\u001b[0m \u001b[32m━━━━━━━━━━━━━━━━━━━━\u001b[0m\u001b[37m\u001b[0m \u001b[1m12s\u001b[0m 54ms/step - accuracy: 0.7038 - loss: 0.7973 - val_accuracy: 0.6337 - val_loss: 1.0274\n",
            "Epoch 75/100\n",
            "\u001b[1m222/222\u001b[0m \u001b[32m━━━━━━━━━━━━━━━━━━━━\u001b[0m\u001b[37m\u001b[0m \u001b[1m12s\u001b[0m 54ms/step - accuracy: 0.7061 - loss: 0.8023 - val_accuracy: 0.6323 - val_loss: 1.0229\n",
            "Epoch 76/100\n",
            "\u001b[1m222/222\u001b[0m \u001b[32m━━━━━━━━━━━━━━━━━━━━\u001b[0m\u001b[37m\u001b[0m \u001b[1m12s\u001b[0m 54ms/step - accuracy: 0.7069 - loss: 0.7944 - val_accuracy: 0.6335 - val_loss: 1.0239\n",
            "Epoch 77/100\n",
            "\u001b[1m222/222\u001b[0m \u001b[32m━━━━━━━━━━━━━━━━━━━━\u001b[0m\u001b[37m\u001b[0m \u001b[1m12s\u001b[0m 54ms/step - accuracy: 0.7118 - loss: 0.7863 - val_accuracy: 0.6279 - val_loss: 1.0375\n",
            "Epoch 78/100\n",
            "\u001b[1m222/222\u001b[0m \u001b[32m━━━━━━━━━━━━━━━━━━━━\u001b[0m\u001b[37m\u001b[0m \u001b[1m12s\u001b[0m 54ms/step - accuracy: 0.7219 - loss: 0.7698 - val_accuracy: 0.6237 - val_loss: 1.0320\n",
            "Epoch 79/100\n",
            "\u001b[1m222/222\u001b[0m \u001b[32m━━━━━━━━━━━━━━━━━━━━\u001b[0m\u001b[37m\u001b[0m \u001b[1m12s\u001b[0m 54ms/step - accuracy: 0.7168 - loss: 0.7700 - val_accuracy: 0.6281 - val_loss: 1.0380\n",
            "Epoch 80/100\n",
            "\u001b[1m222/222\u001b[0m \u001b[32m━━━━━━━━━━━━━━━━━━━━\u001b[0m\u001b[37m\u001b[0m \u001b[1m12s\u001b[0m 55ms/step - accuracy: 0.7151 - loss: 0.7893 - val_accuracy: 0.6237 - val_loss: 1.0328\n",
            "Epoch 81/100\n",
            "\u001b[1m222/222\u001b[0m \u001b[32m━━━━━━━━━━━━━━━━━━━━\u001b[0m\u001b[37m\u001b[0m \u001b[1m12s\u001b[0m 54ms/step - accuracy: 0.7147 - loss: 0.7726 - val_accuracy: 0.6251 - val_loss: 1.0313\n",
            "Epoch 82/100\n",
            "\u001b[1m222/222\u001b[0m \u001b[32m━━━━━━━━━━━━━━━━━━━━\u001b[0m\u001b[37m\u001b[0m \u001b[1m12s\u001b[0m 55ms/step - accuracy: 0.7192 - loss: 0.7704 - val_accuracy: 0.6257 - val_loss: 1.0391\n",
            "Epoch 83/100\n",
            "\u001b[1m222/222\u001b[0m \u001b[32m━━━━━━━━━━━━━━━━━━━━\u001b[0m\u001b[37m\u001b[0m \u001b[1m12s\u001b[0m 55ms/step - accuracy: 0.7240 - loss: 0.7564 - val_accuracy: 0.6281 - val_loss: 1.0293\n",
            "Epoch 84/100\n",
            "\u001b[1m222/222\u001b[0m \u001b[32m━━━━━━━━━━━━━━━━━━━━\u001b[0m\u001b[37m\u001b[0m \u001b[1m12s\u001b[0m 55ms/step - accuracy: 0.7317 - loss: 0.7494 - val_accuracy: 0.6316 - val_loss: 1.0241\n",
            "Epoch 85/100\n",
            "\u001b[1m222/222\u001b[0m \u001b[32m━━━━━━━━━━━━━━━━━━━━\u001b[0m\u001b[37m\u001b[0m \u001b[1m12s\u001b[0m 54ms/step - accuracy: 0.7169 - loss: 0.7676 - val_accuracy: 0.6298 - val_loss: 1.0267\n",
            "Epoch 86/100\n",
            "\u001b[1m222/222\u001b[0m \u001b[32m━━━━━━━━━━━━━━━━━━━━\u001b[0m\u001b[37m\u001b[0m \u001b[1m12s\u001b[0m 55ms/step - accuracy: 0.7281 - loss: 0.7408 - val_accuracy: 0.6233 - val_loss: 1.0401\n",
            "Epoch 87/100\n",
            "\u001b[1m222/222\u001b[0m \u001b[32m━━━━━━━━━━━━━━━━━━━━\u001b[0m\u001b[37m\u001b[0m \u001b[1m12s\u001b[0m 54ms/step - accuracy: 0.7256 - loss: 0.7402 - val_accuracy: 0.6292 - val_loss: 1.0506\n",
            "Epoch 88/100\n",
            "\u001b[1m222/222\u001b[0m \u001b[32m━━━━━━━━━━━━━━━━━━━━\u001b[0m\u001b[37m\u001b[0m \u001b[1m12s\u001b[0m 54ms/step - accuracy: 0.7300 - loss: 0.7332 - val_accuracy: 0.6325 - val_loss: 1.0188\n",
            "Epoch 89/100\n",
            "\u001b[1m222/222\u001b[0m \u001b[32m━━━━━━━━━━━━━━━━━━━━\u001b[0m\u001b[37m\u001b[0m \u001b[1m12s\u001b[0m 54ms/step - accuracy: 0.7322 - loss: 0.7258 - val_accuracy: 0.6336 - val_loss: 1.0297\n",
            "Epoch 90/100\n",
            "\u001b[1m222/222\u001b[0m \u001b[32m━━━━━━━━━━━━━━━━━━━━\u001b[0m\u001b[37m\u001b[0m \u001b[1m12s\u001b[0m 54ms/step - accuracy: 0.7300 - loss: 0.7411 - val_accuracy: 0.6320 - val_loss: 1.0370\n",
            "Epoch 91/100\n",
            "\u001b[1m222/222\u001b[0m \u001b[32m━━━━━━━━━━━━━━━━━━━━\u001b[0m\u001b[37m\u001b[0m \u001b[1m12s\u001b[0m 54ms/step - accuracy: 0.7321 - loss: 0.7268 - val_accuracy: 0.6320 - val_loss: 1.0367\n",
            "Epoch 92/100\n",
            "\u001b[1m222/222\u001b[0m \u001b[32m━━━━━━━━━━━━━━━━━━━━\u001b[0m\u001b[37m\u001b[0m \u001b[1m21s\u001b[0m 56ms/step - accuracy: 0.7329 - loss: 0.7348 - val_accuracy: 0.6288 - val_loss: 1.0445\n",
            "Epoch 93/100\n",
            "\u001b[1m222/222\u001b[0m \u001b[32m━━━━━━━━━━━━━━━━━━━━\u001b[0m\u001b[37m\u001b[0m \u001b[1m12s\u001b[0m 55ms/step - accuracy: 0.7375 - loss: 0.7236 - val_accuracy: 0.6340 - val_loss: 1.0305\n",
            "Epoch 94/100\n",
            "\u001b[1m222/222\u001b[0m \u001b[32m━━━━━━━━━━━━━━━━━━━━\u001b[0m\u001b[37m\u001b[0m \u001b[1m12s\u001b[0m 55ms/step - accuracy: 0.7428 - loss: 0.7142 - val_accuracy: 0.6363 - val_loss: 1.0395\n",
            "Epoch 95/100\n",
            "\u001b[1m222/222\u001b[0m \u001b[32m━━━━━━━━━━━━━━━━━━━━\u001b[0m\u001b[37m\u001b[0m \u001b[1m12s\u001b[0m 55ms/step - accuracy: 0.7406 - loss: 0.7118 - val_accuracy: 0.6319 - val_loss: 1.0385\n",
            "Epoch 96/100\n",
            "\u001b[1m222/222\u001b[0m \u001b[32m━━━━━━━━━━━━━━━━━━━━\u001b[0m\u001b[37m\u001b[0m \u001b[1m12s\u001b[0m 54ms/step - accuracy: 0.7393 - loss: 0.7169 - val_accuracy: 0.6323 - val_loss: 1.0345\n",
            "Epoch 97/100\n",
            "\u001b[1m222/222\u001b[0m \u001b[32m━━━━━━━━━━━━━━━━━━━━\u001b[0m\u001b[37m\u001b[0m \u001b[1m12s\u001b[0m 54ms/step - accuracy: 0.7479 - loss: 0.7031 - val_accuracy: 0.6361 - val_loss: 1.0234\n",
            "Epoch 98/100\n",
            "\u001b[1m222/222\u001b[0m \u001b[32m━━━━━━━━━━━━━━━━━━━━\u001b[0m\u001b[37m\u001b[0m \u001b[1m12s\u001b[0m 54ms/step - accuracy: 0.7411 - loss: 0.7036 - val_accuracy: 0.6291 - val_loss: 1.0445\n",
            "Epoch 99/100\n",
            "\u001b[1m222/222\u001b[0m \u001b[32m━━━━━━━━━━━━━━━━━━━━\u001b[0m\u001b[37m\u001b[0m \u001b[1m12s\u001b[0m 54ms/step - accuracy: 0.7451 - loss: 0.6955 - val_accuracy: 0.6288 - val_loss: 1.0404\n",
            "Epoch 100/100\n",
            "\u001b[1m222/222\u001b[0m \u001b[32m━━━━━━━━━━━━━━━━━━━━\u001b[0m\u001b[37m\u001b[0m \u001b[1m12s\u001b[0m 55ms/step - accuracy: 0.7452 - loss: 0.7012 - val_accuracy: 0.6325 - val_loss: 1.0498\n"
          ]
        }
      ]
    },
    {
      "cell_type": "code",
      "source": [
        "\n",
        "model.save('emotiondetector.keras')\n"
      ],
      "metadata": {
        "id": "5AB6FkJ593PO"
      },
      "execution_count": 22,
      "outputs": []
    },
    {
      "cell_type": "code",
      "source": [
        "from google.colab import files\n",
        "\n",
        "files.download('emotiondetector.keras')\n"
      ],
      "metadata": {
        "colab": {
          "base_uri": "https://localhost:8080/",
          "height": 17
        },
        "id": "56vkYVx6-Oaf",
        "outputId": "1d648f0b-35f6-4422-946a-f9f0a601ab4e"
      },
      "execution_count": 75,
      "outputs": [
        {
          "output_type": "display_data",
          "data": {
            "text/plain": [
              "<IPython.core.display.Javascript object>"
            ],
            "application/javascript": [
              "\n",
              "    async function download(id, filename, size) {\n",
              "      if (!google.colab.kernel.accessAllowed) {\n",
              "        return;\n",
              "      }\n",
              "      const div = document.createElement('div');\n",
              "      const label = document.createElement('label');\n",
              "      label.textContent = `Downloading \"${filename}\": `;\n",
              "      div.appendChild(label);\n",
              "      const progress = document.createElement('progress');\n",
              "      progress.max = size;\n",
              "      div.appendChild(progress);\n",
              "      document.body.appendChild(div);\n",
              "\n",
              "      const buffers = [];\n",
              "      let downloaded = 0;\n",
              "\n",
              "      const channel = await google.colab.kernel.comms.open(id);\n",
              "      // Send a message to notify the kernel that we're ready.\n",
              "      channel.send({})\n",
              "\n",
              "      for await (const message of channel.messages) {\n",
              "        // Send a message to notify the kernel that we're ready.\n",
              "        channel.send({})\n",
              "        if (message.buffers) {\n",
              "          for (const buffer of message.buffers) {\n",
              "            buffers.push(buffer);\n",
              "            downloaded += buffer.byteLength;\n",
              "            progress.value = downloaded;\n",
              "          }\n",
              "        }\n",
              "      }\n",
              "      const blob = new Blob(buffers, {type: 'application/binary'});\n",
              "      const a = document.createElement('a');\n",
              "      a.href = window.URL.createObjectURL(blob);\n",
              "      a.download = filename;\n",
              "      div.appendChild(a);\n",
              "      a.click();\n",
              "      div.remove();\n",
              "    }\n",
              "  "
            ]
          },
          "metadata": {}
        },
        {
          "output_type": "display_data",
          "data": {
            "text/plain": [
              "<IPython.core.display.Javascript object>"
            ],
            "application/javascript": [
              "download(\"download_dfbd915e-7dfc-4fc9-8698-a91eecfc53ad\", \"emotiondetector.keras\", 50856843)"
            ]
          },
          "metadata": {}
        }
      ]
    },
    {
      "cell_type": "code",
      "source": [
        "labels = le.classes_\n",
        "\n",
        "def show_prediction(image_path):\n",
        "    img = load_img(image_path, color_mode='grayscale')\n",
        "    arr = np.array(img).reshape(1,48,48,1)/255.0\n",
        "    pred = model.predict(arr)\n",
        "    pred_label = labels[pred.argmax()]\n",
        "\n",
        "    plt.imshow(arr.reshape(48,48), cmap='gray')\n",
        "    plt.title(f\"Predicted: {pred_label}\")\n",
        "    plt.axis('off')\n",
        "    plt.show()\n"
      ],
      "metadata": {
        "id": "HeSwJYs---dJ"
      },
      "execution_count": 25,
      "outputs": []
    },
    {
      "cell_type": "code",
      "source": [
        "print(le.classes_)"
      ],
      "metadata": {
        "colab": {
          "base_uri": "https://localhost:8080/"
        },
        "id": "3vjBclav_EhV",
        "outputId": "cc69930c-6464-44d4-8fa4-74e067da7041"
      },
      "execution_count": 26,
      "outputs": [
        {
          "output_type": "stream",
          "name": "stdout",
          "text": [
            "['angry' 'disgust' 'fear' 'happy' 'neutral' 'sad' 'surprise']\n"
          ]
        }
      ]
    },
    {
      "cell_type": "markdown",
      "source": [
        "\n",
        "## **8. Testing the Model**"
      ],
      "metadata": {
        "id": "o8K3zzhWAUap"
      }
    },
    {
      "cell_type": "code",
      "source": [
        "import matplotlib.pyplot as plt\n",
        "\n",
        "# Assuming you have a dataframe for validation images\n",
        "validation = pd.DataFrame()\n",
        "validation['image'], validation['label'] = createdataframe(TEST_DIR)  # use TEST_DIR instead\n",
        "\n",
        "def ef(image):\n",
        "    img = load_img(image, color_mode='grayscale')\n",
        "    feature = np.array(img)\n",
        "    feature = feature.reshape(1, 48, 48, 1)\n",
        "    return feature / 255.0\n",
        "\n",
        "label_names = ['angry','disgust','fear','happy','neutral','sad','surprise']\n"
      ],
      "metadata": {
        "colab": {
          "base_uri": "https://localhost:8080/"
        },
        "id": "9wMz8wGAAVoI",
        "outputId": "2dbde6c0-929c-46a7-d10b-969b28ac2199"
      },
      "execution_count": 28,
      "outputs": [
        {
          "output_type": "stream",
          "name": "stdout",
          "text": [
            "neutral completed\n",
            "angry completed\n",
            "disgust completed\n",
            "sad completed\n",
            "surprise completed\n",
            "fear completed\n",
            "happy completed\n"
          ]
        }
      ]
    },
    {
      "cell_type": "code",
      "source": [
        "import matplotlib.pyplot as plt\n",
        "\n",
        "# Show 2 random images per emotion horizontally\n",
        "for lbl in label_names:\n",
        "    subset = validation[validation['label'] == lbl].sample(2)  # random 2 images\n",
        "\n",
        "    plt.figure(figsize=(8, 4))\n",
        "\n",
        "    for i, (idx, row) in enumerate(subset.iterrows()):\n",
        "        img_path = row['image']\n",
        "        true_label = row['label']\n",
        "\n",
        "        img = ef(img_path)\n",
        "        pred = model.predict(img)\n",
        "        pred_label = label_names[pred.argmax()]\n",
        "\n",
        "        print(f\"Original: {true_label}, Model prediction: {pred_label}\")\n",
        "\n",
        "        plt.subplot(1, 2, i+1)\n",
        "        plt.imshow(img.reshape(48,48), cmap='gray')\n",
        "        plt.title(f\"True: {true_label}\\nPred: {pred_label}\")\n",
        "        plt.axis('off')\n",
        "\n",
        "    plt.show()\n"
      ],
      "metadata": {
        "colab": {
          "base_uri": "https://localhost:8080/",
          "height": 1000
        },
        "id": "4dySTWrXA5hD",
        "outputId": "fd858c40-02bd-4416-bf8f-12dc88957220"
      },
      "execution_count": 42,
      "outputs": [
        {
          "output_type": "stream",
          "name": "stdout",
          "text": [
            "\u001b[1m1/1\u001b[0m \u001b[32m━━━━━━━━━━━━━━━━━━━━\u001b[0m\u001b[37m\u001b[0m \u001b[1m0s\u001b[0m 31ms/step\n",
            "Original: angry, Model prediction: sad\n",
            "\u001b[1m1/1\u001b[0m \u001b[32m━━━━━━━━━━━━━━━━━━━━\u001b[0m\u001b[37m\u001b[0m \u001b[1m0s\u001b[0m 29ms/step\n",
            "Original: angry, Model prediction: angry\n"
          ]
        },
        {
          "output_type": "display_data",
          "data": {
            "text/plain": [
              "<Figure size 800x400 with 2 Axes>"
            ],
            "image/png": "iVBORw0KGgoAAAANSUhEUgAAAn8AAAFYCAYAAAAiD5roAAAAOnRFWHRTb2Z0d2FyZQBNYXRwbG90bGliIHZlcnNpb24zLjEwLjAsIGh0dHBzOi8vbWF0cGxvdGxpYi5vcmcvlHJYcgAAAAlwSFlzAAAPYQAAD2EBqD+naQAARvFJREFUeJzt3XmQVeWd//EvgtBAs3Q3zdZA03QDsikKikoERFAEVBKX0UIFUlqODhqd0YxaEwPIuFVMXMaAJpZMJogRM6LjiCyOCsYVAUEWbaDZ1+5mEZpF4P7+sOwf7f1+8D5yDdLP+1WVqvE7h3PPPec5z3m43M/91kgkEgkDAABAFE463gcAAACAvx8WfwAAABFh8QcAABARFn8AAAARYfEHAAAQERZ/AAAAEWHxBwAAEBEWfwAAABFh8QcAABARFn8AAAARYfH3I1ejRo2U/vf2228f70MFgB8l5lGgqlrH+wBwdP/1X/9V5b//9Kc/2axZs5LqnTp1+nseFgCcMJhHgapqJBKJxPE+CKRu9OjR9tRTT9l3XbaKigqrV6/e3+moTgyHDx+2AwcOWEZGxvE+FADHEfPo98c8Wj3wz77VQL9+/axr1672ySefWJ8+faxevXp27733mtnX/9wxZsyYpD/Ttm1bGzlyZJXajh077Pbbb7fWrVtbnTp1rKioyB5++GE7fPhwle02bdpky5cvt6+++uo7j+03v/mNnXvuuZaTk2N169a1Hj162EsvvZS0XY0aNWz06NE2bdo069q1q9WpU8e6dOlib7zxRtK2b7/9tvXs2dMyMjKssLDQnn76aRszZozVqFHD3efkyZOtS5cuVqdOHZs+fbq1bdvWLrvssqT97tu3zxo1amQ33XTTd74vANUL8yjzaEz4Z99qoqyszC6++GK7+uqr7dprr7VmzZoF/fmKigrr27evbdiwwW666SZr06aNvffee3bPPffYpk2b7LHHHqvc9p577rH//M//tJKSEmvbtu1R9/v444/bpZdeasOHD7cDBw7YCy+8YFdeeaW99tprNmTIkCrbvvvuu/bf//3fdsstt1iDBg3siSeesMsvv9zWrl1rOTk5Zma2YMECGzRokLVo0cLGjh1rhw4dsnHjxllubq77+v/3f/9nL774oo0ePdqaNGliBQUFdu2119ojjzxi5eXllp2dXbnt//zP/9iuXbvs2muvDTp3AKoH5lHm0WgkcEL5p3/6p8S3L1vfvn0TZpaYOHFi0vZmlvj1r3+dVM/Pz0+MGDGi8r/vv//+RP369RNffPFFle3uvvvuRM2aNRNr166trI0YMSJhZomSkpLvPN6Kiooq/33gwIFE165dE/379086ztq1aydWrFhRWfv0008TZpZ48sknK2uXXHJJol69eokNGzZU1oqLixO1atVKOi9mljjppJMSS5YsqVL//PPPE2aWmDBhQpX6pZdemmjbtm3i8OHD3/m+AJy4mEeZR2PHP/tWE3Xq1LFRo0Z97z8/depUO++88ywrK8tKS0sr/zdgwAA7dOiQzZkzp3LbSZMmWSKR+M6/rZqZ1a1bt/L/3r59u+3cudPOO+88mz9/ftK2AwYMsMLCwsr/PvXUU61hw4a2atUqMzM7dOiQzZ4924YNG2YtW7as3K6oqMguvvhi9/X79u1rnTt3rlLr0KGD9erVyyZPnlxZKy8vt+nTp9vw4cOT/tkDQByYR5lHY8E/+1YTeXl5Vrt27e/954uLi23RokXyY/+tW7d+r/2+9tprNn78eFu4cKHt37+/su5NDG3atEmqZWVl2fbt2yuPYe/evVZUVJS0nVczMysoKHDr119/vY0ePdrWrFlj+fn5NnXqVPvqq6/suuuuS+l9Aah+mEeZR2PB4q+aOPJvhqk4dOhQlf8+fPiwDRw40H75y1+623fo0CH4mObOnWuXXnqp9enTx37/+99bixYt7OSTT7bnnnvOnn/++aTta9as6e4ncQyBdHVerr76arvjjjts8uTJdu+999qf//xn69mzp3Xs2PF7vxaAExvzqI95tPph8VfNZWVl2Y4dO6rUDhw4YJs2bapSKywstN27d9uAAQPS9tp//etfLSMjw2bMmGF16tSprD/33HPfa39Nmza1jIwMW7FiRdL/z6sdTXZ2tg0ZMsQmT55sw4cPt7/97W9VvowNAN9gHvUxj564+M5fNVdYWFjleyZmZs8880zS31ivuuoqe//9923GjBlJ+9ixY4cdPHiw8r9T/YmCmjVrWo0aNaq81urVq23atGnf4518vb8BAwbYtGnTbOPGjZX1FStW2PTp04P3d91119nSpUvtrrvuspo1a9rVV1/9vY4LQPXGPKoxj56YWPxVczfccIMtWLDALr/8cps4caLdfPPN9tvf/taaNGlSZbu77rrLzjjjDBs6dKjdeOONNnHiRHv00Udt5MiR1qpVqyp/673nnnusU6dOtmHDhqO+9pAhQ6yiosIGDRpkEydOtHHjxlmvXr3k90pSMWbMGDt48KD17t3bHnnkEXvwwQetb9++1rVr1+B9DRkyxHJycmzq1Kk2cOBAa9q06fc+LgDVF/Po0Y+PefTEw+KvmrvxxhvtX//1X23OnDn2L//yL1ZSUmKzZs2y+vXrV9muXr169s4779hdd91lb7/9tv3iF7+whx56yIqLi23s2LHWqFGj4Nfu37+/Pfvss7Z582a7/fbbbcqUKfbwww/bT3/60+/9fnr06GHTp0+3rKws+9WvfmXPPvusjRs3zi644ILgX5yvXbu2/cM//IOZGV9QBiAxj2rMoycm2ruhWhg2bJgtWbLEiouLg/7cHXfcUTmx0sYJQMyYR+PBJ3844ezdu7fKfxcXF9vrr79u/fr1C9rPvn377M9//rNdfvnlTFgAosI8GjfSvjjhtGvXzkaOHGnt2rWzNWvW2IQJE6x27dry5xW+bevWrTZ79mx76aWXrKyszH7xi1/8wEcMAD8uzKNxY/GHE86gQYNsypQptnnzZqtTp46dc8459sADD1j79u1T+vNLly614cOHW9OmTe2JJ56w7t27/7AHDAA/MsyjceM7fwAAABHhO38AAAARYfEHAAAQERZ/SIu2bdvayJEjj/dhSGPGjHGboAPA38OPfY5EXFj8VQOTJk2yGjVqVP4vIyPDOnToYKNHj7YtW7Yc78MDgOOKORKoirRvNTJu3DgrKCiwffv22bvvvmsTJkyw119/3T777DN+fwlA9Jgjga+x+KtGLr74YuvZs6eZfd2LMicnx37729/aK6+8Ytdcc437Z/bs2ZPUoggAqiPmyPTYt2+f1a5d2046iX88PFFx5aqx/v37m5lZSUmJmZmNHDnSMjMzbeXKlTZ48GBr0KCBDR8+3MzMDh8+bI899ph16dLFMjIyrFmzZnbTTTfZ9u3bq+wzkUjY+PHjrVWrVlavXj07//zzbcmSJe7rr1y50lauXPmdx/nVV1/Z2LFjrX379paRkWE5OTn2k5/8xGbNmlW5zaJFiyp/kDQjI8OaN29uP//5z62srCxpf++++66deeaZlpGRYYWFhfb000+ndsIAROVEmSPLy8vtzjvvtG7dullmZqY1bNjQLr74Yvv000+rbPf2229bjRo17MUXX7R///d/t1atWllGRoZdcMEFtmLFiqT9PvXUU9auXTurW7eunXXWWTZ37lzr169flS4f3+zzhRdesH/7t3+zvLw8q1evni1cuNBq1Khhv/vd75L2+95771mNGjVsypQp3/necHzwyV819s2kkpOTU1k7ePCgXXTRRfaTn/zEfvOb31T+U8dNN91kkyZNslGjRtltt91mJSUl9h//8R+2YMEC+9vf/mYnn3yymZndd999Nn78eBs8eLANHjzY5s+fbxdeeKEdOHAg6fUvuOACMzNbvXr1UY9zzJgx9uCDD9oNN9xgZ511lu3atcvmzZtn8+fPt4EDB5qZ2axZs2zVqlU2atQoa968uS1ZssSeeeYZW7JkiX3wwQeVYY7FixfbhRdeaLm5uTZmzBg7ePCg/frXv7ZmzZod28kEUO2cKHPkqlWrbNq0aXbllVdaQUGBbdmyxZ5++mnr27evLV261Fq2bFll+4ceeshOOukku/POO23nzp32yCOP2PDhw+3DDz+s3GbChAk2evRoO++88+yOO+6w1atX27BhwywrK8tatWqVdAz333+/1a5d2+68807bv3+/nXLKKda7d2+bPHmy3XHHHVW2nTx5sjVo0MAuu+yyo74vHEcJnPCee+65hJklZs+endi2bVti3bp1iRdeeCGRk5OTqFu3bmL9+vWJRCKRGDFiRMLMEnfffXeVPz937tyEmSUmT55cpf7GG29UqW/dujVRu3btxJAhQxKHDx+u3O7ee+9NmFlixIgRVf58fn5+Ij8//zuP/7TTTksMGTLkqNtUVFQk1aZMmZIws8ScOXMqa8OGDUtkZGQk1qxZU1lbunRpombNmgmGOxCnE32O3LdvX+LQoUNVaiUlJYk6deokxo0bV1l76623EmaW6NSpU2L//v2V9ccffzxhZonFixcnEolEYv/+/YmcnJzEmWeemfjqq68qt5s0aVLCzBJ9+/ZN2me7du2S5uGnn346YWaJZcuWVdYOHDiQaNKkSdJ7xY8L/+xbjQwYMMByc3OtdevWdvXVV1tmZqa9/PLLlpeXV2W7m2++ucp/T5061Ro1amQDBw600tLSyv/16NHDMjMz7a233jIzs9mzZ9uBAwfs1ltvrfKzKbfffrt7PKtXr/7Ov9GamTVu3NiWLFlixcXFcpu6detW/t/79u2z0tJSO/vss83MbP78+WZmdujQIZsxY4YNGzbM2rRpU7l9p06d7KKLLvrO4wBQvZ2oc2SdOnUqv1936NAhKysrs8zMTOvYsWPl/HekUaNGWe3atSv/+7zzzjOzrz9BNDObN2+elZWV2Y033mi1av3/fwAcPny4ZWVluccwYsSIKvOwmdlVV11lGRkZNnny5MrajBkzrLS01K699trvfF84fvhn32rkqaeesg4dOlitWrWsWbNm1rFjx6Qv5NaqVSvpI/3i4mLbuXOnNW3a1N3v1q1bzcxszZo1ZmZJvR9zc3PlhJGKcePG2WWXXWYdOnSwrl272qBBg+y6666zU089tXKb8vJyGzt2rL3wwguVx/ONnTt3mpnZtm3bbO/evW5vyo4dO9rrr7/+vY8RwInvRJ0jDx8+bI8//rj9/ve/t5KSEjt06FDl/+/If7L+xpF/+TWzytf+5vuJ3xxnUVFRle1q1aplbdu2dY+hoKAgqda4cWO75JJL7Pnnn7f777/fzL7+J9+8vLzK71Pix4nFXzVy1llnVSbZlCP/BvmNw4cPW9OmTav87e1Iubm5aTtGT58+fWzlypX2yiuv2MyZM+2Pf/yj/e53v7OJEyfaDTfcYGZf/w3zvffes7vuusu6d+9umZmZdvjwYRs0aJAdPnz4Bz0+ANXDiTpHPvDAA/arX/3Kfv7zn9v9999v2dnZdtJJJ9ntt9/uzn81a9Z095NIJL73MXz7U79vXH/99TZ16lR77733rFu3bvbqq6/aLbfcQhL4R47FH6ywsNBmz55tvXv3lje4mVl+fr6Zff234Hbt2lXWt23blpR4C5WdnW2jRo2yUaNG2e7du61Pnz42ZswYu+GGG2z79u325ptv2tixY+2+++6r/DPf/mfi3Nxcq1u3rvvPx59//vkxHR+AeB3vOfKll16y888/35599tkq9R07dliTJk2C9/fNca5YscLOP//8yvrBgwdt9erVVf7V5bsMGjTIcnNzbfLkydarVy+rqKiw6667LviY8PfF0hx21VVX2aFDhyo/tj/SwYMHbceOHWb29fdlTj75ZHvyySer/A3ysccec/eb6s8YfPvnWjIzM62oqMj2799vZv//b7Hf/lvrt1+3Zs2adtFFF9m0adNs7dq1lfVly5bZjBkzvvM4AMBzvOfImjVrJs1/U6dOtQ0bNqT+Jo7Qs2dPy8nJsT/84Q928ODByvrkyZODF6m1atWya665xl588UWbNGmSdevWLWjxiOODT/5gffv2tZtuuskefPBBW7hwoV144YV28sknW3FxsU2dOtUef/xxu+KKKyw3N9fuvPNOe/DBB23o0KE2ePBgW7BggU2fPt3922eqP2PQuXNn69evn/Xo0cOys7Nt3rx59tJLL9no0aPNzKxhw4bWp08fe+SRR+yrr76yvLw8mzlzZuVvcx1p7Nix9sYbb9h5551nt9xyix08eNCefPJJ69Kliy1atOjYTxaA6BzvOXLo0KE2btw4GzVqlJ177rm2ePFimzx5cpVPF0PUrl3bxowZY7feeqv179/frrrqKlu9erVNmjTJCgsLg/ugX3/99fbEE0/YW2+9ZQ8//PD3Oib8fbH4g5mZTZw40Xr06GFPP/203XvvvZVf/L322mutd+/elduNHz/eMjIybOLEifbWW29Zr169bObMmTZkyJDv/dq33XabvfrqqzZz5kzbv3+/5efn2/jx4+2uu+6q3Ob555+3W2+91Z566ilLJBJ24YUX2vTp05N+3+rUU0+1GTNm2D//8z/bfffdZ61atbKxY8fapk2bWPwB+N6O5xx577332p49e+z555+3v/zlL3bGGWfY//7v/9rdd9/9vfc5evRoSyQS9uijj9qdd95pp512mr366qt22223WUZGRtC+evToYV26dLFly5ZV/ig2ftxqJI7lG6AAAKBaOHz4sOXm5trPfvYz+8Mf/hD0Z08//XTLzs62N9988wc6OqQT3/kDACAy+/btS/oe4Z/+9CcrLy+v0t4tFfPmzbOFCxfa9ddfn8YjxA+JT/4AAIjM22+/bXfccYddeeWVlpOTY/Pnz7dnn33WOnXqZJ988kmVH4lWPvvsM/vkk0/s0UcftdLSUlu1alXwPxnj+OA7fwAARKZt27bWunVre+KJJ6y8vNyys7Pt+uuvt4ceeiilhZ/Z1z9BM27cOOvYsaNNmTKFhd8JhE/+AAAAIsJ3/gAAACLC4g8AACAiKX/n75seq8cq9McjPapnoKrXqhX21UbVF7FBgwZJNdVax2u2bWZWr149t6760x44cMCtH9nY+0hH/lr7d+1f/Yu/OpbQuvJN545j2c+ePXvc+u7du936vn373Lo6X2rMqGNXvO/OqHsgHfs+mtB7zxsfatypemh/zwkTJgRtf6JR99w999zj1idNmuTWGzVqlFRTY1bdK82bN3fr/fv3d+t9+vRx6/Xr13fryldffZVUU/dt6P2ZlZXl1tevX+/WS0tL3bq6V77p5HEkdeyh97N3Xsz0Ma5bt86tq3vx5JNPTqplZ2e723rjy0yf34YNGwYdy969e936tm3bUq7v2rXL3VY9M9XzZfPmzW7dO19mek5TY+bbHazMrLKBwbc98MADbl2NDXWMqeCTPwAAgIiw+AMAAIgIiz8AAICIsPgDAACICIs/AACAiKQcg1Wpq9Dk7bFue7TtVQJMJWLq1Knj1lV6zUtAqfSTlww208ceen5Vcil0+3RI1zGGjAP1S/IqFaXOr6qrVKZKgqvt1f7TQaXa1DGqekgKOPQ34UPHQHWnzrX61QB1zbxfDVCpU/Wa+fn5br1z585uvU2bNm5dXWOVdvUSoOp+VvtW41DN9SoZ36FDB7feuHFjt75z586kmnqfai5S21dUVLh1lfYtKipy65mZmW7d+wWKFi1auNuq9G7os1eNPZXUVb/K4KW1S0pK3G23bt3q1hX1muoYVXo+5ByEPi/UuD6W+TXOGRgAACBSLP4AAAAiwuIPAAAgIiz+AAAAIsLiDwAAICIpp31VkiUdKdLQxIpKEIWmelUiV/U79BJQdevWdbdVKT3V61Alw37IlO7xko6kpzq/6nqE9kJW9XRdV0/oeVGvqaiEWTr6bSvp6gdd3S1dutSthyRJVTqxadOmbr1fv35uffDgwW5d+fLLL916SFJXjUGV0g0dy61atXLrKtWq5hHveELTziqlr6hjV+cmpK+8ms9Ck8rqeqjtVSJZpb69X+BQqfTly5e79eLiYrdeUFDg1pcsWeLWQ5O33nVSc7daZ9HbFwAAAMeExR8AAEBEWPwBAABEhMUfAABARFj8AQAARCTltK9KUaWjl2xor1cvtWSm07sq0RW6vZcAU+kcleZR50WlS0P3E5KwC01cpqsHsxKSyA1NiKvEtzrvKsGojlHVQ5KN6TpfoWMmHenr0B6ssVLjTfX2VWk+r7+oSpF27NjRrQ8bNsytez3Mzcz27t3r1hU1JrzxGTr/qaSrSq+q+19R59LbT2hfYlVXx6jmi9C6d47V+1QpXVVP17NBHbs3j4T2a1a9k1VvX9XDd82aNW5djT3vdUPnxR/iFxn45A8AACAiLP4AAAAiwuIPAAAgIiz+AAAAIpJy4EN9QTE0NOB9KTL0S/qNGzdOS10FR0K/TOxR50u1aQltPxbK+8JoOr7or/Ztps9BOkJCoV+YVddO1dV7Cg1ZhEhXK7TQYMcPGQRRYm3vpsabGs8hAQYVVBs4cKBbb9asmVsPDaWpL9KrcIC3/9AvtKuxGXqfq0CNCvJ59dDnRUg4zEyfm9D5wttPaNtW9fwKXR+ooInavzf21HjMy8tz69u3b3frK1eudOvqfgptLeqd99DnSMjaI1V88gcAABARFn8AAAARYfEHAAAQERZ/AAAAEWHxBwAAEJGU075KaOrKS0aFtuRR9fr167t11X5HJb1CUlrparGl6iqNpRyPFl6KSm6pYwl5r+lqTadeU40Z1eJKvdeQY1H7SNd7Dd1PSGs6HJt27dq5ddWC0ruW3bp1c7c999xz3bpqa6XmP5XQDK17c2PouApNxqp6SKo3VOico95TaJI25Nmj5hx17ZTQ54tKSIe0+VNp8rKyMrce2s5VtfgMTQF7x15QUBC0D3Wd1BomFXzyBwAAEBEWfwAAABFh8QcAABARFn8AAAARYfEHAAAQkWOONKkUVUiPRZUUSlddJWJUPSS5pJJVoemy0ISmqof0AFT7CE2XhSaMVaIrJI2arkSr2o9K+6pjV8kzb/vQZFxof+d09eT19hO673T1K64u1Lygkojqlw28eadNmzZB+1DjSiXaVQI0NKXqJRfVeQkdb2r7dCVmvf2H9msO6b17tO1Df1HCO/bQ867ek5r/1LkJffZ47zU0rZ6ZmenW1f2hzoHaj3q279mzJ6kWmm5X+z6WXsB88gcAABARFn8AAAARYfEHAAAQERZ/AAAAEWHxBwAAEJGU074qGRaavPVSPulKdKmES7rSj945SEfiyiysL+DR9p+OFGXoa4YmjkKPXSXAQoSOU5UAUwmzdKSPQ48xNAWcjiQ0ad9jEzrGVb1evXpJNdXbfPfu3W5dpXfVGFd11Xc0pO956K8gKOo1VXpfvW5Isrlu3bruturXJNQYUPdzaCI35J4LnUNCn7Ghv0oRkngO7YOr9q169Yb2zVVjLCcnJ6n22muvudtec801Ke/DLOzXPb6NT/4AAAAiwuIPAAAgIiz+AAAAIsLiDwAAICIs/gAAACJyzL19QxOdXipI9ZJUaZvQPnehffRCkohq36FJr9BEqzoH6ni8cxyaxFKJLnUsKnWVjmSsek1Fnd/QlLVKVKok5JdffpnC0R39WELHhjrvobzXTVdKNx0J7hORGvv5+fluvWXLlm7dm1/UPbFy5Uq33qRJE7cemkZV9dBewJ7QNKM6dtV7Vh2Lmr+996ref+ico449dH4N6Sms9q3ms9AevupY1P7V8XiJ6nQdo5rTGzVq5NZVel4dj9fbVyXE33nnHbd+ySWXuPXQRPKR+OQPAAAgIiz+AAAAIsLiDwAAICIs/gAAACLC4g8AACAiKUcmQ/u6qlSbl5RRyZcGDRq4dZVwUf1YVSoqtL9gSGo4NHkc0tPwaEITuSGvGToG0tXDN6QftKqHJr5D04Hq/HpjMrSfppKu/Sjp6EuMqtQ57dSpk1vv1q2bW1+/fn1SrbS01N1WjU01ltW9ouZRlXIM6fkd2qdVvafQX1lIR8I+9DyGPhvUfR4676o5zRMyF5vpZLe6Huq9hhxj6HNErTOaNWvm1ps3b+7WP/vsM7fupXrN/LHauHFjd9u//OUvbn3o0KFuPXTsHYkZGwAAICIs/gAAACLC4g8AACAiLP4AAAAiwuIPAAAgIilHQEOThSqN5e2nadOm7raqrlI7Ku2rtlfHGJJc/KF7lKr9h/bZDEnMhqbLQnv1pmP70J7KikoTqrGkzk3t2rVTrqtEW7p68qbLD5n2De3ZWl2o87Rlyxa3ru5/L4moxr5KIar7We0nJL1rFpbIVedFvf/QvraZmZluXR17yDyqzkvIM9As/LyHzoHefkLep1n4r0mE9jdW825FRUVSTc25ob2TTznlFLdeVlbm1lXaV10n717Nyspyt23RooVb37t3r1unty8AAABSwuIPAAAgIiz+AAAAIsLiDwAAICIs/gAAACKScto3NOmpeMnbli1buttmZ2e79dB0WbqSyl66SCWOVLJI9cEM7T8cmsbyzoF6TZUsUnV1jBkZGW499Ni941TbqnGqek+q5K3aPvTYvTRWaM/j0HsstB90OvajtlX3krpO1Z1631u3bnXr6vwtX748qda5c2d3W9WjNF3pXZXQVHOdN1ZUIlnNr6G9vdWxhP7ig1cP/fWC0N67oc81lbD9IX+ZQu079Bcl1LyrxljIsajxvnv3brfepk2boP2r6+eteZo0aeJu2759e7e+c+dOt96oUSO3ngo++QMAAIgIiz8AAICIsPgDAACICIs/AACAiKQc+FDhgNAvu3ohDvXlR/UlT/UFWEV90VN9QXPXrl1u3fsyqtp3ur68H7q9avfiHY/60m1o4EO9Zuh1SldQIURIyORo24e0K1LnK7S9W+gXykOlYz9qjIWO6+oitL2bajHl3Yvqy/Iq8FG/fn23rtSrVy/lYzHT7ce8eUHtW+1DCQnrmYW3Wgtp7xb6DFD7UccYem681w0J5RxN6FwUGrTxzo0a76HPHRXgUGMyPz/frW/fvt2tN27cOKmmxpdqQ/hDtP6McwYGAACIFIs/AACAiLD4AwAAiAiLPwAAgIiw+AMAAIhIyrGY0JY0KqnrJXu99idmOs2kkjKK2l6l1NR78lowqTReRUWFWw9NPylqe3UuQ9KVoe3wGjRo4NZDE2MqdeUdT2gyLjTB/OWXX7r10PfkpbRUwk6l15Qfuu1bOtpBqesUmlSsLtT79hKBZno8e62nVAsoJbTFlhq36hqrhK23vRprKuWo5nR17KHbh7RIU/ehmqNV28vQtmTqFwbUOfPamKm2euk6dnVuVEs1tb33TFbjUbU8U+dRzfWqvaxq+/bBBx+4de8+U6lelRhWyePQsXEkPvkDAACICIs/AACAiLD4AwAAiAiLPwAAgIiw+AMAAIjIMad9VWJMJUCbNm2aVFOpMJVYUYkgVVfJY9XbMisry623aNEiqVZaWupuu2nTJre+efNmt64SRzt27HDrKl2VSsrnG+q8q/OlksQqSacSSurYVfLOS+SqlJpKkantQxPfyg/Zl1idL/WaKgGmpGs/+G7qWqqEYteuXd26N+/MnTvX3ba8vNytq4SxSnqqY2/YsKFbV+PHS2mq+1bNLWqeU2lqdf+rOVDdE97+1XMn9NgVdd7V3KVSsN45UHO6egaoY1fPqcWLF7v1tWvXunX16xnes0H1w/ae02ZmAwcOdOt5eXluXaWmc3Nz3bq6n7xniUpNq3tJPRtDx9KR+OQPAAAgIiz+AAAAIsLiDwAAICIs/gAAACLC4g8AACAiKad9VaJJJWJU7zovEaMSKypxFJpCVEkv9Z5UAsrr9acSPqovoNpeJfJUokmlf0J63qpUn0qpqfOlXlMl+JSQ1GloulaNsdC0mxLSs1mdXzVO1dhQ956irtMPmfY9ljRaTNq1a+fW1a8JeHV1f6p95Ofnu3X1Cw5q3G7YsMGtL1myxK17KVWVrm/ZsqVbV/enSlGqBKiaA9XxhPTfVr94oc6jOhZ1n6tUbwj1foqLi916SUmJW//444/dupq7Qnuwe3OU2sfGjRvdujpfgwcPduvq1yrUr4GoMVlYWJhU69atm7utOkb1ayDHgk/+AAAAIsLiDwAAICIs/gAAACLC4g8AACAiLP4AAAAiknLaV6VwVMLF6+FrppNOntCkoEpohSZD1TF652Dr1q3uttu2bXPrKv1UUVHh1lUaa9euXW5dpYy9c6n2rfahkrHqOqm+mSq5pFJtXooxtLexSt6pdJVKDYYmob0En+pfqdJ+6ljUmFFUeledS297ta0Smkiu7tT5a968uVtXv5qwatWqpJq639TYDO3TunLlSrf+xz/+0a3Pnz/frXu/eNCmTRt325ycHLeuzqN6HrVv396tq/PbunVrt96kSZOkWugvNTRr1sytK+rZq66r+tWABQsWJNXef//9oNdUv+CgkrdqjKm5SL0nL/Wtxruac9TcrbZX6wnVf1f1CPbGsHruqHG9efNmt656f6eCT/4AAAAiwuIPAAAgIiz+AAAAIsLiDwAAICIs/gAAACJyzL19Q+teojE0jaYSMWo/KqGkelKuX7/era9duzapFtoDUiXpVJJWJUBVf0EvBWjmJ8zq16/vbquSSEVFRW5dHbt6ryoZplLZIT0s1flSyViVml69erVbV72Z1Zj0Embp6idco0YNt67Sa6FpX68empxX1L1a3YX2S1bj2UvHqhT59u3bg/atjnHp0qVuXY23/v37u3Uvjap+AcCbc830nKDm3Y8++sitq/6tKpHbtm3bpJo6XyrBreY/lTxWzyPVf1eNg08//TSppp6BKu2r5i5VV9e1UaNGbl39KoM3H6uEuOrj7PXYNQv/VQr16wuq7l1vda3VPaa2V/NxKvNrnDMwAABApFj8AQAARITFHwAAQERY/AEAAESExR8AAEBEUk77qlRJOtJ/6UgMH41KV6m6el0v6anSn6q/4scff+zWVTK2e/fubl31nly4cGHK+1fnUSXgVE9DlZZSVJJM1UMSkuqaqsS3SmurpJdKB6vXVam2kGNRdZUuU+dL3avq2EP2gdSEznUq/ejNC6Wlpe626vqqxKy6V9T9r/rmql9r8Hrhrlu3zt1W3YeKmovU3KLSwep4vP64qv/wiBEj3LpK6av7uaCgwK2rBPOsWbPcune91VzfqlUrt67uf5U8Vud35MiRbn3YsGFu/ZVXXkmqqRT7Oeec49bV+A2Z/8zMdu7cGbQf77yrvs/q+XLKKae4dTWWUsEnfwAAABFh8QcAABARFn8AAAARYfEHAAAQERZ/AAAAEUk5Nqv6N6qUmkr5eGmh0ASh1y/1aPWWLVu69aZNm7p1lTDzUmoqianSYqrvoErGqfO7bds2t654vRdzc3PdbVXCUB2Lek+bNm1y6yqhFNr31KPGnbpOqr+xuh4qNagSf14v0M2bN7vbqoS4OpbQlFo60r6h+1Z9g2OlrqWi0uLerwyoeS40ja/mUdWrVo3bDz74IOXXPP300916x44d3fq0adPcuuptrnqjqhSl+iUE772qOUSdxy5durh1NS+q+/Pss8926+rZEPIM6Ny5s1vv0KGDW3/jjTfcukqU9+jRw62r1LA3PtScrn4JQz3X1f2hxoBKw6sxpsaBJzs7262rXxUh7QsAAICUsPgDAACICIs/AACAiLD4AwAAiEhYnzSH+jKqCoh4X9JUQQJFfUFT7Ue1zVFfUldf9PS+XKm+XBvSlslMH3tFRYVbV8EG9QVp70vJXhjBTH9x3PvCsJlum7N161a3rkIAIcEfdY3UtVbHrtobtWnTxq2rwIe6ft6Xg9U+1JhRx672o77YrO5VFbTx6iqwoPZB4KMqNS+qL26rMeHNO+qeUO2o1BfX1RfUVfiksLDQrasghBdUUGP2888/d+s33HCDW3///ffdumpX1q5dO7eujsebX9T9qeY/FYJQ4Qv1DFDPwUsvvdStd+3aNamm5lwv3Hg0/fv3d+vq2NXYU/OIdx+o547ah3o2hM5Rag5s0qSJW/fWPHXq1HG3VSFUFfg4FnzyBwAAEBEWfwAAABFh8QcAABARFn8AAAARYfEHAAAQkZTTvioBFpLqVduHtD85GrUflc5RqSu1vde+Re0j9LyoZJhKKIW2uPPSRSq9pxJwKtEa2h5MJRtV8sx7XZWWUund0GNXyS11PVR6zRsHKpWpxp0aS+pahybwFW8/6WopF5rwry5C5zqVJPXmkaysLHdb1U5Q/VKBSp2qxKF6T6pVlZdSDU3Rq/u/d+/ebl29JzU+1a8meL+QUFJS4m5bVlbm1lX6Ws3HKnmsxoZ6T94vRKg0uUrSqjlEJY/V9irVqn7FQs2ZIdSxqLGkzqN6Bqi50Tt2dS+pdLQav8cizhkYAAAgUiz+AAAAIsLiDwAAICIs/gAAACLC4g8AACAixxyhUYkYlYL10jyhSaHQdI5Ko4X2+gtJOoYmj1W6VKXgVF2dy9atWyfVVG9flaxS11SdR7Wf0OSWt71KDKt9q/SaOo+qP6Qae2p7LyGuxpca7yoBppJ6aj9q/Kr9e9Q9FlqPNe2rrk3ILwyYmfXs2TOptmXLFnfb7du3u3V1DdRYVveWmnPUuCotLU2qqeSqmqPUa6p7S71XNU+H9NNWaWq1DzWHqKSrosaSuue8lLFKnaprHfpsVPOu2o86N971U8eo0tHqlyDUWNq1a5dbV7/YoZ7hRUVFSbU9e/a426prGrpWUc/HI8U5AwMAAESKxR8AAEBEWPwBAABEhMUfAABARFj8AQAARCTl2GU6evia+akglVgJTRapxJxKrympJGW+EZo89pJuZvo8qveqUoCqZ6KXRFIJIpXqVclY1cNTXY/QpKeX6lJjQ51HdZ1UYiw0SReS1lTnUQlN9aqEnbquKu3mba/ef2jP31iF9mNW90phYWFSbcWKFe626pqpuULdQ2ochsyXikoGq/Oi6iq9qqj7VvHm79C5Qs1daj5W+1H3rUp3e2li1VNeXWs1HtV7Cv3Fh5Ae7Coxq1LTah2g9qOuh0oB79ixw617PbTV8+iCCy5w6+oeU+8plXHNJ38AAAARYfEHAAAQERZ/AAAAEWHxBwAAEBEWfwAAABFJOe2r0iOqrhIxIUJTuiqlFpouVUky73hUEksljlTKSfWBVMlNtR+VvK1fv35SLTT9qeq7d+926yoBpt6rSkJ66ViVxArpDXm011R19Z5CeNfCTI87Na5Dz2+jRo3cenl5uVv3qGNUx6LOo0pIVnfq/IX2UvXuRXXd1T5UwlbtR93/ubm5bn316tVu3Zsz1X2rUqdq+7KysqDt1XlXzzXvnKl5VM3F6liU0DS12j6kh7caA6o/rnpPob8CoM6lN1+o9xP6yxnqWbJhwwa3HtrL2jtnF110kbutSqurezg0rX4kPvkDAACICIs/AACAiLD4AwAAiAiLPwAAgIiw+AMAAIhIymlfldpTqV7Vw9ZL7YSmmVRvVJXCCU0NqySil+BVad/QdGno9qG8c6DOu+p1qM6vSq+GJsTTcf1UokvtW1EpwFDe+AhNaKn3H5ocVa+rEnzr168/5tek529V6jyphKK6/700Ztu2bd1tly5d6tbVHN26dWu3ruZddewLFy50682bN0+qqcSwSjmqPqqqv/Hpp5/u1lVKVf2CgfdsUGO8oKDArav7MCTpaqbPjbqfvdcNTcaquSj0uRb6qwneOVDPHfVMVu910aJFbn3Lli1uvVOnTm79iiuucOs9e/ZMqoWm+9WzOnT7I/HJHwAAQERY/AEAAESExR8AAEBEWPwBAABEhMUfAABARFKONKpUiUoFqaSMSoyFUOmndCUOVaJJpYg8KuWk0mVq3+o9haYGt27d6tY96lqrPpuKuk7q/Kpz5u1H7SMk6Xa01wytK951DU2Iq+RWaD20H7JKfXvSdb6qOzVuQ3ujevdot27dUt7WzGz79u1uXV0zNR5U8lbNRSql6VHnRf3KhHqvob191XXy5iJ1X6n+uKGpe7V9kyZN3LoaM16CObT/sKqrXvahv+ygrp93jtXzZefOnUHHopLd6j2pZHNeXl7Kr6vGlzpGdU3p7QsAAICUsPgDAACICIs/AACAiLD4AwAAiAiLPwAAgIiknPZVfQdVMkz1jVQpLU9oH9HQHr7poN6/OsaQxLCZThyp1/3yyy/dupfSCj2/Kr2mEmAqFRVa96jUeGiSTglNqYb2pw6hEnCh/THVMYam3Tzq2qWrR3J1ocbn2rVr3bpKNBYWFqb8mqoX6YIFC9x6cXGxW2/RooVbLykpcesqBbtmzZqkWrruWzXeli9f7tbVPaHeq3dPqNdUz0Dv/ZvptKjXC9nMLDMz062r+9ab71Xie9OmTW5d/eKD6p2sjkX1YFZJXe/Zrp5fLVu2dOubN2926xs3bnTr6hkwf/58t67uSe/6qbXKypUr3bp6rqtngNdP+Nv45A8AACAiLP4AAAAiwuIPAAAgIiz+AAAAIpLyt7FDW6SpdmJeXX3ZV4Uj1Jd0Q78Ar6jj8b7Yq15THXtoXe1fBWfUF0OLioqSag0bNnS3VV8yV+2d1NhQ7yl0LHmBEhVAUvtWraZC22qFtiXyhIZ+FPWlYXXs6rpu27bNrXvjPXTfSI0KB6j7uV27dkk1NQbVfKbasqm5Oycnx62rwJAScv+HBq/UvtV8oc6NOpfl5eVJNXX/5ObmunV1HlWI7YsvvnDr3hgw0/O698xYvHixu23nzp3dugp8qPO+ZMkSt66uhzp2Lzii7hkVPlOvqag5rXHjxm49KyvLrXvz6Oeff+5uu379+qB9H8uzhE/+AAAAIsLiDwAAICIs/gAAACLC4g8AACAiLP4AAAAiknLaV6WfVPsWlUZdt25dqi8phSbAlNDUcEj6MV0pNXV+VQpQJXJDUkEqLaWORbXkUem10KSul8itX79+0GuGpn1DU9kh11ttm64UsBq/amyo1Kd3nKqVVWiCG1Wp86rSqN7cFdpiULVOU8ei9t+0aVO3rlKq3bt3T/lYsrOz3bpqyaVap3Xt2tWtq3lBJem9JHRBQYG7rWqxpY5dnccPP/zQrav7Vp1L79i7dOnibtu+fXu3rlp8qjZxKpF77rnnuvVGjRq5dS8Fq45FJWbVc00laVXLxXPOOcet9+rVy61787GXGjcza9WqlVtX4/dYfuGET/4AAAAiwuIPAAAgIiz+AAAAIsLiDwAAICIs/gAAACKSctpXpUsrKircukqGrVq1KqmmkkIq/RSaalOJOUUlvTwquRma9lWpHdVfUCXyVFrKu34qGafev+q7qBK2Kl2qUsPqdb1EntpWJboUlfYLTbX+0AnekH2rukrgq3PgCX2f6UrDV3fp6kvuUddGjXHVu1T1/FVC0v5qnlNzhdpe1VX/4bKysqD9eOM2MzPT3VbNr+pZquYuNdepZ6+63t55V3OCek31yw7qGat6oS9YsMCtt27d2q1780i6xoa691RdJdAV73XV+VXnUV3T0LXQkZiBAQAAIsLiDwAAICIs/gAAACLC4g8AACAiLP4AAAAiknLaV6WiVNpE9V71evtu27bN3ValfRWVlFEpKpWgUUkc772q1GJoCkcdi+o9q+oqqeel3RYuXOhuW1xc7NZbtmzp1hs0aODWVQ9flTJUKTgvkabef5MmTdy62l5d69CUrhp7XmIstKd0aKpXUck+xUvYqfQeUqOusZpHQpKIoeNKvWZubq5bV/O0uodCfglBJc5V/1Y19lUCVM1FKgGqErxeX94ZM2a42zZr1sytd+jQwa2r511Iz3Mzs8WLF7v1V155JanWo0cPd9uzzjrLrWdkZLh11WdYpXc3bdrk1pctW+bWvbGnjqV58+ZuXSWV1a9SqPsmLy/Prav7z6vn5OS426pnaeg9nAo++QMAAIgIiz8AAICIsPgDAACICIs/AACAiLD4AwAAiEjKaV+VZFH9BVWPWa/f4/Lly91tO3bs6NZV8kWlzlQqSiXGQnosqn2o9KdKuqpjVEkvdX5VytrrR6iSsS1atHDrK1ascOuqh6VK3qmUljrvXvIu9DyqVJ9KE6q+pEpIWjG0j6mqq/OljsVLKpqF9ZNU26rzrtJoIf2EqxM1j6p5RKWrve3VuVbXTM0tqoe3mutDe4R7dbWtSqirY1epXrW9uhfV3OjNRarnsZpD1POua9eubl1dP7UfNQ4KCgqSauecc467bUh/YDM9H6v95Ofnu3V1nbzk9Lvvvutuq8aSupfU+VLPqWeeecatjx8/3q17yd5u3bq52x5Lr95QfPIHAAAQERZ/AAAAEWHxBwAAEBEWfwAAABFh8QcAABCRlNO+KhWlUn4qoeilWVQ/v/PPP9+tq0RraG9UlfIJ2T50HypxpOrqPKpzoBKg3nXKysoK2odKAX/66aduvby83K2r/oWh59ITmjpT51cJHUvefRP6mmpsqJ6UGzZscOtef+ejCRnvqq7GUqxUElElOkPGikoKqgSlou4h1ad15cqVbl31Ul27dm1STc0t6v2HpoNVIlm9J/W6Xkr1Zz/7mbut9wsLZmZz58516+q+VT3PVS/gAQMGuHVvLmrVqlXK2x6NWgeohLgakyFJXfWaah0Q+ixdv369W1fjfc6cOW79pz/9aVJN/dqBShirMaDOV+PGjd36kfjkDwAAICIs/gAAACLC4g8AACAiLP4AAAAiwuIPAAAgIimnfVVqTyXDVHrNS+Ko9IzqJav6Lob27lPJTZUW8tJ06ryEpiLVsag0j0r/NG/e3K17SSf1PlUaVyXp1HlXY0Odgx8y2ajea2ivSpWCU+Pde6+qn7BKgIX2AlYpNfVe1fGo9+RR94EaG2pcV3fqnKq065YtW9z6hx9+mFSrV69e0LGo+9nrRWpm1rJlS7euxo9Ku3788cdJNTWnd+nSxa2rpKc6B+oXCdQ9d8YZZ7h1L2GrUrrqflNp3M8++8ytq8Ts1Vdf7dbVGPN64ap9q2NXyVh1DtQveaj9KN59oOYcNQbKysrcuhp727Ztc+ve+DUze/nll936sGHDkmrq2NVzKjR5PHToULd+JD75AwAAiAiLPwAAgIiw+AMAAIgIiz8AAICIsPgDAACISMppX5V+VOnKkFTr3r173W3nzZvn1ouKitx6s2bN3LpKdIWkGdX2Kp2jEpoq1au2V+dRJezUufQSfOrYS0tL3bpKl6pjUceuqNRVu3btkmpqPK5bt86tq/cUmhpWKUP1Xr3roZJeKgGr6upaq1Sbut4qkeuN1dCEvNo+pF9zDFTCVqVOvSSiGg9qvJ166qluXfX83r59u1svKSlx66q/aLdu3ZJq6j5Uc7caP17vXTOzwsJCt65eV/2agncuO3bs6G4bOqf36dPHratkbGj/+E6dOiXVQp/r6nqoZ6+aF1TSXD1junfvnvK+1a+EqGut5kuVwPeeR2Zhc5o6FiUvL8+tq1/mSAWf/AEAAESExR8AAEBEWPwBAABEhMUfAABARFIOfGRmZrp11R5GfTHU+6Kj+oLq1q1b3fqOHTvcuvqCsfpiqGoDo76M6X1RV33JU31hVtXVl7XLy8vdugpHqJZK3nVSX+BetWqVW1ehCRWyOO2009x6hw4d3Lo6do867+rL0Rs3bnTrn3/+uVtXX/hW1JfkveMM/SK4CnwUFxe7dTWWQr9k7B27OpbQYAeBj6rUeVXjyvuid2iALXQ8LFq0yK2/8847br1v375u3ZuLVOu4kJaPZvo8qmeMCqvt3r3brXvjVoXAcnNzg+rq2aDm6YyMDLeuxoH3zNizZ4+7rTrval5U7d1UIEHN0+oZ4F1XdSzqua7WDcry5cvdumr7plrieedYXTsVwGnYsGFQPRV88gcAABARFn8AAAARYfEHAAAQERZ/AAAAEWHxBwAAEJFjTvuqFNWWLVvcupfaCW0DplI7mzZtcutt27Z16+p1VRoz5NhD962StCp5+9FHH7l1laJSSSSPanfTvn17t37ZZZe59ebNm6f8mmY6YefVVaJLjUc1BlRqesmSJW5dpdpCE+gelVRU+16zZo1bV+nDUN4YDm1bSNq3KvXLA6FJXe/aqPSuOtcqFa7uLdUmTqXO1T3ntbJT86VKO6tkrJrn1HtVr6vaj3nXSc0hah5V7cdat27t1tU5WL9+vVtfuHChW/dS1urY1X3+xRdfuHV1frt06eLW1XpCtYnzUrDqGqkUsBoz6pcgPvnkE7fetGlTt66St16iPDRpr54Navymsn8++QMAAIgIiz8AAICIsPgDAACICIs/AACAiLD4AwAAiEjKaV+VlFFU2sTrGRiajFXpR5VqO5b+d0cK6e2rqNROaI9FlehUqUEvqad6F5566qlu/brrrgs6ls2bN7v1nTt3unWV9vXOjUpcqV6dKgWtxobqManS1yE9gtV4Vz08165d69ZVH0h1DkL78npC0+2qro69ugtN5Ib0GVfUtmqcqESySmiq+pw5c9z65ZdfnlRTKV2VdFVJT/WcUturxLyaG1Xi2aPmdHWM6jw2atTIrat5VO3H67O7evVqd1t1f3pJbTOznj17uvX9+/e7dXUe1fPOWwuoVK/65Yzy8nK3rn7ZQZ131ZdXCUnmq/sg9DVTwSd/AAAAEWHxBwAAEBEWfwAAABFh8QcAABARFn8AAAARSTlyp5KYikqneIlDlfxRCbiQxJWZTmJ26NDBraukp0clklWvQ/WeVLqqoKDArefn57t1lTDzUsDdu3d3t+3YsaNbV0kk1Y9RXSeVolKpYe8cq21DE3ZeAs5Mj4HOnTu7ddVTeN68eUm10H6iqhdoKHUOVArYGzMqpaZS5uq8oKrQ/ubePKL2EXJ9zXTat02bNm5d9fB955133PrHH3+cVOvbt6+7bUj600y/J7W9ek/qPl+5cmVSTfVCVr161S8VqGeDSq+qeVclcr1zoH6RQf3ygLqf8/Ly3Lr6ZQ7V91gleL1k87p169xt1TNApXq3bNni1ouKity6ejaoc/nss88m1UaOHOluq9ZNau4OnY+PxCd/AAAAEWHxBwAAEBEWfwAAABFh8QcAABARFn8AAAARSTntq9I5oWk+L5Gm0mgtWrRw6yqhpfpALl261K0vWLDAras+hV5/WJUiU8ktlURq0qSJW1dpHpWkVb0Uvddt3Lixu61K+6lEskpoqaSXOnaVVvR6Vaq+pKpXr7pOKkWlks0q0dW7d2+3XlFRkVSbOXOmu21JSYlbV9QYU2MgtA+1l4RWKfbQsaTuA1Slzl86evuq8aDmY5VEHDhwoFtfuHChW//ggw+Sas2bN3e3Vceu5hw1R6ljV4lc9SsA3jyirpGa09W+1bNU3VvqXlS9wL3t1Xym+uCqZLe6Hmp+Vdc15BcJVBJc9WtW56VVq1ZuXfVIVveNemZMmzYtqaZ+geSKK65w67169XLrauylgk/+AAAAIsLiDwAAICIs/gAAACLC4g8AACAiLP4AAAAiknLaN7SHrUpdeWkelXI6++yz3brqracSXaqH7ezZs936smXL3LrXC1ilk1S/R9WTVqWf1HlUKWCVUPKSSFu3bnW3VT2PVcJ29erVbl2lfdUxqp6/3uuq8aiSxOo8qusRur0aB4MHD06qbdy40d32lVdecevqPanroe4nlY5T78l7XZUkVuPXSzubhSePY6XSfN79r9KGajyoVK8ab+pY1Hyh+r16ydA333zT3Val99Vcr3rShvbwDplfPv30U3dbr4exmZ5b1LygrpOac1Td6/ca+sxUz51t27a5dTVfqLkrpL+72vcXX3zh1tUYUM8ddZ3Umkelu733+sknn7jbLl682K2rXyC59NJL3fpZZ53l1o/EJ38AAAARYfEHAAAQERZ/AAAAEWHxBwAAEBEWfwAAABFJOe3r9bU108mXkJ5+KnGl+i6qFI5KM3opJzOzHj16uHWVxPG0a9fOrauUozp2lX5SVBpNpS69xNgpp5zibqt6Sap+rCqltmrVKrfesmVLt676e3oprdDkqkq1haav1bgOSd7+4z/+o7ut6ps5YcIEt65S1qE9WxVv+9Dzu3v3brcea9pXXQM1R4UkN9W1USldlepVPVBnzJjh1ufOnevWVdrXm7uKi4vdbVUKeOjQoW5dnV/Ve1a9V3U/e89B1Wt+0aJFbn3nzp1uPbQ/tvpFidzc3JS3D3mfZnqcqrqaR9WzRKWG169fn1SbP3++u606X+r8qvtAPcPV9uq6es98teZRif2PPvrIratz8Prrr7v1I/HJHwAAQERY/AEAAESExR8AAEBEWPwBAABEhMUfAABARFJO+6pUkOr1p/pJeungM888091W9XVUCTiVOFQJGpVoUinYLVu2JNVUf1yVLFKvqdKPKi0VWvc0a9Ys5W3NdPpJ9TRUCT71XkOTZB6V9lPpMjU2srKy3LpKa6v0tXc86v17fYDNzM4991y3/stf/tKtq56iKmGmhCRK1T2pfg0g1rRv6PsO6curUo4rVqxw6++8845bnzlzplsvKytz6ypdqlKRLVq0SKqp9P7y5cvd+qxZs9z6hRde6NbV+FTzheoD6z2T1H3Vvn17t656yarnl3qWqO3VONi1a1dSTb1/ldJXVJ/dlStXuvVNmza59c2bN7v1999/P6lWWlrqbqt+NUKdd/Ve1flVayF1b3spYPV8UeNOvVd136SCT/4AAAAiwuIPAAAgIiz+AAAAIsLiDwAAICIpBz7UF93VlyjVF8O9LzCrwIf6ouuOHTvcugoGqC9uqi8wq9f1vtCpggTqi9qqJY8KDKjzqL4Yqr506n3xftmyZe62HTp0cOuZmZluXbVr69q1q1tXX5hV1y8kNKGoIIwKLIW2xFJ1jwpBqC/1qvE4cOBAtz5nzhy3rr5krL4MH8L7MrmZvk5q3qju1DhR58lra2Vm9uGHHybVVFtK1WZRfelezV05OTluXR27+jK69wV4FRorKipy60uWLHHrKnhwySWXuHU1DtV87AX2QtuGqWNUzykVylD3rap770ldIzXXq4CcGqfl5eVu3QtPmvnj2sxs+/btSTX1LFWhStV+LWStcjTqGeOtnVRQVI0Zde+p9Ucq+OQPAAAgIiz+AAAAIsLiDwAAICIs/gAAACLC4g8AACAiKad9VbJGJTdVmueMM85Iqql2aioVpdI5KhUV2sJHpS6996qSburYVfpJJcZUyloli9T18Pav0n5ffvmlW1fnSx2jSiKpNJraj5cCVtsqKtWmxoZKXalEskoHe8ledS+p86uORSUh8/Ly3LoaYyEtglQiUSWY1flVacLqTs2Lf/3rX9367Nmz3bp3vlU6USVX1ThUCXg1TtSYUMfjba9abKkUsHpNlQJ+/vnn3fo111zj1tW9olKtntB7Rc2LIb8kYKbPuzcfq7Gh0vvqlza2bdvm1tUzZsGCBW5dpWC9BK961nnJYDN9PULHrzpn6jp526vniHquqzWJuodTwSd/AAAAEWHxBwAAEBEWfwAAABFh8QcAABARFn8AAAARSTkyqVKtKvmi0nx9+/ZNqqm+dSoZq3r3qYStStaoRJPq9+ilYEN6QKp9HE1o38yQnr/Z2dnutiqNpo5d9XtUdUUlZr1kr0p6qRRwaNJLJcrVuVEpLe8+UMeoxq9KiKpevV26dHHroSlDL6mr7iV1PdT4De3NXF3cfPPNbr2iosKtq3vUO38qMauuWWhdXWN1n6t7IqRnqkqLho79kpIStz5lyhS3PnToULfeunXrpJpKqObm5rp11WNWpUXV/ameAeq8e6+rrrXqe6+StBs3bnTr7733nltft26dW1fPTW/MhKbP1b2k5mN13tX+1ZymzrFHvSe1b3U9UsEnfwAAABFh8QcAABARFn8AAAARYfEHAAAQERZ/AAAAEUk57asSMSql1q9fP7ferVu3pJpKeapEV2jiUqV2VCJZpYC9xI3qAan2oY5RJcbUe1XnRvVS9Y598+bN7rbqPakklkqprVixwq2rRLJKY3nvVSXEQ5KEZjqJpc6jSjyqPsbeOFDnq2HDhm5dUQkwdf1UWlu9Jy/Jrt6nSkcr6p6s7tS1V2Nfpfm886fGg7on1Lwb0qfaTPcCVr+E4N1zavyouULNl+o51bZtW7e+Zs0at/7yyy+7de/XKtR9q65pixYt3Lrq36rGjLoe6lcDvGePek6pNK7qbTx//ny3rpLN6lmi5gVvbKuxoeY/9exV9ZCUrlnYeQ/99RQ1BkJ73Fc5ru/9JwEAAHDCYfEHAAAQERZ/AAAAEWHxBwAAEBEWfwAAABGpkVDRLgAAAFQ7fPIHAAAQERZ/AAAAEWHxBwAAEBEWfwAAABFh8QcAABARFn8AAAARYfEHAAAQERZ/AAAAEWHxBwAAEJH/BxdkxK4f/fbvAAAAAElFTkSuQmCC\n"
          },
          "metadata": {}
        },
        {
          "output_type": "stream",
          "name": "stdout",
          "text": [
            "\u001b[1m1/1\u001b[0m \u001b[32m━━━━━━━━━━━━━━━━━━━━\u001b[0m\u001b[37m\u001b[0m \u001b[1m0s\u001b[0m 35ms/step\n",
            "Original: disgust, Model prediction: disgust\n",
            "\u001b[1m1/1\u001b[0m \u001b[32m━━━━━━━━━━━━━━━━━━━━\u001b[0m\u001b[37m\u001b[0m \u001b[1m0s\u001b[0m 33ms/step\n",
            "Original: disgust, Model prediction: disgust\n"
          ]
        },
        {
          "output_type": "display_data",
          "data": {
            "text/plain": [
              "<Figure size 800x400 with 2 Axes>"
            ],
            "image/png": "iVBORw0KGgoAAAANSUhEUgAAAn8AAAFYCAYAAAAiD5roAAAAOnRFWHRTb2Z0d2FyZQBNYXRwbG90bGliIHZlcnNpb24zLjEwLjAsIGh0dHBzOi8vbWF0cGxvdGxpYi5vcmcvlHJYcgAAAAlwSFlzAAAPYQAAD2EBqD+naQAASINJREFUeJzt3WmwVeWZt/GbqIAMAsJhhsMkCCgKOERRcB4wRstYTkka022XmknTaRNNutJqps5sl7Zpk3TFdKImbRKTtLMYhxjjEEVRRGYQEGRQUZyIuN8Plqc92feF+1HyAmddv6p88M5i7bXXetazHzb7v+52tVqtFpIkSaqE923pA5AkSdL/Py7+JEmSKsTFnyRJUoW4+JMkSaoQF3+SJEkV4uJPkiSpQlz8SZIkVYiLP0mSpApx8SdJklQhLv70N7N48eJo165dXHnllS21Cy+8MNq1a7flDkqStiHOo/pbcPG3lWjXrl1D/7vzzju39KFWxr333hsXXnhhPP/881v6UCQ1wHl06+M8unXafksfgN7005/+tNV///d//3fcdtttdfXRo0f//zysze5f/uVf4vzzz9/Sh9GQe++9Ny666KI4/fTTo3v37lv6cCS9A+fRrY/z6NbJxd9W4iMf+Uir/77vvvvitttuq6v/tZdffjk6der0tzy0zWr77beP7bd32Ena/JxHpcb4z77bkIMOOih22223eOihh2Ly5MnRqVOn+MIXvhARb/5zx4UXXlj3Z4YMGRKnn356q9rzzz8f5557bgwaNCg6dOgQI0aMiG984xvxxhtvtNpuxYoV8eSTT8Zf/vKXdzy2559/Pk4//fTo1q1bdO/ePaZNm5Z+zZ/9VuW2226LAw44ILp37x5dunSJUaNGtbyvtyxZsiQ++MEPRufOnaN3797xmc98Jm655Za6f8LJ3m/Em+fuoIMOalW79NJLY+zYsdGpU6fo0aNH7LXXXnH11Ve3HOd5550XERFDhw5t+eeixYsXv+O5kLT1ch51HpXf/G1z1q5dG0cffXSccsop8ZGPfCT69OlT9OdffvnlmDJlSixfvjzOPPPMGDx4cNx7771xwQUXxIoVK+KSSy5p2faCCy6In/zkJ7Fo0aIYMmQI7rNWq8Vxxx0X99xzT5x11lkxevTouO6662LatGnveDyzZs2KD3zgAzFu3Li4+OKLo0OHDjF//vz44x//2LLNSy+9FIccckisWLEizjnnnOjbt29cffXVcccddxS997f74Q9/GJ/+9KfjxBNPjHPOOSdeffXVmDlzZtx///1x2mmnxQknnBBz586Na665Jr73ve9Fr169IiKiqanpXb+mpK2D86jzaNW5+NvGrFy5Mv7zP/8zzjzzzHf157/73e/GggULYsaMGbHLLrtERMSZZ54Z/fv3j29961vx2c9+NgYNGlS0z9/97ndx9913xze/+c2Wv+WdffbZcfDBB7/jn73ttttiw4YNcdNNN7VMDH/tiiuuiIULF8ZvfvObOO6441qOefz48UXH+XY33HBDjB07Nq699tr0/x83blxMmDAhrrnmmjj++OM3OWlL2rY4jzqPVp3/7LuN6dChQ3zsYx9713/+2muvjQMPPDB69OgRa9asafnfYYcdFhs3boy77767Zdsrr7wyarXaO96wN954Y2y//fZx9tlnt9S22267+NSnPvWOx/PWD4B/+9vf1v1zyVtuvvnmGDBgQHzwgx9sqXXs2DH+8R//8R33v6nXXbZsWTz44IPveh+Stk3Oo29yHq0uF3/bmAEDBkT79u3f9Z+fN29e3HzzzdHU1NTqf4cddlhERKxatap4n0uWLIl+/fpFly5dWtVHjRr1jn/25JNPjkmTJsUZZ5wRffr0iVNOOSX+53/+p9UEtmTJkhg+fHjdb1xGjBhRfKxv+fznPx9dunSJffbZJ3bZZZf4xCc+0eqfSCS1Xc6j/8d5tJr8Z99tzI477li0/caNG1v99xtvvBGHH354fO5zn0u3Hzly5Ls+tndjxx13jLvvvjvuuOOOuOGGG+Lmm2+OX/ziF3HIIYfErbfeGtttt13R/ujBpxs3bmy1r9GjR8ecOXPi+uuvj5tvvjl+9atfxeWXXx5f+tKX4qKLLnpP70nS1s15dNOcR9s+F39tRI8ePepSYRs2bIgVK1a0qg0fPjzWr1/f8jfUzaG5uTluv/32WL9+fau/tc6ZM6ehP/++970vDj300Dj00EPju9/9bnzta1+LL37xi3HHHXfEYYcdFs3NzfHEE09ErVZrNSnNnz+/bl/ZeYh482+9w4YNa1Xr3LlznHzyyXHyySfHhg0b4oQTToivfvWrccEFF0THjh19gr5UMc6jb3Iebfv8Z982Yvjw4a1+ZxIR8YMf/KDub6wnnXRS/OlPf4pbbrmlbh/PP/98vP766y3/3egjCqZOnRqvv/56fP/732+pbdy4MS699NJ3PO5nn322rrbnnntGRMRrr70WERFHHnlkLF++PH73u9+1bPPqq6/GD3/4w7o/O3z48Ljvvvtiw4YNLbXrr78+li5d2mq7tWvXtvrv9u3bx5gxY6JWq7W8386dO0dE+GR6qSKcR9/kPNr2+c1fG3HGGWfEWWedFR/60Ifi8MMPj0cffTRuueWWuuTXeeedF7/73e/iAx/4QJx++ukxceLEeOmll+Kxxx6LX/7yl7F48eKWP9PoIwqOPfbYmDRpUpx//vmxePHiGDNmTPz617+OdevWveNxX3zxxXH33XfHMcccE83NzbFq1aq4/PLLY+DAgXHAAQdExJuJtMsuuyxOPfXUOOecc6Jfv35x1VVXRceOHSOi9T9RnHHGGfHLX/4yjjrqqDjppJNiwYIF8bOf/SyGDx/e6nWPOOKI6Nu3b0yaNCn69OkTs2fPjssuuyyOOeaY6Nq1a0RETJw4MSIivvjFL8Ypp5wSO+ywQxx77LEtk5mktsV59P/Og/NoG1fTVukTn/hE7a8vz5QpU2pjx45Nt9+4cWPt85//fK1Xr161Tp061Y488sja/Pnza83NzbVp06a12vbFF1+sXXDBBbURI0bU2rdvX+vVq1dt//33r33729+ubdiwoWW7adOm1SKitmjRonc83rVr19Y++tGP1nbaaadat27dah/96EdrM2bMqEVE7cc//nHLdv/6r//a6n3dfvvtteOOO67Wv3//Wvv27Wv9+/evnXrqqbW5c+e22v/ChQtrxxxzTG3HHXesNTU11T772c/WfvWrX9Uionbfffe12vY73/lObcCAAbUOHTrUJk2aVPvzn/9cmzJlSm3KlCkt21xxxRW1yZMn13r27Fnr0KFDbfjw4bXzzjuvtm7dulb7+vKXv1wbMGBA7X3ve1/D50LS1sF51HlUuXa1Wq22ZZad0ntzySWXxGc+85lYtmxZDBgwYEsfjiRtc5xHq8nFn7YJr7zySquE3quvvhrjx4+PjRs3xty5c7fgkUnStsF5VG/xN3/aJpxwwgkxePDg2HPPPWPdunXxs5/9LJ588sm46qqrtvShSdI2wXlUb3Hxp23CkUceGT/60Y/iqquuio0bN8aYMWPi5z//eZx88slb+tAkaZvgPKq3+M++kiRJFeJz/iRJkirExZ8kSVKFuPhTiyFDhsTpp5++Wfd55ZVXRrt27WLx4sUttYMOOigOOuigzfo6krQ1cB7VtsDF31birZv7rf917NgxRo4cGZ/85CfjmWee2dKHV1lXX311XHLJJVv6MCQ1wHl06+Q8uvUx7buVufjii2Po0KHx6quvxj333BPf//7348Ybb4zHH388OnXqtKUPb7O49dZbt/QhNOzqq6+Oxx9/PM4999wtfSiSGuQ8unVxHt36uPjbyhx99NGx1157RcSb/RV79uwZ3/3ud+O3v/1tnHrqqemfeemll7apPont27ff0ocgqQ1zHpU2zX/23codcsghERGxaNGiiIg4/fTTo0uXLrFgwYKYOnVqdO3aNT784Q9HRMQbb7wRl1xySYwdOzY6duwYffr0iTPPPDOee+65Vvus1Wrxla98JQYOHBidOnWKgw8+OGbNmpW+/oIFC2LBggUNHeusWbPikEMOiR133DEGDhwYX/nKV+KNN96o2y77rcqll14aY8eOjU6dOkWPHj1ir732iquvvrrVNnfeeWfstdde0bFjxxg+fHhcccUVceGFF7ZqSL548eJo165dXHnllXWv265du7jwwgtb/vvFF1+Mc889N4YMGRIdOnSI3r17x+GHHx4PP/xwy3HecMMNsWTJkpZ/RtpUY3ZJWyfn0f/jPKoIv/nb6r01YfTs2bOl9vrrr8eRRx4ZBxxwQHz7299u+WeMM888M6688sr42Mc+Fp/+9Kdj0aJFcdlll8WMGTPij3/8Y+ywww4REfGlL30pvvKVr8TUqVNj6tSp8fDDD8cRRxwRGzZsqHv9Qw89NCKi1Q+NMytXroyDDz44Xn/99Tj//POjc+fO8YMf/KBVKyHywx/+MD796U/HiSeeGOecc068+uqrMXPmzLj//vvjtNNOi4iIGTNmxFFHHRX9+vWLiy66KDZu3BgXX3xxNDU1vfNJBGeddVb88pe/jE9+8pMxZsyYWLt2bdxzzz0xe/bsmDBhQnzxi1+MdevWxbJly+J73/teRER06dLlXb+epC3DedR5VH+lpq3Cj3/841pE1KZPn15bvXp1benSpbWf//zntZ49e9Z23HHH2rJly2q1Wq02bdq0WkTUzj///FZ//g9/+EMtImpXXXVVq/rNN9/cqr5q1apa+/bta8ccc0ztjTfeaNnuC1/4Qi0iatOmTWv155ubm2vNzc3vePznnntuLSJq999/f0tt1apVtW7dutUiorZo0aKW+pQpU2pTpkxp+e/jjjuuNnbs2E3u/9hjj6116tSptnz58pbavHnzattvv33t7cN40aJFtYio/fjHP67bR0TU/vVf/7Xlv7t161b7xCc+scnXPeaYYxp6/5K2POdR51E1xn/23cocdthh0dTUFIMGDYpTTjklunTpEtddd10MGDCg1XZnn312q/++9tpro1u3bnH44YfHmjVrWv43ceLE6NKlS9xxxx0RETF9+vTYsGFDfOpTn2r1NT/9EHfx4sXv+LfViIgbb7wx3v/+98c+++zTUmtqamr5p5RN6d69eyxbtiwefPDB9P/fuHFjTJ8+PY4//vjo379/S33EiBFx9NFHv+P+N/W6999/fzz99NPveh+Stj7Oo/WcR/V2/rPvVuY//uM/YuTIkbH99ttHnz59YtSoUfG+97Veo2+//fYxcODAVrV58+bFunXronfv3ul+V61aFRERS5YsiYiIXXbZpdX/39TUFD169HjXx71kyZLYd9996+qjRo16xz/7+c9/PqZPnx777LNPjBgxIo444og47bTTYtKkSS3H/sorr8SIESPq/mxWa9Q3v/nNmDZtWgwaNCgmTpwYU6dOjb/7u7+LYcOGvet9StrynEedR7VpLv62Mvvss09LSo106NChbiJ74403onfv3nHVVVelf+a9/Kbjb2306NExZ86cuP766+Pmm2+OX/3qV3H55ZfHl770pbjooouK9vX2v4W/3caNG+tqJ510Uhx44IFx3XXXxa233hrf+ta34hvf+Eb8+te/fk9/E5a0ZTmPOo9q01z8tRHDhw+P6dOnx6RJkzb54+Dm5uaIePNvuG//m9nq1avr0mwlmpubY968eXX1OXPmNPTnO3fuHCeffHKcfPLJsWHDhjjhhBPiq1/9alxwwQXRu3fv6NixY8yfP7/uz/117a2/dT///POt6m/9Tf2v9evXLz7+8Y/Hxz/+8Vi1alVMmDAhvvrVr7ZMWjQJSmp7nEff5Dza9vmbvzbipJNOio0bN8aXv/zluv/v9ddfb7mJDzvssNhhhx3i0ksvjVqt1rINPX290UcUTJ06Ne6777544IEHWmqrV6/Gv0G/3dq1a1v9d/v27WPMmDFRq9XiL3/5S2y33XZx2GGHxW9+85tWvyuZP39+3HTTTa3+7E477RS9evWKu+++u1X98ssvb/XfGzdujHXr1rWq9e7dO/r37x+vvfZaS61z585120lqm5xH3+Q82vb5zV8bMWXKlDjzzDPj61//ejzyyCNxxBFHxA477BDz5s2La6+9Nv793/89TjzxxGhqaop//ud/jq9//evxgQ98IKZOnRozZsyIm266KXr16lW330YfUfC5z30ufvrTn8ZRRx0V55xzTssjCpqbm2PmzJmb/LNHHHFE9O3bNyZNmhR9+vSJ2bNnx2WXXRbHHHNMdO3aNSIiLrzwwrj11ltj0qRJcfbZZ8fGjRvjsssui9122y0eeeSRVvs744wz4t/+7d/ijDPOiL322ivuvvvumDt3bqttXnzxxRg4cGCceOKJsccee0SXLl1i+vTp8eCDD8Z3vvOdlu0mTpwYv/jFL+Kf/umfYu+9944uXbrEscceu8n3I2nb5Dz6f5xH27gtGzbWW956RMGDDz64ye2mTZtW69y5M/7/P/jBD2oTJ06s7bjjjrWuXbvWdt9999rnPve52tNPP92yzcaNG2sXXXRRrV+/frUdd9yxdtBBB9Uef/zxWnNz87t+REGtVqvNnDmzNmXKlFrHjh1rAwYMqH35y1+u/dd//dc7PqLgiiuuqE2ePLnWs2fPWocOHWrDhw+vnXfeebV169a12v/tt99eGz9+fK19+/a14cOH1370ox/VPvvZz9Y6duzYaruXX3659g//8A+1bt261bp27Vo76aSTaqtWrWr1iILXXnutdt5559X22GOPWteuXWudO3eu7bHHHrXLL7+81b7Wr19fO+2002rdu3evRYSPK5C2Ys6jzqNqTLta7W3fWUvbmOOPPz5mzZqV/k5GkvTOnEerx9/8aZvxyiuvtPrvefPmxY033ljX4kiSlHMeVUSE3/xpm9GvX784/fTTY9iwYbFkyZL4/ve/H6+99lrMmDGj7nlbkqR6zqOKMPChbchRRx0V11xzTaxcuTI6dOgQ++23X3zta19zwpKkBjmPKsJv/iRJkirF3/xJkiRViIs/SZKkCmn4N3877bRTWu/QoUNap9Y42223XV0t6xcYUZ9Kesvrr7+e1vv27ZvWx44dm9ZHjhyZ1pcvX57Wn3nmmbraSy+9lG775JNPpvWsaTftOyLi0UcfTes77LBDWicl/7pPrXhoHzQG3nqwaKPWr1+f1v+6/2YEHyONgcMPPzyt03V66KGH0vqLL76Y1rNjjCgb72+88UbD+4iI6N69e1rv2bNnWn+rKf1fo3s7u8/e/tT+tyttaUXn64UXXijaz7bmk5/8ZFqn7g+zZs1K6926daurderUqehYOnfunNbpPu/YsWNap2tPHR2ycbVhw4Z0W7rP32o/9tdoLnr11VfTOs1RL7/8clrPxifdb9tvn3+89uvXL63TvECfMbQf0rt377ra5MmT023HjRuX1uk60RxF8wXNdbT9smXL6mr02fjwww+ndZpzaIzR+aV5lNYrffr0qavRnEv32MqVK9P6X/7yl7T+k5/8JK2/nd/8SZIkVYiLP0mSpApx8SdJklQhLv4kSZIqxMWfJElShTSc9qXkEqV2KKGUpbEohUPJIkqjUeKIjpHSPIsXLy46nkxpSo0SxnTspa+bnTM6X3Q9KOlKCSVKExIaM9nx0L6zZFUEp/r69++f1illuWbNmrRO6fb27dvX1SjRVpp4pLFBqUE6Z5Q0HzhwYF2t9N6jYylNq7cVzz77bFqncVV67TPZGIzga0AJQkozUkqfnsqQoWOkzx3aN9VpjqLtKXVekoDv0qVLWt9c9z+NGbquEyZMqKvRkzAoNU33P51HmnPoetN8kZ2b5ubmdNunn346rT///PNpnc4jHUuWmo7g+yM7Z3T/ln6W0mdyI/zmT5IkqUJc/EmSJFWIiz9JkqQKcfEnSZJUIS7+JEmSKqThtC8pTVdl6S1KyRBKypQmjigZSmmppqamutqcOXOKXpOStHTstD0pSYxRT0pKulHvUEqj0XuinrSUJMvShHR+qV8zpawp0UVJPUofkuw90T6oTsk4Or+0PaU4Ka2Z3Wc0Buh6lPbtbuso7Vt6r2S9Z+m+pX3QeKDUPaVUS8YP1UvvidL5kuZFSoCWzKP0PulYaAzQvUX3M/Urpv7mWb9e6jFLaF6kYy9JfEfwZ0CWsKXxTk9wKB3vtH+6Hlm/bXpdunZ0vnbeeee0TuerEX7zJ0mSVCEu/iRJkirExZ8kSVKFuPiTJEmqEBd/kiRJFdJwdJFSKJTmI1nPQEq+UOq2NKFJSUTaP6VgswTYE088kW5LCbDSxCWlpilhW9LfmN4nnd+1a9emdUoiUZKM0od0zrK+uZSsoh6+pCSRuCn0XrNzs2rVqnRbSlNSKp0SdrQf6gNJ54yua4bmB7q3S89vW0Hng3qplvRApoQqXZt169aldZqLaF4ovZbZ9qXpR0oBl/aMpv3QPJ2h9Odzzz2X1mmOputXOkcNHz48rWfzBc3p1Ku89GkHhM4vfa6VfAYMGjQorVPKmnqb03Wi+XvIkCFpveScLVu2LK3TXE/H0gi/+ZMkSaoQF3+SJEkV4uJPkiSpQlz8SZIkVUjDv0SkH/tSexFq3zR48OBGXxJ/kEw/sKUfrlObHTp2+tFw9qNsCi9kreAiIkaNGpXW6Qew99xzT1qnH+qWtNsbMWJEuu3ChQvTOv0onQI1FFYZNmxYWh8wYEBaz84xvU8KsWTtgSLKxzX9KLukLREdO7WaouAFjffS8BAdTzaG6b6mOo1TuofbOhpvJUGtiPza077p+pYGO2hepB/pU9us7Hjo/qG5uzQgQ/un80vvKTtn1DqytJUnHTsFR7J2bRER+++/f1rPggc0n1EAh4JtpcEuGu/0OZgdO4UgKHhB12PlypVpnc47BThoP9nxUFiFPgNozJQGHN/Ob/4kSZIqxMWfJElShbj4kyRJqhAXf5IkSRXi4k+SJKlCGk77UsKFUlRUz1qwUZKF6v3790/rlLylVBDtn9Kozc3NdbVdd9013ZbSvv369UvrRxxxRFqfPHlyWqcU8PLly9P6xIkT62rHHXdcui2dx759+6Z1Qu32xowZk9Z79eqV1rNkGKWiaB+USKaWZy+//HJaX7FiRVqn6z1+/Pi6GqWpr7322rROCbtddtklrdOxE0qpZW2SqEXSmjVr0jolSql9VFVR0pNa9ZW0jKLEJaUfad+0H5pHKUmaofR3aTsxSovSsdDrUlKZ5pEMjX36PCJ0nfbYY4+0Tk88yK4fpUVL26/R+aVUL70nGu/Z0wRoH3R+x44dm9YXLVqU1mleLG2jSJ9VmdKnp7yXedRv/iRJkirExZ8kSVKFuPiTJEmqEBd/kiRJFeLiT5IkqUIajlJRCoUSLiUohUMJSko5Ue9SqlMqaODAgWk9S10OHTo03ZZSapRQotTV6NGj0/ppp52W1imRV5IKyhKqm9oHJWZLxwz168x6jVIqjFKT1HuSEskf+9jH0jqNJUpjZcdO/a2p/3Bp8pB6UlIKkNJr2XVdtmxZuu3s2bPTOtkc88a2iBKghO7nbDzTPUH3YWlf69J6SZqY5ksaJ5Qup5Qq3bd0b5WkjFevXp3WS1PQdK2p5zk9aaIk3U1zN6Wg6fyW9uqmsVdy3un80nikY6enezz44INpndLB9FSGpUuX1tVo3FE6mj5f6L02wm/+JEmSKsTFnyRJUoW4+JMkSaoQF3+SJEkV4uJPkiSpQhqO1lAKhZJFJT0Ws76zEXlv0YiInXfeOa1TGpWSRZS6omPP0kW0LaVOKc1E21NijpKxdA6y60d9GilBRD0KaQwQet0XXnih4X3QeaS+tvSadP1Kk400xrJ0Jx0j9X2mY6R0JyWYCY2ZLDVc2teSzlfpmGkrKHVKKeCS3qg0xulcl87dpclCmqOy4yxNHtOx0/ml/Zc+CSK75yiJSfum3ul0b73//e9P60OGDEnrNGZofGRoDtlc8yg9fYE+B7P3RPcMnV/qy97c3JzW6UkbixcvTuvr1q1L61kSmsYvjVO6pvSajfCbP0mSpApx8SdJklQhLv4kSZIqxMWfJElShbj4kyRJqpCG076U5qN0DiWgsuQLpRYJJY4oAUqps9J+j1lCh1JhtA9K89AxlvS7jeDrlNUpSUxJrNKEEiW96HqXJMrpWGg80nkpHUuUaqNzmfXOpH6atA+qUz9NGjN0DqgXcHY96FrTmCHvpSfltoyuAc0jlIDPxlDp2C9NAdP9SdeyJF1amminY6SxT+eG6nSPZuOfemyX9GWO4Kdb7LfffmmdlHzG0LGX9kgvTe/TWCLZ69Lnd+n4pfO11157pfU5c+akdeoFnM2vvXr1Srelzx1aT70XfvMnSZJUIS7+JEmSKsTFnyRJUoW4+JMkSaoQF3+SJEkV0nDal1BShpKIPXr0qKuVpqJK+9pSKqi0L2/We5H2Qb0RaXt6ryW9PSM42Ufbl7wm9Z6kVF9J2i+Cx1J2zkr3TWOstB8qjT3qe5zVKdlJ553GBu2HxjslGEtS1nQslMos7VVZVaU9k7NrU7oPugY0/5WmK+naZ72taR+UfqT7lt4T7YfQ0xroHGRKU/r77LNPWu/WrVtap3P2t0xf075pXqTt6TqVJHKpRzqd95LP9YiInj17pvUJEyak9ZkzZ6b17DjXrFmTbkv9mkvXDY3wmz9JkqQKcfEnSZJUIS7+JEmSKsTFnyRJUoW4+JMkSaqQhiNQpf1bu3btmtb79u3b6EsWJzQpKUTbZ8njTb1uSQ9iSpfR+aIenpsrRZklnSgFSMdemtAq7b9LsutX2huWxkBJCjqiPO2a3QeUBC/tn033GI0NSvuSbBzQNaUUZOnYaOvoGpcmdbPxXNqrtzRJS/dcab/n7F6hBCzV6VjovdJ5pGOne7R0vsj0798/rVPat/QpC3TOsu0pRVraI5nS0ZsrrZ1dj9JjKdl3RMTKlSvT+q677prWqRfwjBkz6mp03mk80lz/zDPPpPVG+M2fJElShbj4kyRJqhAXf5IkSRXi4k+SJKlCXPxJkiRVSMNpX0rKvPLKK2m9c+fOab137951tdK+gKWpyNKev5To6t69e12tNAVNr0lpnvXr16f10tRgdpx0TTdHb8gITp2Vpriz/dD7L62X9p6k8U5jOOvLSeeFxhKdFzoW2j/1Al63bl1az1CCk/qP0nh/Lz0pt2X0vqle0r+VxjLNZ5TEpHuFxltJT+6IfJ4uvSfovdJnAB0LzZd0r2TXg16TPgMnTZqU1ulzqrQ3M80X2XstnXPoOu28885pnZQmdbOEeOm4pnuJ+rKX9k4eMGBAWs96/tK99Nxzz6X1QYMGpfX3wm/+JEmSKsTFnyRJUoW4+JMkSaoQF3+SJEkV0nDgg5S2Qst+1Eo/IqUfRZa2u6Ef41OYgn4wmtXpR6f0g1Y6dtq+9AfzVM/ax9GPmktb+xA6j6UtkrIfJdP4ovdPP/imY6HzTueAfnyd2Vxt7+jH2qU/zKcflGfHSdvSD77p3n755ZfTeltH75vOK8m2L2ntGFHeCq103qXjye45OpbSNpZ0P5fe5zRfZHMand+RI0em9T322COtlwbhKHhAc2B2zujYqW3Y8uXL0zrJQpIRHIah65qd99L1AV1rCtpQnc5Nr1690nrWzm/ZsmXptqXzA42xRvjNnyRJUoW4+JMkSaoQF3+SJEkV4uJPkiSpQlz8SZIkVUjDaV9KIlEihpJIWfqPUqeUcKH0E7VGoQQN7YeOJ3uvpa2NKKVa2jaM9k+JpixFRW1tSlv4ULqKUmeUAi5pS0RtgOh60GvSeyUrV65M63Rds+tHSbdSdH889dRTaZ3uD0qvZdeD0oHU3q20fV5bV5IijeDzlNVpW5q7S1ppRfD9WZpSL2kTSfMfvVe6J+g90X5oXsju3b59+6bbHnzwwWmdzldpuz1C72nRokV1tT//+c/ptjTPUQuzCRMmpPWePXumdbqulMrOPsPpvNBcRMnjtWvXpnV6GggdO7Vg69OnT11t1apVRa9Jxzh06NC03gi/+ZMkSaoQF3+SJEkV4uJPkiSpQlz8SZIkVYiLP0mSpAppOO1LCRdKjJWkXSmNRiil+vTTT6f1rl27pvWs514EJ46yJOmzzz6bbrtixYq0TsnjNWvWpHVK71KKMksWReSpq9KkMp0XSqkRSrvR8bz44ot1tZL+lZtC+1m4cGFap56MdA6yhDSlzmgfdH/QdaKxQffN6tWr03p2nUp6b0ZwsrN0zLQVNI/SfV6SftxcPdLpNenYS68ljc8MnRd6TUpL0pyz0047pXXq09rU1FRXo16948aNS+ulx0j3ECWYs1RvRMT9999fV6MnAOy7775pfe+9907r9CQImutori9dC2TofNFr0rUu7ZVNunTpUlej80Jjg+buF154oehY3s5v/iRJkirExZ8kSVKFuPiTJEmqEBd/kiRJFeLiT5IkqUIajmlRD7nHH388rVPiJqtTiozSOZR8oSQt9VKl3oCUMMuOhxJBlCCi1+zXr19apyTmunXr0vqcOXMa3n9zc3O6LaUAlyxZktYpYdy7d++0Tglb6jGbnYPSvs/Uq3LevHlpnVJUw4YNS+ujRo1K61kyjNKU1JOStqe0H903lGzM0mgReZKd0nh0jNQnm1JtbR2dD0rq0r1ISe8M3Sul45COsTTtmx07JZIJnUdCnwF77rlnWqf5OEu17rrrrum2NMazHvERfG/RfUtPt1iwYEFaz+bdiRMnpttSr176rKYEN40NmnNKerPTvukzk5LNdCw0BujJHHRPZr2fly9fnm5Ln430eZQ9CaNRfvMnSZJUIS7+JEmSKsTFnyRJUoW4+JMkSaoQF3+SJEkV0nBM68ADD0zr1EeQUitZIoZSZJRm7NGjR1qnXr3U27c01ZYlSbNejxGcsKNEEKWchgwZktYp8Txr1qy0vnTp0rSeofdE6V1Ko1ESiZJ39LpZso+S3X/84x/T+l133VX0mscdd1xa33333dN6SXKSrjUl5qhOiW+69+h6UKK0pJc1pd4pOU+9Lds6Gic0X5QkaUv6qUdwj9LSVG9pD9TsSQiUoCSUmKU0Pj3ZgD4zKE2c9Uin80X3OY0BqlN6lfrH01jKErxjxoxJt6U5hJ4mQWOMEsw051DyNvvMoD7DpeeXnjJR+jQQGpNZ2pfuJXpNOi+0DmiE3/xJkiRViIs/SZKkCnHxJ0mSVCEu/iRJkirExZ8kSVKFNBwlGzt2bFqn3oDU8zdLxJQmXyhFRv0hKeVD6TjqX5i9LiUx6VgoLUl16kdICbssWRSRnwPq1fvSSy+l9ayvZQT39qXeiNR/l857di4XLlyYbnv77ben9T322COtT5kyJa2TRx55JK3TOcuS6ZQ+p/NCiTlKPNN4p+3pPsjOO/WYHDx4cFqntPpDDz2U1ts6SgrSXEfXvqTPOKVRCc1phJ4CQInuLElKT14o7UdNKL1KdZqLsrRv6bHQfU69einVS9vTZ3U2fz/wwAPptvfee29apycG0PgtTa9SYjab06655pp024MOOiitH3300Wmdnj5B92qpLN1On9PUg57maDr2RvjNnyRJUoW4+JMkSaoQF3+SJEkV4uJPkiSpQlz8SZIkVUjDad+BAwemdUrQUDolS6RR4opSTtQHsrTHLKVdqQ/u+vXr62rUWy/bNqIsvbcplIqihFJ2nXbbbbd0W+rTWJLei+D3RGNj8eLFaX358uV1NeoxSUkvShNee+21aZ1S1jSWKFGZJWbpfJX2dy3tE01jg1LZ2f1EY2PkyJFpne5hSre3dZTIpWtJ80W2H3oKQml/VRo/1FOd9k9p1CzpSfcbjZ/S/u6UiqTzTv1esxQwHQvNOZSOpv7D9DSFLEUawdf1vvvuq6s9+uij6baUxv3Qhz6U1mk/9FmapaY39brZOaN5lPq1P/XUU2mdxgylsmnM0FMWss9NWk8tWLAgrf8t5ku/+ZMkSaoQF3+SJEkV4uJPkiSpQlz8SZIkVYiLP0mSpAppOO1LSbIRI0YU1bPUCqWlqL8i9Q1etWpVWqf0GqWxKImTpYio3y0luiiJRClASjRRf1g69iwxS2kmSmIRSjbTsdPr0jnIxseECRPSbTt16pTW6bxTeo1SrWvXrk3rdD2y+4Z67FJfR0oY03lftmxZWqc0MaWs161bV1ejnpR0remepHu+raNxRQlCuleyZCGlwuk1qf847YeebEB1StgecsghdbVsfoqImDt3blqn7WksU9J9/PjxaZ2St9n8QnM9zaP01AQaA9l9uKnt6dxkn4N0rek+px7mQ4cOLdrPgAED0jr1As8Sz/R5QeOdUtCUpqb7g+ZReuJDto6hXuh0vkrHRiP85k+SJKlCXPxJkiRViIs/SZKkCnHxJ0mSVCENBz7oh6H0w036QWP2Q+VarZZuSz+ipx/p048i6Uek1B6Hfqic/Xi/9Een9GP/F154Ia3TD+lLfwCaBVNo39Q+j641teSh/dMPbylUlAUeKMRDP0imY6TzRe2m6LxTPRvDFEoZNmxYWif0w+N99903rVNYha5HFtaYOXNmui21NqIfTdOP3ts6Otc0v5Ls3qJwCNVp3qV7iEITdG/RHHjXXXfV1Sg0QXMx1emeoPFJYRW6n7NgA21LY5+ChtSyk9rnUciCwlTZnLbrrrum29L5omOhOY0CkRRMpOuazfd0L9FnbGnQhj7b6dxQPbu3KVBEreboXn3kkUfSeiP85k+SJKlCXPxJkiRViIs/SZKkCnHxJ0mSVCEu/iRJkiqk4YgZpU0oQUgtU7J0FaXCKAFHaR5K71LqdPXq1UV1Sv9kKL1LCTBCCVhKLlHqKktLUXqPziNdJ0qp7bTTTmmd0lUk256SXqXJRjqP1FqQrivdB9mxU7s2SouVtPiK4DFG7eAo8fjMM8+k9Qy11aJ7mFKAbV1p2pdS7Vmd7s/S+bU0jU73ELX4zBK5lIClY6HXpM8GenIEpSuffvrptD569Oi6Gs0tJZ8XEZykpfmCWoHR3JW1H6N907HTMdL9TGOMPpPp+mX7obFRmpqmz1i6b+j8Uko+Q8dIdXrSBj2VohF+8ydJklQhLv4kSZIqxMWfJElShbj4kyRJqhAXf5IkSRXScNqX0lWUFKT0VpZ+3FwpnNLkS2nfyCxhR8lK2gclabMkVgQnZim9RucmS6nSsVNvSEq1UQKW0sSUUqVzkI0DOi80lihdRugc9OvXL63Tec8SYJRoI3SdqC8xXSc6RkoBZ/WS9GkEp9TGjBmT1ts66j1LdRorJYl5Gj+U6KSEJqV96V6k/q1ZH9/S5CZ9NtB7olQrpVTp3srGOX02lj6tglL9dG5oTitJQtN8SeOLXpPmEDoWOr/0XrPPBjqW0r7ElMCn7Ut7/mb7oTm6Z8+eaT3rsx7BvZkb4Td/kiRJFeLiT5IkqUJc/EmSJFWIiz9JkqQKcfEnSZJUIQ2nfSmFQkmZoUOHpvVRo0bV1WbPnp1uSwkiStUQSp1SQpFSV1mCmZJudIyUAqbXpDqdd+ovmB1P6Xmh7SmlW9rDl85ZlsijBCMdC21PaXVKqVECjFJqWSqR3iddu9JxSvcNnYOSZB+9JiUYKfFJSciqonFF1zIbK126dEm3pWQhJYzpqQmlfcYpjZm9Lo3BkicAbOo16fzSPTF48OC0ns2BdN5L5266z+kYS+eRLHlP29J5pGMs7U3dp0+ftE6fMdnnJo0ZevoEjaXSnup031DP3+wpC3S+qNf0kiVL0jo9laIRfvMnSZJUIS7+JEmSKsTFnyRJUoW4+JMkSaoQF3+SJEkV0nDkjhIxlHKkFGWWiKEUDqWiqG8wJbqoj2BpT+GSbSn5Q0mh0vQanRvq35qli+gYad+UUKKxQe+JUlq0H0q7Zeg9UW9ESpfROSB0brLrR2OAknE0BiipR31M6XXpvWZpN7pn6FgGDRqU1ul6tHWUvKV7gnrbZiidSGOzNAFL15juITr27L3StjT2aW6hpymUzvXUOz1L9pb2Kqd0dGl/59Ies9l9XnLvR/B5JDT26DrR/J1dJ7qX6P2XPsWi9AkcdP0ypespOkZa2zR0DO/6T0qSJGmb4+JPkiSpQlz8SZIkVYiLP0mSpApx8SdJklQhDad9KeVDqR1KoWSpLkq4EEpo0TFSkq60niVpSxN2lKQr6YMZwSmtkgQf7ZtSapQ4KkXXjxJQ2bmk8UVJV0rGlfS13ZSSNGFJGi+CrxONJdoP9Wyl48nqlOKnsUF1uk5tHSUUS69lNu+U9oyl607JW5rrqE8r9YPPtqfzQsdO77X0PNLTEeh+zpK39P7pM4DmotLPtdJ+5dnnLO2b5hz6rKbtqe8xzQt0DkqePEDjms775kjvlqJrR+9pp512SuvvZR71mz9JkqQKcfEnSZJUIS7+JEmSKsTFnyRJUoW4+JMkSaqQhtO+pDRhmyVxKF1GSSyqNzU1pXVKEFHiiFJBWfKM3iehYyelaeIXXnghrT/xxBN1tf79+6fbDhkypGjfdB4pNUy9KkuSZ5TEWr16dVqfN29eWqf3SmOJjp3SWFlqmJJe9J5K04GUnCzttZyNMUpB0zGuXbs2rVcV3f+lKdXsfJfORYRek5KFdN/Se12/fn3Dx0JjlsYbjX3qS0zJWLr/s3ND8yIlXenY6TzS/qn+5JNPpvVsPqbe26WfjTRmSsckbZ+9Ls2XlPalsVEyHje1n5LjofFI+6Cex0uWLEnrjfCbP0mSpApx8SdJklQhLv4kSZIqxMWfJElShbj4kyRJqpCG077UY5HSqJTgXbBgQcPbUsKFjoWSMnSMlFyktFCmpPdmBKeZKNVGdUrS3XLLLWk9S5KNGDEi3ZYSmoMHD07rpf1K6dyQbHu6dpRS69GjR1p/6KGHGn7NiIjRo0endUpvZYlZSvXRe6KUJd0HdA5o7D377LNpna5fhpKHNE4prd7W0dxCc13JHEjXixKahOY0SsbSeyrp00rvk9DYpzqdm169eqX1rl27NnwspcnY0p60dK/07du3gaP7P9OnT6+r0TxHT0GguYLOF805JU8YiMiTyvS5Q+eR3mvp2oaUrIVK50V6mgTdq43wmz9JkqQKcfEnSZJUIS7+JEmSKsTFnyRJUoU0/Ktr+nEl/XiVWttkoYw5c+ak25YGO+gH8/TjSvqxZElwpPTH1KT0R/q///3v0zr9sPnoo4+uq1F7t6effjqt0499e/bsmdbpPdGYKWkTRS15aNyNGzcurVMLuuXLl6d1+jHx0KFD03o2xuheonFK45FCJrQfCo7Qe8r2Q2Ng5syZaZ1+lD5w4MC03tbRtadxSD8Az+Y6Ct3QPEdBO1IaPKJ6NqeV/rie3hO9JgVKKKhA4ZZsrqM5mo6xU6dOaZ3uQ5pHCc3rO++8c13tvvvuS7el80JjhtpelqLP02y80+cF3WM0BkoDobR/2j5D9xLN6XTs3bt3b/g1/5rf/EmSJFWIiz9JkqQKcfEnSZJUIS7+JEmSKsTFnyRJUoU0nPal1Flpu7IsnTJhwoR02wceeCCtU9KTUAKUUjske0+UrKQkEiWLKC01f/78tP7cc8+l9RNPPDGtZ8dJKVJKo9F7pZRhaXs+SrtlY4y2pbQYpahobFBi7tFHHy3aT1anVFjpeSlJ6UbwOaDkWbaf0kQpHSO917autBUajecsAUr3bem1oeTxM888k9YpAU73RPaeaC6iYylt40Yp1dLUcHbstC29Jr1XqtPYKH0Cx+67715Xo2t67733pvX9998/rZPSp2HQuaRzkKH3T+eX7gPans47jaXseGjdVPo0gH79+qX1RvjNnyRJUoW4+JMkSaoQF3+SJEkV4uJPkiSpQlz8SZIkVUjDaV9K0JQmDkt6nZb0tdzUa1KyhtKolKzJ0lt07JQUojTTunXr0jqlfSnVS9dp9erVdbVu3bql25YmZkuTzdSrkvpprlq1qq5GiW+6dmvWrEnrTzzxRFr/4Ac/mNZ32WWXtD537ty0PmLEiLpaadqPEra0PZ0bGnu0fXZdKdlJ9yopSe+1JXSvEJq7snFe2jOWxg+hcbhy5cq0Ton5bP4uTbTT3EL3+eZ6OsDixYvraj169Ngs+6Z0NKWG165dm9afeuqptJ7d55MnT063vfbaa9P6ggUL0vro0aPTOo3f0vkim7tK55DS3umktDd7tuah8Ujnhebuzp07p/VG+M2fJElShbj4kyRJqhAXf5IkSRXi4k+SJKlCXPxJkiRVyHtO+1LqqgSlZyj9RL1IKQVM+6cEDSWUSvZNyR86RkpoUbq0a9euaZ3OzZ133llXe/jhh9Nt995777ROqTNK6VKqjZJOlDpdunRpXY3OI72n6dOnp3U6j0cddVRab25uTutZmjoiYvny5XW1nXbaKd2W+pJSGo36QVOPSUqUl/QaLu2rTdeajrGto7mF5jqaR7LzWtKPNqK85y+NnywBGxExZsyYtJ7NUfTkAbon6PNo0aJFaX3hwoVpnea6oUOHpvVsvqCEJs3FtD092eGOO+4o2n9TU1Naz/ry0tgYNWpUWp85c2Zap8+Gvn37pvXSVGt239C9ROO3VOkTTmiezu5hWjeVPj2FnljSCL/5kyRJqhAXf5IkSRXi4k+SJKlCXPxJkiRViIs/SZKkCmk47VuamKXUSrYfSp2V9q2j16TEGCnp10uJIHpPlNCkpBClrqiHZa9evdL6gAED6mpf+9rX0m0peTd+/Pi0fsghhxTth5JOlBq+77776mpZejmCe89SH8jzzjsvrdO4pmQsJeyyJCSNL0KpNkr7UZ3OLyXJsiQg7YP6NZPN8ZSAbVFpL3A6T9k4pN6+pan70v7DDz74YFrP0qUR+VihY6T7luZXSt3TfmjsZyn9iPwc0+cLJTHpiQRz5sxJ69RTedy4cWl9r732SutZUpn6A9PnTtZnPSJi1qxZaZ3GWM+ePdM6jb0sTUxzNO2D6pQ8pnu19EkF2dgrfTIJpbJL1zZv5zd/kiRJFeLiT5IkqUJc/EmSJFWIiz9JkqQKcfEnSZJUIQ2nfUlpsiZL/9C2lHChBBEluihJR70qqd9rlvKh16QkEqUlhwwZktbbt2+f1uk9UTI061VL/USvv/76tE69J6k+evTotE7mzp2b1rO+nMOGDUu3nTx5clrfb7/90vruu++e1imNRelLGqtZSo3SuHQflKZ9n3vuubROx079Nx977LG6Gp0XumfoPb2XnpTbMpq76JpRYj5LBZb2NKX7n46F0sTLli1L608++WRaz55IQOOqtJ843Sv05IjSz4YslUz3IY1xSiTTHDVy5Mi0TtePnniwYsWKuhr1Gae5gpLElPiePXt2Wqd5l95Tdl1pvNNcTNeDxgCh7amezYGUMC7dd+mTI97Ob/4kSZIqxMWfJElShbj4kyRJqhAXf5IkSRXi4k+SJKlC3nPad3OgZCwlXSm1Q0kv2p7Sa9TvsSRNR/0YKR3co0ePtE49LymNRb2Ds9eldNmee+6Z1pcsWZLW//d//zetT58+Pa2vX78+rdP1OOaYY+pqU6dOTbel5CqloiiNSmOSUoDU2za7rjS+SvsJ07Wmcdq9e/e0Tudm6dKlDe+b7j0ap+8lpbYto97b1KOT0q7Z/ELXhua/0qcj0H7oHnrooYfS+m677VZXo7mexiwdI6VXKTVNKWC6F0t6zFKdErN9+vRJ6/QZQIln+izJ5ihKxpbMZxF8P9MYmDdvXlofO3ZsWs+eJlDa75bGL409UnJPRuSfd9QfuPTzqLQP99v5zZ8kSVKFuPiTJEmqEBd/kiRJFeLiT5IkqUJc/EmSJFVIw2lfSvNQj7rNkU6hNA8ltJ5++um0Tgkl2g8lceh4MpQ6I5SApURnSc/PiDwdR6klSkVREovSwVk/4QhODffv3z+tjxgxoq5G14JSp3Qe6bxTf0xKVJakgCnVTPsgdO/17t07rdO9R71Zs7RvaRKUenWW9qFtK+ga0Hkq6QNN6V3aN83RO++8c9GxUF9nSnSuXLmyrkZJV5qLaezTnEbHSPuhBGh2zkoTl5RGpZ7KlLwdOnRoWqf5JTuXdB/SeSHZHB3BY496Aa9atSqtZ5+ndIxUpycPlPYZp6cvlDzFgdYedA9T4pvuj0ZUcwaWJEmqKBd/kiRJFeLiT5IkqUJc/EmSJFXIew58bI72TfTjffphJf2ol/ZDP+qnH9KW/Ai2tHUc/ciajnH58uVpnQIl9IPR7EfGpT+aptccMGBAWh8/fnxaP/TQQ9M6/aB87ty5dbX58+en21Lgo7QtWemYpDZU2Q97aczQvUToetB7pXZQ9CPrXXfdta5GQRjad79+/dI63R9tXWk4gOaFLMBQ2qqMjoXufwokELpXsoARtWWkOYHmLpr/SkMAJXX6rBs9enRap/uWzjuF1Qi1GcvOJc1bFF6guYsCCT179kzrWYu/CA4JZWOpNJRCc3pp+Ky0NVu2zigNm1LQ7r3wmz9JkqQKcfEnSZJUIS7+JEmSKsTFnyRJUoW4+JMkSaqQsrhMgpJkJEvWUNqGki+U6KIWPtT2jdJClN7KjrN0H5SWoiTS7Nmz0/ott9xStJ8spUYJImrJQy3lqB0UXVdK9j3zzDNpPUup0Rig8UhpNDpftP8hQ4ak9aamprSenQNq71TaQpHOL50Dah+XtXGLyJN6++23X7otpVIXL16c1kvnjbaCrmVJayjansYVpW4J3Sv0dITS/T/22GN1tUmTJqXb0nxJ75VSujTX0T1H+8/uOWpNR8dO15rS1HR/lnxOReSp/tI2Y3R+R44cmdbpvVKymVpTZuheKh0bhMY1jaWS1DDdY5Rup7FBT19ohN/8SZIkVYiLP0mSpApx8SdJklQhLv4kSZIqxMWfJElShTSc9qUkS2nPuSxxQz3xSvsGU7/Q0l6VlF7N0PunFBW9V0qLnnrqqUX7p/TPoEGDGj4WSmhS30Xq60ppqTvvvDOtU8o4S55Rwo7SZdTDl5Lg/fv3T+tHHXVUWqcxlo2P0h6TlGJfs2ZNWl+5cmVaf+qpp4r2M3z48Lra7rvv3vC2EXkf14iI+++/P623dZQApXmEErbZ3Ejjh+4rQvuhBChtT/f/ggUL6mo0b1HfcEp0EvosWbFiRVqnfrrZZwzNOYsWLUrr1NuX6nSMpU886NGjR8PbUk9uemLA3Xffndbp+tHnFz1Rgs5xpuSJFxF875X2iS7pH03HQueFzjulgxvhN3+SJEkV4uJPkiSpQlz8SZIkVYiLP0mSpApx8SdJklQhDad9S5O3pdtnSvs6UnKpNEFD6dUsAVX6Prt3757WKY1KqMfqjBkz0vqwYcPqalnv1oiIgw46KK1TAo7SpZR2o0QXHU+WgqPzRQlu6hu8cOHCtH7kkUc2fCwRPCbbt29fVytNdlIScvXq1Wmdxu/cuXOL9pP16zzwwAPTbSlRSgl8Ssa1dZtrHs2SiKU9oGn+o/1kYzmivJdqtv2SJUvSbWm+pEQnzS30nnr16pXWb7jhhrS+995719XGjBmTbktzDqVIaU6j5C31GafPzaFDh9bVSj7rIvjpCMuXL0/rP/rRj9L6hz/84bROT3HIrjelyUtSt7TvCF5PlPZUzo6HrvULL7yQ1rO+zBH82dsIv/mTJEmqEBd/kiRJFeLiT5IkqUJc/EmSJFWIiz9JkqQKaThyRwkXSoBt2LCh4YOglAz1niV0LGT27NlpvW/fvmk9O05KJ5WiFCklbAcOHJjWn3zyybSepbEo5VTaL7B3795pnc4NXe+S16WEIfWApPNIfZwHDx6c1imVmKWp6XUpZUnHSKlBSt6VJp6zvs8REffee29dbc8990y33XXXXdM6pQlL79W2jpKFJUlEmi9L049Up/u2tJdqduyUuh8/fnxapxQ5zQuUrqRjp9TlrFmz6mp///d/n25L/cGpTolOSiTTfUtPDch6BFM6mp4AQD3MsycDRPB5HzduXFqn67p+/fq62ksvvZRuS2lqQvcejV+6n0rWPHTs9GSHtWvXpnWa0xvhN3+SJEkV4uJPkiSpQlz8SZIkVYiLP0mSpApx8SdJklQhDad9KRVVmq7KUIqMUOKIEsmUoqTegA8++GBaz5KkWQopgtOPlGaivraLFy9O62vWrEnru+22W1r//e9/X1ejpBclMalO74l6TFIqkY79oYceqqvRNaUxsGzZsrQ+duzYtE6JXEqAkayPL413ShJTj2S6HlmqLyKiqakprR977LFpPTs3lC7L+oZGROyzzz5p/b30pNyWUVKQ0v40DrO5q7QnbynaP/WqJtk9SmOf0JxDY5/mC3qyA/XNveuuu+pqv/nNb9JtDzjggLROafyuXbumdXoKQmnSM0sTU5qaksd03kePHp3W6TOAejZTUjcbe5SMpfmVUtMlKV06lgj+7MmuE11TGhv0XkuP/e385k+SJKlCXPxJkiRViIs/SZKkCnHxJ0mSVCEu/iRJkirkb9bbl1KRlLDNUGqH+rdSopOSsZT+eeSRR9J61sOWkquUSKY+uIT6Nz788MNpnVKDWdLzqaeeSrcdPnx4WqdrR8mlzp07p3U6BzSWsuQ4jQE6Rkok9ujRI63TWKJewHR/ZGOYzvvSpUvTOp0X2g8l8mg/lHieNm1aXe36669Pt6V7ieaBAQMGpPWqormO0pJZyo8SraVoLNOTHWh7uuey90T3G/WvpqdPUM9U6t9Kvaf79euX1rOe6tR3lRKz9F6pXzvth+5/uhez+ZiOhe5bSlNTSpXmVxrXNH9n29O+KQVN9xh9htO4LpWND7qm9PQQGtfvhd/8SZIkVYiLP0mSpApx8SdJklQhLv4kSZIqxMWfJElShTSc9qV+dqXpSkrWZChxRMdCyVhKFlHSiRJgjz32WF3t0EMPTbelVNS8efPSepcuXdI6JWaplyrtP0s6UV9Aev90Paj/KKXg6HVfeOGFtJ4lp2l8UfK4NO1HPT/pOtF7Wr58eV1t/vz56baUJKZUH/XHpJ7Nf/rTn9I6pa+z9DGlzihhR/dkSe/vtoRSqjQvUnI7UzpHl/Zlp/FJaD9Z/1a6bx944IG0TslYetoBJaHpPdF5z1LA1Med0qh0nQj1fafPNTrv2b1Lny80X1IClt4THQvNF3T9sv3Q0wtoLqY63R/UZ5g+B+m9ZglemkfpyST0OWVvX0mSJDXExZ8kSVKFuPiTJEmqEBd/kiRJFdLwL09Lf6BNPwDNfkhKP4KmH1ZSm5bBgwen9ZEjR6b1W265Ja0PGTIkrWfviX6Mv/vuu6f1hQsXpnX6US+9JwoklJz3J554It2W0A9s6frRdaLrSiGOrHUQHQuFRkrbu9EPyjt27JjW6Ye6s2bNqqtR6yhq+UNhgP322y+t04+ys2OJiLjpppvS+i677FJXmzx5crrt7Nmz0/qMGTPSOv2gfo899kjrbQX9iJxQG8Ps/FEAiMIONK5oDqH7mYIjdK/Qe8o8+uijaf3www9P6/3790/rixcvTut0DujzLgtZ0PtZvXp1WqdQA51fmtPo/FKIIwvmUYCN3j8FDwidXxqr9F4zdC+VtnGj60fzKJ0bCj5mn4/0uUP3Kl1TCv00wm/+JEmSKsTFnyRJUoW4+JMkSaoQF3+SJEkV4uJPkiSpQhpO+5YmN0mWoKF9lx4LJQgpYUup3n333Tet33zzzXW1rl27ptvOmTMnre+///5pPWsdF8FpHkrk0XvK0sR0Hq+77rq03qdPn7ROx0itZ0rHTJbSoqQbpQOpBdO4cePSOiXJqBUQJaez46TznrWCi4g46aST0jql17J2eBERe++9d1qntGZ2P9EYoPG+cuXKtJ4liauMxlWJrI3UpuqUgKeUI+2HWoHR/rP0I93P1AbszjvvTOt0r1C6siRdGpG35aL3SW0WKRVamqYubW+WHQ9d09LWkfR5RHMRHSN9hmf3Bz1hgT6TKalMY4yeqLFgwYK0Tunu7L0+++yz6bbUErU0Ud4Iv/mTJEmqEBd/kiRJFeLiT5IkqUJc/EmSJFWIiz9JkqQKaTjtS/1bKaVGCbAsGUppKUoK0vaUOqUkIvWBpORStn1pj0LqdTp69Oi0TsdO75VSqlmP4EMPPTTdlo7x17/+dVqnJF1Jn+GIsl6KWb/fCH7/Z511VlpvampK65SievLJJ9M6Jc+am5vranfddVe67Uc/+tGG9xHBiTlKjI0aNSqtDx8+PK1nYztLO0Zwmpp6/tJ909bRNaM0H6Urs8Q8zcWlfdkpAUr7oXuOtqeUaoYSsH/4wx/S+tixY9M69cGeO3duWqfPmCztTsdI75/uIUo80zxK5536wGbzNI0v6j9M54We4EC9auk90X2Q7Z/eJz0FgVLW9Fm6dOnStD5v3ry0TucgGx90LLRuePHFF9N6aa/lVsf1rv+kJEmStjku/iRJkirExZ8kSVKFuPiTJEmqEBd/kiRJFdJw2peSLJSUoVRQlv6hVBTto3fv3mmdkpvUX5B69y1btiytZ8ko6nU6cODAtE69ZylFSr16KYlECbDsOlHikvpjLlmyJK3ffvvtaZ0S4qXpwywZRgm7I444Iq2PHDkyrVPybsWKFWmd0oF0ve+///662vHHH59uS32fKSFKiWfqBdqvX7+0Tqm5LJFG+6ZjpAQ39TGm89hWUDKe5iga59k8SglKug8JvSalUUtTvdm8TnM99XqltORNN92U1mkepc8S+gzIzg19BtB91aVLl7RO9xBdP+phS/vJrgdtS9e0NNlMY4Ce+EBjLJtH6LzQ2KCnhwwYMCCt02cszWkl6WNKWdPnzqpVq9J66Wfp2/nNnyRJUoW4+JMkSaoQF3+SJEkV4uJPkiSpQlz8SZIkVUi7GkVXJEmS1Ob4zZ8kSVKFuPiTJEmqEBd/kiRJFeLiT5IkqUJc/EmSJFWIiz9JkqQKcfEnSZJUIS7+JEmSKsTFnyRJUoX8P0wgVhUM+PjzAAAAAElFTkSuQmCC\n"
          },
          "metadata": {}
        },
        {
          "output_type": "stream",
          "name": "stdout",
          "text": [
            "\u001b[1m1/1\u001b[0m \u001b[32m━━━━━━━━━━━━━━━━━━━━\u001b[0m\u001b[37m\u001b[0m \u001b[1m0s\u001b[0m 31ms/step\n",
            "Original: fear, Model prediction: neutral\n",
            "\u001b[1m1/1\u001b[0m \u001b[32m━━━━━━━━━━━━━━━━━━━━\u001b[0m\u001b[37m\u001b[0m \u001b[1m0s\u001b[0m 31ms/step\n",
            "Original: fear, Model prediction: fear\n"
          ]
        },
        {
          "output_type": "display_data",
          "data": {
            "text/plain": [
              "<Figure size 800x400 with 2 Axes>"
            ],
            "image/png": "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\n"
          },
          "metadata": {}
        },
        {
          "output_type": "stream",
          "name": "stdout",
          "text": [
            "\u001b[1m1/1\u001b[0m \u001b[32m━━━━━━━━━━━━━━━━━━━━\u001b[0m\u001b[37m\u001b[0m \u001b[1m0s\u001b[0m 31ms/step\n",
            "Original: happy, Model prediction: happy\n",
            "\u001b[1m1/1\u001b[0m \u001b[32m━━━━━━━━━━━━━━━━━━━━\u001b[0m\u001b[37m\u001b[0m \u001b[1m0s\u001b[0m 33ms/step\n",
            "Original: happy, Model prediction: happy\n"
          ]
        },
        {
          "output_type": "display_data",
          "data": {
            "text/plain": [
              "<Figure size 800x400 with 2 Axes>"
            ],
            "image/png": "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\n"
          },
          "metadata": {}
        },
        {
          "output_type": "stream",
          "name": "stdout",
          "text": [
            "\u001b[1m1/1\u001b[0m \u001b[32m━━━━━━━━━━━━━━━━━━━━\u001b[0m\u001b[37m\u001b[0m \u001b[1m0s\u001b[0m 30ms/step\n",
            "Original: neutral, Model prediction: sad\n",
            "\u001b[1m1/1\u001b[0m \u001b[32m━━━━━━━━━━━━━━━━━━━━\u001b[0m\u001b[37m\u001b[0m \u001b[1m0s\u001b[0m 32ms/step\n",
            "Original: neutral, Model prediction: fear\n"
          ]
        },
        {
          "output_type": "display_data",
          "data": {
            "text/plain": [
              "<Figure size 800x400 with 2 Axes>"
            ],
            "image/png": "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\n"
          },
          "metadata": {}
        },
        {
          "output_type": "stream",
          "name": "stdout",
          "text": [
            "\u001b[1m1/1\u001b[0m \u001b[32m━━━━━━━━━━━━━━━━━━━━\u001b[0m\u001b[37m\u001b[0m \u001b[1m0s\u001b[0m 32ms/step\n",
            "Original: sad, Model prediction: angry\n",
            "\u001b[1m1/1\u001b[0m \u001b[32m━━━━━━━━━━━━━━━━━━━━\u001b[0m\u001b[37m\u001b[0m \u001b[1m0s\u001b[0m 33ms/step\n",
            "Original: sad, Model prediction: sad\n"
          ]
        },
        {
          "output_type": "display_data",
          "data": {
            "text/plain": [
              "<Figure size 800x400 with 2 Axes>"
            ],
            "image/png": "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\n"
          },
          "metadata": {}
        },
        {
          "output_type": "stream",
          "name": "stdout",
          "text": [
            "\u001b[1m1/1\u001b[0m \u001b[32m━━━━━━━━━━━━━━━━━━━━\u001b[0m\u001b[37m\u001b[0m \u001b[1m0s\u001b[0m 42ms/step\n",
            "Original: surprise, Model prediction: happy\n",
            "\u001b[1m1/1\u001b[0m \u001b[32m━━━━━━━━━━━━━━━━━━━━\u001b[0m\u001b[37m\u001b[0m \u001b[1m0s\u001b[0m 32ms/step\n",
            "Original: surprise, Model prediction: surprise\n"
          ]
        },
        {
          "output_type": "display_data",
          "data": {
            "text/plain": [
              "<Figure size 800x400 with 2 Axes>"
            ],
            "image/png": "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\n"
          },
          "metadata": {}
        }
      ]
    },
    {
      "cell_type": "markdown",
      "source": [
        "There are some images for which the model does not predict the correct label. This occurs because the model has not fully learned to distinguish all subtle differences between emotions. As we know, no model is perfect. To address this, the model was trained again on the same dataset. This further training, also called fine-tuning, allows the model to adjust its weights and improve its predictions. You can see that the validation accuracy starts from 0.6291, reflecting knowledge carried over from the previous training. This iterative process demonstrates that machine learning models often require refinement, and even small improvements during additional training can lead to more accurate predictions."
      ],
      "metadata": {
        "id": "OhBIZM_yDiRo"
      }
    },
    {
      "cell_type": "code",
      "source": [
        "model.fit(x_train, y_train, batch_size=120, epochs=40, validation_data=(x_test, y_test))"
      ],
      "metadata": {
        "colab": {
          "base_uri": "https://localhost:8080/"
        },
        "id": "VGQvUQThDb15",
        "outputId": "e9af2cb1-2bf6-4d4a-cec9-84274dfc3766"
      },
      "execution_count": 52,
      "outputs": [
        {
          "output_type": "stream",
          "name": "stdout",
          "text": [
            "Epoch 1/40\n",
            "\u001b[1m241/241\u001b[0m \u001b[32m━━━━━━━━━━━━━━━━━━━━\u001b[0m\u001b[37m\u001b[0m \u001b[1m12s\u001b[0m 50ms/step - accuracy: 0.7854 - loss: 0.5954 - val_accuracy: 0.6286 - val_loss: 1.0797\n",
            "Epoch 2/40\n",
            "\u001b[1m241/241\u001b[0m \u001b[32m━━━━━━━━━━━━━━━━━━━━\u001b[0m\u001b[37m\u001b[0m \u001b[1m12s\u001b[0m 50ms/step - accuracy: 0.7880 - loss: 0.5987 - val_accuracy: 0.6305 - val_loss: 1.0925\n",
            "Epoch 3/40\n",
            "\u001b[1m241/241\u001b[0m \u001b[32m━━━━━━━━━━━━━━━━━━━━\u001b[0m\u001b[37m\u001b[0m \u001b[1m12s\u001b[0m 49ms/step - accuracy: 0.7832 - loss: 0.6150 - val_accuracy: 0.6322 - val_loss: 1.0827\n",
            "Epoch 4/40\n",
            "\u001b[1m241/241\u001b[0m \u001b[32m━━━━━━━━━━━━━━━━━━━━\u001b[0m\u001b[37m\u001b[0m \u001b[1m12s\u001b[0m 49ms/step - accuracy: 0.7889 - loss: 0.5995 - val_accuracy: 0.6395 - val_loss: 1.0665\n",
            "Epoch 5/40\n",
            "\u001b[1m241/241\u001b[0m \u001b[32m━━━━━━━━━━━━━━━━━━━━\u001b[0m\u001b[37m\u001b[0m \u001b[1m12s\u001b[0m 49ms/step - accuracy: 0.7889 - loss: 0.5881 - val_accuracy: 0.6386 - val_loss: 1.0654\n",
            "Epoch 6/40\n",
            "\u001b[1m241/241\u001b[0m \u001b[32m━━━━━━━━━━━━━━━━━━━━\u001b[0m\u001b[37m\u001b[0m \u001b[1m12s\u001b[0m 48ms/step - accuracy: 0.7921 - loss: 0.5979 - val_accuracy: 0.6347 - val_loss: 1.0719\n",
            "Epoch 7/40\n",
            "\u001b[1m241/241\u001b[0m \u001b[32m━━━━━━━━━━━━━━━━━━━━\u001b[0m\u001b[37m\u001b[0m \u001b[1m12s\u001b[0m 49ms/step - accuracy: 0.7968 - loss: 0.5813 - val_accuracy: 0.6335 - val_loss: 1.0665\n",
            "Epoch 8/40\n",
            "\u001b[1m241/241\u001b[0m \u001b[32m━━━━━━━━━━━━━━━━━━━━\u001b[0m\u001b[37m\u001b[0m \u001b[1m12s\u001b[0m 49ms/step - accuracy: 0.7960 - loss: 0.5805 - val_accuracy: 0.6349 - val_loss: 1.0831\n",
            "Epoch 9/40\n",
            "\u001b[1m241/241\u001b[0m \u001b[32m━━━━━━━━━━━━━━━━━━━━\u001b[0m\u001b[37m\u001b[0m \u001b[1m12s\u001b[0m 49ms/step - accuracy: 0.7966 - loss: 0.5870 - val_accuracy: 0.6322 - val_loss: 1.0725\n",
            "Epoch 10/40\n",
            "\u001b[1m241/241\u001b[0m \u001b[32m━━━━━━━━━━━━━━━━━━━━\u001b[0m\u001b[37m\u001b[0m \u001b[1m12s\u001b[0m 49ms/step - accuracy: 0.7918 - loss: 0.5864 - val_accuracy: 0.6286 - val_loss: 1.1100\n",
            "Epoch 11/40\n",
            "\u001b[1m241/241\u001b[0m \u001b[32m━━━━━━━━━━━━━━━━━━━━\u001b[0m\u001b[37m\u001b[0m \u001b[1m12s\u001b[0m 49ms/step - accuracy: 0.7934 - loss: 0.5859 - val_accuracy: 0.6371 - val_loss: 1.0860\n",
            "Epoch 12/40\n",
            "\u001b[1m241/241\u001b[0m \u001b[32m━━━━━━━━━━━━━━━━━━━━\u001b[0m\u001b[37m\u001b[0m \u001b[1m12s\u001b[0m 49ms/step - accuracy: 0.7909 - loss: 0.5918 - val_accuracy: 0.6340 - val_loss: 1.0754\n",
            "Epoch 13/40\n",
            "\u001b[1m241/241\u001b[0m \u001b[32m━━━━━━━━━━━━━━━━━━━━\u001b[0m\u001b[37m\u001b[0m \u001b[1m12s\u001b[0m 49ms/step - accuracy: 0.7965 - loss: 0.5810 - val_accuracy: 0.6377 - val_loss: 1.0743\n",
            "Epoch 14/40\n",
            "\u001b[1m241/241\u001b[0m \u001b[32m━━━━━━━━━━━━━━━━━━━━\u001b[0m\u001b[37m\u001b[0m \u001b[1m12s\u001b[0m 49ms/step - accuracy: 0.8027 - loss: 0.5716 - val_accuracy: 0.6335 - val_loss: 1.0627\n",
            "Epoch 15/40\n",
            "\u001b[1m241/241\u001b[0m \u001b[32m━━━━━━━━━━━━━━━━━━━━\u001b[0m\u001b[37m\u001b[0m \u001b[1m12s\u001b[0m 49ms/step - accuracy: 0.8020 - loss: 0.5565 - val_accuracy: 0.6384 - val_loss: 1.1095\n",
            "Epoch 16/40\n",
            "\u001b[1m241/241\u001b[0m \u001b[32m━━━━━━━━━━━━━━━━━━━━\u001b[0m\u001b[37m\u001b[0m \u001b[1m12s\u001b[0m 49ms/step - accuracy: 0.7984 - loss: 0.5810 - val_accuracy: 0.6292 - val_loss: 1.0901\n",
            "Epoch 17/40\n",
            "\u001b[1m241/241\u001b[0m \u001b[32m━━━━━━━━━━━━━━━━━━━━\u001b[0m\u001b[37m\u001b[0m \u001b[1m12s\u001b[0m 49ms/step - accuracy: 0.7971 - loss: 0.5706 - val_accuracy: 0.6296 - val_loss: 1.0826\n",
            "Epoch 18/40\n",
            "\u001b[1m241/241\u001b[0m \u001b[32m━━━━━━━━━━━━━━━━━━━━\u001b[0m\u001b[37m\u001b[0m \u001b[1m12s\u001b[0m 49ms/step - accuracy: 0.8031 - loss: 0.5693 - val_accuracy: 0.6322 - val_loss: 1.0913\n",
            "Epoch 19/40\n",
            "\u001b[1m241/241\u001b[0m \u001b[32m━━━━━━━━━━━━━━━━━━━━\u001b[0m\u001b[37m\u001b[0m \u001b[1m12s\u001b[0m 49ms/step - accuracy: 0.8022 - loss: 0.5683 - val_accuracy: 0.6327 - val_loss: 1.0746\n",
            "Epoch 20/40\n",
            "\u001b[1m241/241\u001b[0m \u001b[32m━━━━━━━━━━━━━━━━━━━━\u001b[0m\u001b[37m\u001b[0m \u001b[1m12s\u001b[0m 49ms/step - accuracy: 0.7998 - loss: 0.5673 - val_accuracy: 0.6376 - val_loss: 1.0955\n",
            "Epoch 21/40\n",
            "\u001b[1m241/241\u001b[0m \u001b[32m━━━━━━━━━━━━━━━━━━━━\u001b[0m\u001b[37m\u001b[0m \u001b[1m12s\u001b[0m 49ms/step - accuracy: 0.8069 - loss: 0.5522 - val_accuracy: 0.6322 - val_loss: 1.1088\n",
            "Epoch 22/40\n",
            "\u001b[1m241/241\u001b[0m \u001b[32m━━━━━━━━━━━━━━━━━━━━\u001b[0m\u001b[37m\u001b[0m \u001b[1m12s\u001b[0m 49ms/step - accuracy: 0.8041 - loss: 0.5580 - val_accuracy: 0.6327 - val_loss: 1.0934\n",
            "Epoch 23/40\n",
            "\u001b[1m241/241\u001b[0m \u001b[32m━━━━━━━━━━━━━━━━━━━━\u001b[0m\u001b[37m\u001b[0m \u001b[1m12s\u001b[0m 49ms/step - accuracy: 0.8051 - loss: 0.5654 - val_accuracy: 0.6279 - val_loss: 1.0800\n",
            "Epoch 24/40\n",
            "\u001b[1m241/241\u001b[0m \u001b[32m━━━━━━━━━━━━━━━━━━━━\u001b[0m\u001b[37m\u001b[0m \u001b[1m12s\u001b[0m 49ms/step - accuracy: 0.8097 - loss: 0.5397 - val_accuracy: 0.6323 - val_loss: 1.0771\n",
            "Epoch 25/40\n",
            "\u001b[1m241/241\u001b[0m \u001b[32m━━━━━━━━━━━━━━━━━━━━\u001b[0m\u001b[37m\u001b[0m \u001b[1m12s\u001b[0m 49ms/step - accuracy: 0.8065 - loss: 0.5541 - val_accuracy: 0.6342 - val_loss: 1.0828\n",
            "Epoch 26/40\n",
            "\u001b[1m241/241\u001b[0m \u001b[32m━━━━━━━━━━━━━━━━━━━━\u001b[0m\u001b[37m\u001b[0m \u001b[1m12s\u001b[0m 49ms/step - accuracy: 0.8071 - loss: 0.5470 - val_accuracy: 0.6254 - val_loss: 1.0963\n",
            "Epoch 27/40\n",
            "\u001b[1m241/241\u001b[0m \u001b[32m━━━━━━━━━━━━━━━━━━━━\u001b[0m\u001b[37m\u001b[0m \u001b[1m12s\u001b[0m 49ms/step - accuracy: 0.8081 - loss: 0.5444 - val_accuracy: 0.6305 - val_loss: 1.0944\n",
            "Epoch 28/40\n",
            "\u001b[1m241/241\u001b[0m \u001b[32m━━━━━━━━━━━━━━━━━━━━\u001b[0m\u001b[37m\u001b[0m \u001b[1m12s\u001b[0m 49ms/step - accuracy: 0.8133 - loss: 0.5472 - val_accuracy: 0.6269 - val_loss: 1.0889\n",
            "Epoch 29/40\n",
            "\u001b[1m241/241\u001b[0m \u001b[32m━━━━━━━━━━━━━━━━━━━━\u001b[0m\u001b[37m\u001b[0m \u001b[1m12s\u001b[0m 49ms/step - accuracy: 0.8113 - loss: 0.5464 - val_accuracy: 0.6357 - val_loss: 1.0861\n",
            "Epoch 30/40\n",
            "\u001b[1m241/241\u001b[0m \u001b[32m━━━━━━━━━━━━━━━━━━━━\u001b[0m\u001b[37m\u001b[0m \u001b[1m12s\u001b[0m 49ms/step - accuracy: 0.8022 - loss: 0.5578 - val_accuracy: 0.6347 - val_loss: 1.0838\n",
            "Epoch 31/40\n",
            "\u001b[1m241/241\u001b[0m \u001b[32m━━━━━━━━━━━━━━━━━━━━\u001b[0m\u001b[37m\u001b[0m \u001b[1m12s\u001b[0m 49ms/step - accuracy: 0.8129 - loss: 0.5451 - val_accuracy: 0.6320 - val_loss: 1.0732\n",
            "Epoch 32/40\n",
            "\u001b[1m241/241\u001b[0m \u001b[32m━━━━━━━━━━━━━━━━━━━━\u001b[0m\u001b[37m\u001b[0m \u001b[1m12s\u001b[0m 49ms/step - accuracy: 0.8081 - loss: 0.5467 - val_accuracy: 0.6326 - val_loss: 1.1261\n",
            "Epoch 33/40\n",
            "\u001b[1m241/241\u001b[0m \u001b[32m━━━━━━━━━━━━━━━━━━━━\u001b[0m\u001b[37m\u001b[0m \u001b[1m12s\u001b[0m 49ms/step - accuracy: 0.8130 - loss: 0.5319 - val_accuracy: 0.6360 - val_loss: 1.1011\n",
            "Epoch 34/40\n",
            "\u001b[1m241/241\u001b[0m \u001b[32m━━━━━━━━━━━━━━━━━━━━\u001b[0m\u001b[37m\u001b[0m \u001b[1m12s\u001b[0m 49ms/step - accuracy: 0.8195 - loss: 0.5222 - val_accuracy: 0.6333 - val_loss: 1.1024\n",
            "Epoch 35/40\n",
            "\u001b[1m241/241\u001b[0m \u001b[32m━━━━━━━━━━━━━━━━━━━━\u001b[0m\u001b[37m\u001b[0m \u001b[1m12s\u001b[0m 49ms/step - accuracy: 0.8114 - loss: 0.5453 - val_accuracy: 0.6299 - val_loss: 1.1015\n",
            "Epoch 36/40\n",
            "\u001b[1m241/241\u001b[0m \u001b[32m━━━━━━━━━━━━━━━━━━━━\u001b[0m\u001b[37m\u001b[0m \u001b[1m12s\u001b[0m 49ms/step - accuracy: 0.8128 - loss: 0.5433 - val_accuracy: 0.6349 - val_loss: 1.1250\n",
            "Epoch 37/40\n",
            "\u001b[1m241/241\u001b[0m \u001b[32m━━━━━━━━━━━━━━━━━━━━\u001b[0m\u001b[37m\u001b[0m \u001b[1m12s\u001b[0m 49ms/step - accuracy: 0.8151 - loss: 0.5342 - val_accuracy: 0.6340 - val_loss: 1.0930\n",
            "Epoch 38/40\n",
            "\u001b[1m241/241\u001b[0m \u001b[32m━━━━━━━━━━━━━━━━━━━━\u001b[0m\u001b[37m\u001b[0m \u001b[1m12s\u001b[0m 49ms/step - accuracy: 0.8153 - loss: 0.5501 - val_accuracy: 0.6329 - val_loss: 1.0789\n",
            "Epoch 39/40\n",
            "\u001b[1m241/241\u001b[0m \u001b[32m━━━━━━━━━━━━━━━━━━━━\u001b[0m\u001b[37m\u001b[0m \u001b[1m12s\u001b[0m 49ms/step - accuracy: 0.8163 - loss: 0.5278 - val_accuracy: 0.6337 - val_loss: 1.1117\n",
            "Epoch 40/40\n",
            "\u001b[1m241/241\u001b[0m \u001b[32m━━━━━━━━━━━━━━━━━━━━\u001b[0m\u001b[37m\u001b[0m \u001b[1m12s\u001b[0m 49ms/step - accuracy: 0.8177 - loss: 0.5219 - val_accuracy: 0.6344 - val_loss: 1.1053\n"
          ]
        },
        {
          "output_type": "execute_result",
          "data": {
            "text/plain": [
              "<keras.src.callbacks.history.History at 0x7dad15082d50>"
            ]
          },
          "metadata": {},
          "execution_count": 52
        }
      ]
    },
    {
      "cell_type": "code",
      "source": [
        "\n",
        "model.save('emotiondetector.keras')\n"
      ],
      "metadata": {
        "id": "YkaInBScIeWj"
      },
      "execution_count": 53,
      "outputs": []
    },
    {
      "cell_type": "code",
      "source": [
        "import matplotlib.pyplot as plt\n",
        "\n",
        "# Sample 1 image per emotion\n",
        "samples = validation.groupby('label').apply(lambda x: x.sample(1)).reset_index(drop=True)\n",
        "\n",
        "# Create a single figure to show all emotions\n",
        "plt.figure(figsize=(14, 5))\n",
        "\n",
        "for i, row in enumerate(samples.itertuples()):\n",
        "    img = ef(row.image)  # preprocess image\n",
        "    pred_label = label_names[model.predict(img).argmax()]\n",
        "\n",
        "    print(f\"Original: {row.label}, Model prediction: {pred_label}\")\n",
        "\n",
        "    plt.subplot(1, len(samples), i+1)\n",
        "    plt.imshow(img.reshape(48, 48), cmap='gray')\n",
        "    plt.title(f\"{row.label}\\nPred: {pred_label}\")\n",
        "    plt.axis('off')\n",
        "\n",
        "plt.tight_layout()\n",
        "plt.show()\n"
      ],
      "metadata": {
        "colab": {
          "base_uri": "https://localhost:8080/",
          "height": 560
        },
        "id": "9CMAOT_xIifb",
        "outputId": "fb41ffd0-ee55-4b33-de75-68e3956496a5"
      },
      "execution_count": 73,
      "outputs": [
        {
          "output_type": "stream",
          "name": "stdout",
          "text": [
            "\u001b[1m1/1\u001b[0m \u001b[32m━━━━━━━━━━━━━━━━━━━━\u001b[0m\u001b[37m\u001b[0m \u001b[1m0s\u001b[0m 36ms/step\n",
            "Original: angry, Model prediction: angry\n",
            "\u001b[1m1/1\u001b[0m \u001b[32m━━━━━━━━━━━━━━━━━━━━\u001b[0m\u001b[37m\u001b[0m \u001b[1m0s\u001b[0m 31ms/step\n"
          ]
        },
        {
          "output_type": "stream",
          "name": "stderr",
          "text": [
            "/tmp/ipython-input-556132324.py:4: DeprecationWarning: DataFrameGroupBy.apply operated on the grouping columns. This behavior is deprecated, and in a future version of pandas the grouping columns will be excluded from the operation. Either pass `include_groups=False` to exclude the groupings or explicitly select the grouping columns after groupby to silence this warning.\n",
            "  samples = validation.groupby('label').apply(lambda x: x.sample(1)).reset_index(drop=True)\n"
          ]
        },
        {
          "output_type": "stream",
          "name": "stdout",
          "text": [
            "Original: disgust, Model prediction: disgust\n",
            "\u001b[1m1/1\u001b[0m \u001b[32m━━━━━━━━━━━━━━━━━━━━\u001b[0m\u001b[37m\u001b[0m \u001b[1m0s\u001b[0m 44ms/step\n",
            "Original: fear, Model prediction: fear\n",
            "\u001b[1m1/1\u001b[0m \u001b[32m━━━━━━━━━━━━━━━━━━━━\u001b[0m\u001b[37m\u001b[0m \u001b[1m0s\u001b[0m 33ms/step\n",
            "Original: happy, Model prediction: happy\n",
            "\u001b[1m1/1\u001b[0m \u001b[32m━━━━━━━━━━━━━━━━━━━━\u001b[0m\u001b[37m\u001b[0m \u001b[1m0s\u001b[0m 32ms/step\n",
            "Original: neutral, Model prediction: neutral\n",
            "\u001b[1m1/1\u001b[0m \u001b[32m━━━━━━━━━━━━━━━━━━━━\u001b[0m\u001b[37m\u001b[0m \u001b[1m0s\u001b[0m 35ms/step\n",
            "Original: sad, Model prediction: sad\n",
            "\u001b[1m1/1\u001b[0m \u001b[32m━━━━━━━━━━━━━━━━━━━━\u001b[0m\u001b[37m\u001b[0m \u001b[1m0s\u001b[0m 35ms/step\n",
            "Original: surprise, Model prediction: surprise\n"
          ]
        },
        {
          "output_type": "display_data",
          "data": {
            "text/plain": [
              "<Figure size 1400x500 with 7 Axes>"
            ],
            "image/png": "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\n"
          },
          "metadata": {}
        }
      ]
    },
    {
      "cell_type": "markdown",
      "source": [
        "The model still has room for improvement, but for now, we will evaluate its accuracy."
      ],
      "metadata": {
        "id": "uwoc4o4EI9p8"
      }
    },
    {
      "cell_type": "code",
      "source": [
        "loss, accuracy = model.evaluate(x_test, y_test)\n",
        "print(f\"Accuracy: {accuracy*100:.2f}%\")\n"
      ],
      "metadata": {
        "colab": {
          "base_uri": "https://localhost:8080/"
        },
        "id": "2k9FmJMkJQJs",
        "outputId": "aa1365ce-0e72-45e8-ff6b-eb5a389c356f"
      },
      "execution_count": 74,
      "outputs": [
        {
          "output_type": "stream",
          "name": "stdout",
          "text": [
            "\u001b[1m221/221\u001b[0m \u001b[32m━━━━━━━━━━━━━━━━━━━━\u001b[0m\u001b[37m\u001b[0m \u001b[1m1s\u001b[0m 6ms/step - accuracy: 0.5857 - loss: 1.2303\n",
            "Accuracy: 63.44%\n"
          ]
        }
      ]
    },
    {
      "cell_type": "markdown",
      "source": [
        "I recommend using a different dataset and implementing a more advanced CNN model for improved performance."
      ],
      "metadata": {
        "id": "F067zWfsN1TY"
      }
    }
  ]
}
